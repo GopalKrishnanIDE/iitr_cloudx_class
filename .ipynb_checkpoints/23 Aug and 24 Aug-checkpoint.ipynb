{
 "cells": [
  {
   "cell_type": "code",
   "execution_count": null,
   "metadata": {},
   "outputs": [],
   "source": [
    "List = [1,[2,3],4]"
   ]
  },
  {
   "cell_type": "code",
   "execution_count": null,
   "metadata": {},
   "outputs": [],
   "source": [
    "type (List[1])"
   ]
  },
  {
   "cell_type": "code",
   "execution_count": null,
   "metadata": {},
   "outputs": [],
   "source": [
    "type(List[1])==list"
   ]
  },
  {
   "cell_type": "code",
   "execution_count": null,
   "metadata": {},
   "outputs": [],
   "source": [
    "def flatten_nested_list(A):\n",
    "    c=[]\n",
    "    print(A)\n",
    "    for e in A:\n",
    "        if(type(e)==list):\n",
    "            c.extend(flatten_nested_list(e))\n",
    "        else: \n",
    "            c.append(e)\n",
    "        print(c)\n",
    "    return c"
   ]
  },
  {
   "cell_type": "code",
   "execution_count": null,
   "metadata": {},
   "outputs": [],
   "source": [
    "flatten_nested_list([1,[2,[3,6],3],[4],5])"
   ]
  },
  {
   "cell_type": "code",
   "execution_count": null,
   "metadata": {},
   "outputs": [],
   "source": [
    "def sum_of_the_tree(A):\n",
    "    sum=0\n",
    "    for e in A:\n",
    "        if(type(e)==list):\n",
    "            sum=sum+sum_of_the_tree(e)\n",
    "        else:\n",
    "            sum=sum+e\n",
    "    return sum\n",
    "            \n",
    "    "
   ]
  },
  {
   "cell_type": "code",
   "execution_count": null,
   "metadata": {},
   "outputs": [],
   "source": [
    "sum_of_the_tree([1,2,3,4])"
   ]
  },
  {
   "cell_type": "code",
   "execution_count": null,
   "metadata": {},
   "outputs": [],
   "source": [
    "#lsp\n",
    "def mylsp(A):\n",
    "    if type (A)!=list:\n",
    "        return A \n",
    "    op= A[0]\n",
    "    v1=mylsp(A[1])\n",
    "    v2=mylsp(A[2])\n",
    "    if op=='+':\n",
    "        return v1+v2\n",
    "    if op=='-':\n",
    "        return v1-v2\n",
    "    if op=='/':\n",
    "        return v1/v2\n",
    "    if op =='*':\n",
    "        return v1*v2\n",
    "    if op =='^':\n",
    "        return v1**v2\n",
    "    return 0"
   ]
  },
  {
   "cell_type": "markdown",
   "metadata": {},
   "source": [
    "# increase the arguments\n",
    "Home Work:\n",
    "    1. Include more operators: \"sqrt\", \"log\", \n",
    "    2. Let the number of arguments be a function of operator, \n",
    "        e.g. for \"+\" and \"*\", there can be many arguments, in case of \"-\" and \"/\", there can be only two arguments\n",
    "        in case of \"sqrt\", there will only one argument"
   ]
  },
  {
   "cell_type": "code",
   "execution_count": null,
   "metadata": {},
   "outputs": [],
   "source": [
    "def mycalc(parameter):\n",
    "    print(parameter)\n",
    "    print(type(parameter))\n",
    "    if type(parameter) is not list:\n",
    "        return parameter\n",
    "      \n",
    "    exp = parameter[0]\n",
    "    print(exp)\n",
    "    \n",
    "    if exp =='+':\n",
    "        sum = 0\n",
    "        for a in parameter[1:]:\n",
    "            print(sum)\n",
    "            if (type(a) is not list):\n",
    "                sum = sum+a\n",
    "            else: \n",
    "                sum = sum + mycalc(a)\n",
    "        return sum\n",
    "    if exp =='*':\n",
    "        mult = 1\n",
    "        for a in parameter[1:]:\n",
    "            print(mult)\n",
    "            if (type(a) is not list):\n",
    "                mult = mult*a\n",
    "            else: \n",
    "                mult = mult*mycalc(a)\n",
    "        return mult\n",
    "    \n",
    "    if exp == '-':\n",
    "        sub=0\n",
    "        for a in parameter[1:]:\n",
    "            print(sub)\n",
    "            if(type(a) is not list):\n",
    "                sub=a-sub\n",
    "            else:\n",
    "                sub=mycalc(a)-sub           \n",
    "        return -sub\n",
    "    if exp == '/':\n",
    "        div=1\n",
    "        mul=1\n",
    "        for a in parameter[1:]:\n",
    "            print(div)\n",
    "            if(type(a) is not list):\n",
    "                div=div*(a**mul)\n",
    "                mul=mul*-1\n",
    "            else:\n",
    "                div=div/mycalc(a)\n",
    "                mul=mul*-1\n",
    "        return div\n",
    "    if exp=='^':\n",
    "        if type(parameter[1])!=list:\n",
    "            powe=parameter[1]\n",
    "        else :\n",
    "            powe = mycalc(parameter[1])\n",
    "        if type(parameter[2])!=list:\n",
    "            raise_1=parameter[2]\n",
    "        else :\n",
    "            raise_1 = mycalc(parameter[2])\n",
    "        \n",
    "        return powe**raise_1\n",
    "c\n",
    "      \n",
    "        "
   ]
  },
  {
   "cell_type": "code",
   "execution_count": null,
   "metadata": {
    "scrolled": true
   },
   "outputs": [],
   "source": [
    "mycalc(['log',['log',100]])"
   ]
  },
  {
   "cell_type": "code",
   "execution_count": null,
   "metadata": {},
   "outputs": [],
   "source": [
    "mylsp([\"*\",2,[\"+\",2,3]])"
   ]
  },
  {
   "cell_type": "code",
   "execution_count": null,
   "metadata": {},
   "outputs": [],
   "source": [
    "a = [1,2,3,10,-5,2,1,6]\n",
    "pivot = 4\n",
    "def keyf(num):\n",
    "    return abs(num-pivot)"
   ]
  },
  {
   "cell_type": "code",
   "execution_count": null,
   "metadata": {},
   "outputs": [],
   "source": [
    "a.sort(key=keyf)\n",
    "a"
   ]
  },
  {
   "cell_type": "code",
   "execution_count": null,
   "metadata": {},
   "outputs": [],
   "source": [
    "1+1"
   ]
  },
  {
   "cell_type": "code",
   "execution_count": null,
   "metadata": {},
   "outputs": [],
   "source": [
    "points=[(1,2),(4,5),(6,7),(1,1),(2,1)]\n",
    "point=(3,4)\n",
    "# sort the points based on their distances from our point "
   ]
  },
  {
   "cell_type": "code",
   "execution_count": null,
   "metadata": {},
   "outputs": [],
   "source": [
    "def keyf(p):\n",
    "    d= (p[0]-point[0])**2 + (p[1]-point[1])**2 \n",
    "    print(f\"{point}<>{p}:{d}\")\n",
    "    return d"
   ]
  },
  {
   "cell_type": "code",
   "execution_count": null,
   "metadata": {},
   "outputs": [],
   "source": [
    "points.sort(key=keyf)"
   ]
  },
  {
   "cell_type": "code",
   "execution_count": null,
   "metadata": {},
   "outputs": [],
   "source": [
    "points"
   ]
  },
  {
   "cell_type": "markdown",
   "metadata": {},
   "source": [
    "#Aug 24"
   ]
  },
  {
   "cell_type": "code",
   "execution_count": null,
   "metadata": {},
   "outputs": [],
   "source": [
    "def is_palindrome(arr,start,end):\n",
    "    if start>=end:\n",
    "        return True\n",
    "    if arr[start]==arr[end]:\n",
    "        return is_palindrome(arr,start+1,end-1)\n",
    "    \n",
    "    return False"
   ]
  },
  {
   "cell_type": "code",
   "execution_count": null,
   "metadata": {},
   "outputs": [],
   "source": [
    "is_palindrome([1,2,1],0,2)"
   ]
  },
  {
   "cell_type": "code",
   "execution_count": null,
   "metadata": {},
   "outputs": [],
   "source": [
    "pwd"
   ]
  },
  {
   "cell_type": "code",
   "execution_count": null,
   "metadata": {},
   "outputs": [],
   "source": []
  },
  {
   "cell_type": "code",
   "execution_count": null,
   "metadata": {},
   "outputs": [],
   "source": []
  },
  {
   "cell_type": "code",
   "execution_count": null,
   "metadata": {},
   "outputs": [],
   "source": [
    "\n",
    "txt=open('/home/gopal150319905345/mbox-short.txt')\n",
    "import re\n",
    "ch=re.findall(\"[0-9a-zA-Z]\",\"this is all good task. but this** is %$ great\")\n",
    "dic={}\n",
    "for c in ch:\n",
    "    if (c in dic):\n",
    "        dic[c]+=1\n",
    "    else:\n",
    "        dic[c]=1\n",
    "\n",
    "print(dic)"
   ]
  },
  {
   "cell_type": "code",
   "execution_count": null,
   "metadata": {},
   "outputs": [],
   "source": [
    "import re\n",
    "def word_count(txt):\n",
    "    words=txt.split()\n",
    "    tally={}\n",
    "    for word in words:\n",
    "        word=word.lower()\n",
    "        matches=re.findall('[a-zA-Z]+',word)\n",
    "        if matches:\n",
    "            tally[matches[0]]=tally.get(matches[0],0)+1\n",
    "    return tally"
   ]
  },
  {
   "cell_type": "code",
   "execution_count": null,
   "metadata": {},
   "outputs": [],
   "source": [
    "sort_=list(tally.items())\n",
    "sort_.sort(key=keyf)\n",
    "sort_"
   ]
  },
  {
   "cell_type": "code",
   "execution_count": null,
   "metadata": {},
   "outputs": [],
   "source": [
    "tup=tally.items()\n",
    "def keyf(tup):\n",
    "    return -tup[1]"
   ]
  },
  {
   "cell_type": "code",
   "execution_count": null,
   "metadata": {},
   "outputs": [],
   "source": [
    "tally=word_count(\"mary had a litte lamb, little lamb. london bridge london bridge\")"
   ]
  },
  {
   "cell_type": "code",
   "execution_count": null,
   "metadata": {},
   "outputs": [],
   "source": [
    "txt=\"mary had a litte lamb, little lamb. London Bridge london bridge\""
   ]
  },
  {
   "cell_type": "code",
   "execution_count": null,
   "metadata": {},
   "outputs": [],
   "source": [
    "words=txt.split()"
   ]
  },
  {
   "cell_type": "code",
   "execution_count": null,
   "metadata": {},
   "outputs": [],
   "source": [
    "words"
   ]
  },
  {
   "cell_type": "code",
   "execution_count": null,
   "metadata": {},
   "outputs": [],
   "source": [
    "for word in words:\n",
    "    word=word.lower()\n",
    "    word=re.findall('[a-zA-Z]+',word)\n",
    "    print (word)"
   ]
  },
  {
   "cell_type": "code",
   "execution_count": null,
   "metadata": {},
   "outputs": [],
   "source": [
    "if word in tally"
   ]
  },
  {
   "cell_type": "code",
   "execution_count": null,
   "metadata": {},
   "outputs": [],
   "source": [
    "import re\n",
    "\n",
    "def word_count_sorted(txt):\n",
    "    # Extract words and normalize\n",
    "    words = re.findall('[a-zA-Z]+', txt.lower())\n",
    "    \n",
    "    # Sort the words\n",
    "    words.sort()\n",
    "    \n",
    "    # Count consecutive duplicates\n",
    "    tally = []\n",
    "    prev = None\n",
    "    count = 0\n",
    "    for word in words:\n",
    "        print(word,words)\n",
    "        if word == prev:\n",
    "            count += 1\n",
    "        else:\n",
    "            if prev is not None:\n",
    "                tally.append((prev, count))\n",
    "            prev = word\n",
    "            count = 1\n",
    "            print(tally)\n",
    "    if prev is not None:\n",
    "        tally.append((prev, count))\n",
    "    \n",
    "    return tally\n",
    "    "
   ]
  },
  {
   "cell_type": "code",
   "execution_count": null,
   "metadata": {},
   "outputs": [],
   "source": [
    "text = \"Banana apple banana Apple orange banana\"\n",
    "word_count_sorted(text)"
   ]
  },
  {
   "cell_type": "raw",
   "metadata": {},
   "source": []
  },
  {
   "cell_type": "code",
   "execution_count": null,
   "metadata": {},
   "outputs": [],
   "source": [
    "text = \"Banana apple banana Apple orange banana\"\n",
    "words = re.findall('[a-zA-Z]+', text.lower())"
   ]
  },
  {
   "cell_type": "code",
   "execution_count": null,
   "metadata": {},
   "outputs": [],
   "source": [
    "words"
   ]
  },
  {
   "cell_type": "code",
   "execution_count": null,
   "metadata": {},
   "outputs": [],
   "source": [
    "words.sort()"
   ]
  },
  {
   "cell_type": "code",
   "execution_count": null,
   "metadata": {},
   "outputs": [],
   "source": [
    "words"
   ]
  },
  {
   "cell_type": "code",
   "execution_count": null,
   "metadata": {},
   "outputs": [],
   "source": [
    "hand=open('/cxldata/big.txt').read()\n"
   ]
  },
  {
   "cell_type": "code",
   "execution_count": null,
   "metadata": {},
   "outputs": [],
   "source": [
    "hand"
   ]
  },
  {
   "cell_type": "code",
   "execution_count": null,
   "metadata": {},
   "outputs": [],
   "source": [
    "all_word=word_count(hand)\n",
    "sort_all_word=list(all_word.items())\n",
    "sort_all_word.sort(key=keyf)\n"
   ]
  },
  {
   "cell_type": "code",
   "execution_count": null,
   "metadata": {},
   "outputs": [],
   "source": [
    "sort_all_word"
   ]
  },
  {
   "cell_type": "code",
   "execution_count": 2,
   "metadata": {},
   "outputs": [],
   "source": [
    "#character count\n",
    "txt=open('/cxldata/big.txt').read()\n",
    "import re\n",
    "def text_count(txt):\n",
    "    words=txt.split()\n",
    "    txt_tally={}\n",
    "    for word in words:\n",
    "        word=word.lower()\n",
    "        matches=re.findall('[a-zA-Z]+',word)\n",
    "        ch=re.findall('[a-zA-Z]',word)\n",
    "        for c in ch:\n",
    "            if c in txt_tally:\n",
    "                txt_tally[c]+=1\n",
    "            else:\n",
    "                txt_tally[c]=1   \n",
    "    return txt_tally\n",
    "    "
   ]
  },
  {
   "cell_type": "code",
   "execution_count": 5,
   "metadata": {},
   "outputs": [],
   "source": [
    "def keyf(tup):\n",
    "    return -tup[1]"
   ]
  },
  {
   "cell_type": "code",
   "execution_count": 7,
   "metadata": {},
   "outputs": [
    {
     "data": {
      "text/plain": [
       "[('e', 633818),\n",
       " ('t', 460741),\n",
       " ('a', 408089),\n",
       " ('o', 386867),\n",
       " ('n', 369018),\n",
       " ('i', 365638),\n",
       " ('s', 334897),\n",
       " ('r', 309555),\n",
       " ('h', 294681),\n",
       " ('d', 215706),\n",
       " ('l', 198648),\n",
       " ('c', 144972),\n",
       " ('u', 138732),\n",
       " ('m', 127063),\n",
       " ('f', 120875),\n",
       " ('w', 100831),\n",
       " ('p', 98913),\n",
       " ('g', 96916),\n",
       " ('y', 90481),\n",
       " ('b', 73168),\n",
       " ('v', 52378),\n",
       " ('k', 32798),\n",
       " ('x', 9810),\n",
       " ('j', 6436),\n",
       " ('q', 4571),\n",
       " ('z', 3796)]"
      ]
     },
     "execution_count": 7,
     "metadata": {},
     "output_type": "execute_result"
    }
   ],
   "source": [
    "sort_=text_count(txt)\n",
    "sort_txt_tally=list(sort_.items())\n",
    "sort_txt_tally.sort(key=keyf)\n",
    "sort_txt_tally\n"
   ]
  },
  {
   "cell_type": "code",
   "execution_count": null,
   "metadata": {},
   "outputs": [],
   "source": []
  }
 ],
 "metadata": {
  "kernelspec": {
   "display_name": "Python 3",
   "language": "python",
   "name": "python3"
  },
  "language_info": {
   "codemirror_mode": {
    "name": "ipython",
    "version": 3
   },
   "file_extension": ".py",
   "mimetype": "text/x-python",
   "name": "python",
   "nbconvert_exporter": "python",
   "pygments_lexer": "ipython3",
   "version": "3.6.8"
  },
  "toc": {
   "base_numbering": 1,
   "nav_menu": {},
   "number_sections": true,
   "sideBar": true,
   "skip_h1_title": false,
   "title_cell": "Table of Contents",
   "title_sidebar": "Contents",
   "toc_cell": false,
   "toc_position": {},
   "toc_section_display": true,
   "toc_window_display": false
  }
 },
 "nbformat": 4,
 "nbformat_minor": 2
}
