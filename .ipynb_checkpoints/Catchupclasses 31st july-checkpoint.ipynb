{
 "cells": [
  {
   "cell_type": "code",
   "execution_count": 3,
   "metadata": {},
   "outputs": [],
   "source": [
    "def divide_by2(num):\n",
    "    print(num)\n",
    "    if (num==1):\n",
    "        print(\"finished dividing\")\n",
    "    else:\n",
    "        num=num//2\n",
    "        divide_by2(num)"
   ]
  },
  {
   "cell_type": "code",
   "execution_count": 4,
   "metadata": {},
   "outputs": [
    {
     "name": "stdout",
     "output_type": "stream",
     "text": [
      "36\n",
      "18\n",
      "9\n",
      "4\n",
      "2\n",
      "1\n",
      "finished dividing\n"
     ]
    }
   ],
   "source": [
    "divide_by2(36)"
   ]
  },
  {
   "cell_type": "code",
   "execution_count": 7,
   "metadata": {},
   "outputs": [],
   "source": [
    "def hcf(a,b):\n",
    "    if (b==0):\n",
    "        print(f\"HCF is {a}\")\n",
    "    else:\n",
    "        hcf(b,a%b)"
   ]
  },
  {
   "cell_type": "code",
   "execution_count": 8,
   "metadata": {},
   "outputs": [
    {
     "name": "stdout",
     "output_type": "stream",
     "text": [
      "HCF is 21\n"
     ]
    }
   ],
   "source": [
    "hcf(1071,462)"
   ]
  },
  {
   "cell_type": "code",
   "execution_count": 10,
   "metadata": {},
   "outputs": [
    {
     "data": {
      "text/plain": [
       "7"
      ]
     },
     "execution_count": 10,
     "metadata": {},
     "output_type": "execute_result"
    }
   ],
   "source": [
    "len(my_list)"
   ]
  },
  {
   "cell_type": "code",
   "execution_count": 13,
   "metadata": {},
   "outputs": [
    {
     "name": "stdout",
     "output_type": "stream",
     "text": [
      "-2 4\n"
     ]
    }
   ],
   "source": [
    "my_list=[1,2,4,1,-2,3,4,-1]\n",
    "min_num=my_list[0]\n",
    "min_ind=0\n",
    "\n",
    "for num in range(1,len(my_list)):\n",
    "    if(my_list[num]<min_num):\n",
    "        min_num=my_list[num]\n",
    "        min_ind=num\n",
    "print(min_num,min_ind)\n",
    "        \n",
    "    "
   ]
  },
  {
   "cell_type": "code",
   "execution_count": 14,
   "metadata": {},
   "outputs": [],
   "source": [
    "def mymax_func(L1):\n",
    "    my_max=L1[0]\n",
    "    for num in L1[1:]:\n",
    "        if(num>my_max):\n",
    "            my_max=num\n",
    "    return my_max"
   ]
  },
  {
   "cell_type": "code",
   "execution_count": 16,
   "metadata": {},
   "outputs": [
    {
     "data": {
      "text/plain": [
       "100"
      ]
     },
     "execution_count": 16,
     "metadata": {},
     "output_type": "execute_result"
    }
   ],
   "source": [
    "mymax_func([1,2,4,1,-2,3,4,-1,100])"
   ]
  },
  {
   "cell_type": "code",
   "execution_count": 5,
   "metadata": {},
   "outputs": [],
   "source": [
    "#find the max adjacent gap L1 [1,3,5,98,3,5,11]-->95\n",
    "\n",
    "def find_adjmaxgap(L1):\n",
    "    adj_gap=0\n",
    "    for a in range(len(L1)-1):\n",
    "        gap=abs(L1[a]-L1[a+1])\n",
    "        print(gap)\n",
    "        if(gap>adj_gap):\n",
    "            adj_gap=gap\n",
    "    return adj_gap\n"
   ]
  },
  {
   "cell_type": "code",
   "execution_count": 6,
   "metadata": {},
   "outputs": [
    {
     "name": "stdout",
     "output_type": "stream",
     "text": [
      "2\n",
      "2\n",
      "93\n",
      "95\n",
      "2\n",
      "6\n"
     ]
    },
    {
     "data": {
      "text/plain": [
       "95"
      ]
     },
     "execution_count": 6,
     "metadata": {},
     "output_type": "execute_result"
    }
   ],
   "source": [
    "find_adjmaxgap([1,3,5,98,3,5,11])"
   ]
  },
  {
   "cell_type": "code",
   "execution_count": 9,
   "metadata": {
    "code_folding": []
   },
   "outputs": [],
   "source": [
    "def is_list_symmetric(L1):\n",
    "    length=len(L1)\n",
    "    for a in range(length-1):\n",
    "        if(L1[a]==L1[length-1-a]):\n",
    "            list=\"symmetric\"\n",
    "            \n",
    "        else:\n",
    "            list=\"unsymetric\"\n",
    "            return list\n",
    "            break\n",
    "    return list"
   ]
  },
  {
   "cell_type": "code",
   "execution_count": 31,
   "metadata": {},
   "outputs": [
    {
     "data": {
      "text/plain": [
       "'unsymetric'"
      ]
     },
     "execution_count": 31,
     "metadata": {},
     "output_type": "execute_result"
    }
   ],
   "source": [
    "is_list_symmetric([1,2,3,2,1,0])"
   ]
  },
  {
   "cell_type": "code",
   "execution_count": 28,
   "metadata": {},
   "outputs": [],
   "source": [
    "def is_list_symmetric2(L1):\n",
    "    rev_L1=L1[::-1]\n",
    "    if(L1==rev_L1):\n",
    "            list=\"symmetric\"        \n",
    "    else:\n",
    "            list=\"unsymetric\"\n",
    "    return list"
   ]
  },
  {
   "cell_type": "code",
   "execution_count": 30,
   "metadata": {},
   "outputs": [
    {
     "data": {
      "text/plain": [
       "'unsymetric'"
      ]
     },
     "execution_count": 30,
     "metadata": {},
     "output_type": "execute_result"
    }
   ],
   "source": [
    "is_list_symmetric2([1,2,3,2,1,0])"
   ]
  },
  {
   "cell_type": "code",
   "execution_count": 20,
   "metadata": {},
   "outputs": [],
   "source": [
    "L1=[1,2,3,4,3,2,1]"
   ]
  },
  {
   "cell_type": "code",
   "execution_count": 21,
   "metadata": {},
   "outputs": [],
   "source": [
    "rev_L1=L1.reverse"
   ]
  },
  {
   "cell_type": "code",
   "execution_count": 23,
   "metadata": {},
   "outputs": [
    {
     "data": {
      "text/plain": [
       "<function list.reverse>"
      ]
     },
     "execution_count": 23,
     "metadata": {},
     "output_type": "execute_result"
    }
   ],
   "source": [
    "L1.reverse"
   ]
  },
  {
   "cell_type": "code",
   "execution_count": 24,
   "metadata": {},
   "outputs": [
    {
     "name": "stdout",
     "output_type": "stream",
     "text": [
      "<built-in method reverse of list object at 0x7f7507e22c88>\n"
     ]
    }
   ],
   "source": [
    "print(rev_L1)"
   ]
  },
  {
   "cell_type": "code",
   "execution_count": 25,
   "metadata": {},
   "outputs": [
    {
     "name": "stdout",
     "output_type": "stream",
     "text": [
      "[1, 2, 3, 4, 3, 2, 1]\n"
     ]
    }
   ],
   "source": [
    "print(L1)"
   ]
  },
  {
   "cell_type": "code",
   "execution_count": 45,
   "metadata": {},
   "outputs": [],
   "source": [
    "def my_sqrt(num):\n",
    "    if(num>1):\n",
    "        left=1\n",
    "        right=num\n",
    "    else:\n",
    "        left=num\n",
    "        right=1\n",
    "    while True:\n",
    "        guess=(left+right)/2\n",
    "        result=guess*guess\n",
    "        print(f\"left: {left}, right: {right}, guess: {guess}, result: {result}, {result-num}\")\n",
    "        if(abs(result-num)<0.0001):\n",
    "            print(f\"your guess was right{guess},{result}\")\n",
    "            return guess\n",
    "        elif(result>num):\n",
    "            print(\"decrease your guess\")\n",
    "            right=guess\n",
    "        else:\n",
    "            print(\"increase your guess\")\n",
    "            left=guess\n",
    "        \n",
    "        "
   ]
  },
  {
   "cell_type": "code",
   "execution_count": 47,
   "metadata": {},
   "outputs": [
    {
     "name": "stdout",
     "output_type": "stream",
     "text": [
      "left: 0.09, right: 1, guess: 0.545, result: 0.29702500000000004, 0.20702500000000004\n",
      "decrease your guess\n",
      "left: 0.09, right: 0.545, guess: 0.3175, result: 0.10080625, 0.010806250000000003\n",
      "decrease your guess\n",
      "left: 0.09, right: 0.3175, guess: 0.20375, result: 0.0415140625, -0.0484859375\n",
      "increase your guess\n",
      "left: 0.20375, right: 0.3175, guess: 0.260625, result: 0.067925390625, -0.022074609375\n",
      "increase your guess\n",
      "left: 0.260625, right: 0.3175, guess: 0.2890625, result: 0.08355712890625, -0.006442871093749997\n",
      "increase your guess\n",
      "left: 0.2890625, right: 0.3175, guess: 0.30328125, result: 0.0919795166015625, 0.0019795166015625087\n",
      "decrease your guess\n",
      "left: 0.2890625, right: 0.30328125, guess: 0.296171875, result: 0.0877177795410156, -0.0022822204589843936\n",
      "increase your guess\n",
      "left: 0.296171875, right: 0.30328125, guess: 0.29972656249999996, result: 0.08983601226806638, -0.00016398773193361527\n",
      "increase your guess\n",
      "left: 0.29972656249999996, right: 0.30328125, guess: 0.30150390625, result: 0.09090460548400879, 0.0009046054840087941\n",
      "decrease your guess\n",
      "left: 0.29972656249999996, right: 0.30150390625, guess: 0.300615234375, result: 0.09036951913833617, 0.00036951913833617456\n",
      "decrease your guess\n",
      "left: 0.29972656249999996, right: 0.300615234375, guess: 0.3001708984375, result: 0.09010256826877594, 0.00010256826877594327\n",
      "decrease your guess\n",
      "left: 0.29972656249999996, right: 0.3001708984375, guess: 0.29994873046875, result: 0.08996924090981483, -3.075909018517009e-05\n",
      "your guess was right0.29994873046875,0.08996924090981483\n"
     ]
    },
    {
     "data": {
      "text/plain": [
       "0.29994873046875"
      ]
     },
     "execution_count": 47,
     "metadata": {},
     "output_type": "execute_result"
    }
   ],
   "source": [
    "my_sqrt(0.09)"
   ]
  },
  {
   "cell_type": "code",
   "execution_count": 56,
   "metadata": {},
   "outputs": [],
   "source": [
    "def my_cuberoot(num):\n",
    "    if(num>1):\n",
    "        left=1\n",
    "        right=num\n",
    "    else:\n",
    "        left=num\n",
    "        right=1\n",
    "\n",
    "    while True:\n",
    "        guess=(left+right)/2\n",
    "        result=guess*guess*guess\n",
    "        print(f\"left: {left}, right: {right}, guess: {guess}, result: {result}, {result-num}\")\n",
    "        if(abs(result-num)<0.000001):\n",
    "            print(f\"your guess was right{guess},{result}\")\n",
    "            return guess\n",
    "        elif(result>num):\n",
    "            print(\"decrease your guess\")\n",
    "            right=guess\n",
    "        else:\n",
    "            print(\"increase your guess\")\n",
    "            left=guess"
   ]
  },
  {
   "cell_type": "code",
   "execution_count": 57,
   "metadata": {},
   "outputs": [
    {
     "name": "stdout",
     "output_type": "stream",
     "text": [
      "left: 0.008, right: 1, guess: 0.504, result: 0.12802406400000002, 0.12002406400000001\n",
      "decrease your guess\n",
      "left: 0.008, right: 0.504, guess: 0.256, result: 0.016777216, 0.008777216000000001\n",
      "decrease your guess\n",
      "left: 0.008, right: 0.256, guess: 0.132, result: 0.0022999680000000003, -0.005700032\n",
      "increase your guess\n",
      "left: 0.132, right: 0.256, guess: 0.194, result: 0.007301384000000001, -0.0006986159999999991\n",
      "increase your guess\n",
      "left: 0.194, right: 0.256, guess: 0.225, result: 0.011390625000000001, 0.0033906250000000013\n",
      "decrease your guess\n",
      "left: 0.194, right: 0.225, guess: 0.20950000000000002, result: 0.009195007375000001, 0.0011950073750000012\n",
      "decrease your guess\n",
      "left: 0.194, right: 0.20950000000000002, guess: 0.20175, result: 0.008211842859375002, 0.000211842859375002\n",
      "decrease your guess\n",
      "left: 0.194, right: 0.20175, guess: 0.19787500000000002, result: 0.007747699779296878, -0.000252300220703122\n",
      "increase your guess\n",
      "left: 0.19787500000000002, right: 0.20175, guess: 0.1998125, result: 0.007977521087158204, -2.247891284179633e-05\n",
      "increase your guess\n",
      "left: 0.1998125, right: 0.20175, guess: 0.20078125000000002, result: 0.00809411668777466, 9.411668777466013e-05\n",
      "decrease your guess\n",
      "left: 0.1998125, right: 0.20078125000000002, guess: 0.200296875, result: 0.008035677907024386, 3.567790702438574e-05\n",
      "decrease your guess\n",
      "left: 0.1998125, right: 0.200296875, guess: 0.2000546875, result: 0.008006564294597148, 6.5642945971475936e-06\n",
      "decrease your guess\n",
      "left: 0.1998125, right: 0.2000546875, guess: 0.19993359375, result: 0.007992033895581186, -7.96610441881375e-06\n",
      "increase your guess\n",
      "left: 0.19993359375, right: 0.2000546875, guess: 0.19999414062499998, result: 0.007999296895599162, -7.031044008381365e-07\n",
      "your guess was right0.19999414062499998,0.007999296895599162\n"
     ]
    },
    {
     "data": {
      "text/plain": [
       "0.19999414062499998"
      ]
     },
     "execution_count": 57,
     "metadata": {},
     "output_type": "execute_result"
    }
   ],
   "source": [
    "my_cuberoot(0.008)"
   ]
  },
  {
   "cell_type": "code",
   "execution_count": 55,
   "metadata": {},
   "outputs": [
    {
     "data": {
      "text/plain": [
       "0.008000000000000002"
      ]
     },
     "execution_count": 55,
     "metadata": {},
     "output_type": "execute_result"
    }
   ],
   "source": [
    "0.2*0.2*0.2"
   ]
  },
  {
   "cell_type": "code",
   "execution_count": 143,
   "metadata": {
    "code_folding": []
   },
   "outputs": [],
   "source": [
    "def my_logbase10(num):\n",
    "    if(num>10):\n",
    "        left=1\n",
    "        right=num\n",
    "    elif(num>=1):\n",
    "        left=0\n",
    "        right=1\n",
    "    elif(num<1):\n",
    "        guess=my_logbase10_less(num)\n",
    "        return guess\n",
    "    while True:\n",
    "        guess=(left+right)/2\n",
    "        result=10**guess\n",
    "        print(f\"left: {left}, right: {right}, guess: {guess}, result: {result}, {result-num}\")\n",
    "        if(abs(result-num)<0.0001):\n",
    "            print(f\"your guess was right{guess},{result}\")\n",
    "            return guess\n",
    "        elif(result>num):\n",
    "            print(\"decrease your guess\")\n",
    "            right=guess\n",
    "        else:\n",
    "            print(\"increase your guess\")\n",
    "            left=guess"
   ]
  },
  {
   "cell_type": "code",
   "execution_count": 144,
   "metadata": {
    "scrolled": true
   },
   "outputs": [
    {
     "name": "stdout",
     "output_type": "stream",
     "text": [
      "left: 0, right: 10, guess: -5.0, result: 1e-05, -0.00099\n",
      "increase your guess\n",
      "left: 0, right: 5.0, guess: -2.5, result: 0.0031622776601683794, 0.0021622776601683794\n",
      "decrease your guess\n",
      "left: 2.5, right: 5.0, guess: -3.75, result: 0.00017782794100389227, -0.0008221720589961077\n",
      "increase your guess\n",
      "left: 2.5, right: 3.75, guess: -3.125, result: 0.0007498942093324559, -0.00025010579066754416\n",
      "increase your guess\n",
      "left: 2.5, right: 3.125, guess: -2.8125, result: 0.001539926526059492, 0.000539926526059492\n",
      "decrease your guess\n",
      "left: 2.8125, right: 3.125, guess: -2.96875, result: 0.0010746078283213176, 7.460782832131754e-05\n",
      "decrease your guess\n",
      "left: 2.96875, right: 3.125, guess: -3.046875, result: 0.0008976871324473142, -0.00010231286755268585\n",
      "increase your guess\n",
      "left: 2.96875, right: 3.046875, guess: -3.0078125, result: 0.0009821718891880379, -1.782811081196215e-05\n",
      "increase your guess\n",
      "left: 2.96875, right: 3.0078125, guess: -2.98828125, result: 0.0010273507681793025, 2.735076817930249e-05\n",
      "decrease your guess\n",
      "left: 2.98828125, right: 3.0078125, guess: -2.998046875, result: 0.0010045073642544625, 4.507364254462479e-06\n",
      "decrease your guess\n",
      "left: 2.998046875, right: 3.0078125, guess: -3.0029296875, result: 0.000993276847436354, -6.723152563646107e-06\n",
      "increase your guess\n",
      "left: 2.998046875, right: 3.0029296875, guess: -3.00048828125, result: 0.0009988763226712674, -1.1236773287326071e-06\n",
      "increase your guess\n",
      "left: 2.998046875, right: 3.00048828125, guess: -2.999267578125, result: 0.0010016878865708144, 1.6878865708143745e-06\n",
      "decrease your guess\n",
      "left: 2.999267578125, right: 3.00048828125, guess: -2.9998779296875, result: 0.0010002811167877802, 2.811167877801637e-07\n",
      "decrease your guess\n",
      "left: 2.9998779296875, right: 3.00048828125, guess: -3.00018310546875, result: 0.000999578472944714, -4.2152705528593175e-07\n",
      "increase your guess\n",
      "left: 2.9998779296875, right: 3.00018310546875, guess: -3.000030517578125, result: 0.000999929733148366, -7.026685163412372e-08\n",
      "increase your guess\n",
      "left: 2.9998779296875, right: 3.000030517578125, guess: -2.9999542236328125, result: 0.001000105409535892, 1.0540953589198779e-07\n",
      "decrease your guess\n",
      "left: 2.9999542236328125, right: 3.000030517578125, guess: -2.9999923706054688, result: 0.0010000175674844227, 1.7567484422676902e-08\n",
      "decrease your guess\n",
      "left: 2.9999923706054688, right: 3.000030517578125, guess: -3.000011444091797, result: 0.00099997364935201, -2.6350647990003306e-08\n",
      "increase your guess\n",
      "left: 2.9999923706054688, right: 3.000011444091797, guess: -3.000001907348633, result: 0.000999995608177115, -4.3918228849644525e-09\n",
      "your guess was right-3.000001907348633,0.000999995608177115\n"
     ]
    },
    {
     "data": {
      "text/plain": [
       "3.000001907348633"
      ]
     },
     "execution_count": 144,
     "metadata": {},
     "output_type": "execute_result"
    }
   ],
   "source": [
    "my_logbase10(0.001)"
   ]
  },
  {
   "cell_type": "code",
   "execution_count": 125,
   "metadata": {},
   "outputs": [
    {
     "data": {
      "text/plain": [
       "-1.3010299956639813"
      ]
     },
     "execution_count": 125,
     "metadata": {},
     "output_type": "execute_result"
    }
   ],
   "source": [
    "import math\n",
    "math.log10(0.05)"
   ]
  },
  {
   "cell_type": "code",
   "execution_count": 100,
   "metadata": {},
   "outputs": [
    {
     "data": {
      "text/plain": [
       "0.0001"
      ]
     },
     "execution_count": 100,
     "metadata": {},
     "output_type": "execute_result"
    }
   ],
   "source": [
    "10**(-4)"
   ]
  },
  {
   "cell_type": "code",
   "execution_count": 62,
   "metadata": {},
   "outputs": [
    {
     "data": {
      "text/plain": [
       "0.01"
      ]
     },
     "execution_count": 62,
     "metadata": {},
     "output_type": "execute_result"
    }
   ],
   "source": [
    "10*0.001"
   ]
  },
  {
   "cell_type": "code",
   "execution_count": 65,
   "metadata": {},
   "outputs": [
    {
     "data": {
      "text/plain": [
       "0.01"
      ]
     },
     "execution_count": 65,
     "metadata": {},
     "output_type": "execute_result"
    }
   ],
   "source": [
    "10**(-2)"
   ]
  },
  {
   "cell_type": "code",
   "execution_count": 64,
   "metadata": {},
   "outputs": [
    {
     "data": {
      "text/plain": [
       "1.2589254117941673"
      ]
     },
     "execution_count": 64,
     "metadata": {},
     "output_type": "execute_result"
    }
   ],
   "source": [
    "10**(0.1)"
   ]
  },
  {
   "cell_type": "code",
   "execution_count": 137,
   "metadata": {},
   "outputs": [],
   "source": [
    "def my_logbase10_less(num):\n",
    "    if(num<1):\n",
    "        left=0\n",
    "        right=10 \n",
    "    while True:\n",
    "        guess=(left+right)/2\n",
    "        result=10**(-guess)\n",
    "        print(f\"left: {left}, right: {right}, guess: {-guess}, result: {result}, {result-num}\")\n",
    "        if(abs(result-num)<0.00000001):\n",
    "            print(f\"your guess was right{-guess},{result}\")\n",
    "            return guess\n",
    "        elif(result>num):\n",
    "            print(\"decrease your guess\")\n",
    "            left=guess\n",
    "        else:\n",
    "            print(\"increase your guess\")\n",
    "            right=guess"
   ]
  },
  {
   "cell_type": "code",
   "execution_count": 136,
   "metadata": {},
   "outputs": [
    {
     "name": "stdout",
     "output_type": "stream",
     "text": [
      "left: 0, right: 10, guess: -5.0, result: 1e-05, -9e-05\n",
      "increase your guess\n",
      "left: 0, right: 5.0, guess: -2.5, result: 0.0031622776601683794, 0.0030622776601683796\n",
      "decrease your guess\n",
      "left: 2.5, right: 5.0, guess: -3.75, result: 0.00017782794100389227, 7.782794100389226e-05\n",
      "decrease your guess\n",
      "left: 3.75, right: 5.0, guess: -4.375, result: 4.216965034285822e-05, -5.783034965714178e-05\n",
      "increase your guess\n",
      "left: 3.75, right: 4.375, guess: -4.0625, result: 8.659643233600654e-05, -1.3403567663993469e-05\n",
      "increase your guess\n",
      "left: 3.75, right: 4.0625, guess: -3.90625, result: 0.00012409377607517196, 2.4093776075171955e-05\n",
      "decrease your guess\n",
      "left: 3.90625, right: 4.0625, guess: -3.984375, result: 0.0001036632928437698, 3.663292843769791e-06\n",
      "decrease your guess\n",
      "left: 3.984375, right: 4.0625, guess: -4.0234375, result: 9.474635256553755e-05, -5.253647434462459e-06\n",
      "increase your guess\n",
      "left: 3.984375, right: 4.0234375, guess: -4.00390625, result: 9.910458562488609e-05, -8.954143751139176e-07\n",
      "increase your guess\n",
      "left: 3.984375, right: 4.00390625, guess: -3.994140625, result: 0.00010135831333340657, 1.3583133334065667e-06\n",
      "decrease your guess\n",
      "left: 3.994140625, right: 4.00390625, guess: -3.9990234375, result: 0.0001002251148292913, 2.2511482929129048e-07\n",
      "decrease your guess\n",
      "left: 3.9990234375, right: 4.00390625, guess: -4.00146484375, result: 9.966327545472073e-05, -3.367245452792745e-07\n",
      "increase your guess\n",
      "left: 3.9990234375, right: 4.00146484375, guess: -4.000244140625, result: 9.994380034155532e-05, -5.6199658444685326e-08\n",
      "increase your guess\n",
      "left: 3.9990234375, right: 4.000244140625, guess: -3.9996337890625, result: 0.00010008435874655013, 8.435874655012042e-08\n",
      "decrease your guess\n",
      "left: 3.9996337890625, right: 4.000244140625, guess: -3.99993896484375, result: 0.00010001405485169473, 1.40548516947231e-08\n",
      "decrease your guess\n",
      "left: 3.99993896484375, right: 4.000244140625, guess: -4.000091552734375, result: 9.997892142570422e-05, -2.1078574295784e-08\n",
      "increase your guess\n",
      "left: 3.99993896484375, right: 4.000091552734375, guess: -4.0000152587890625, result: 9.999648659569825e-05, -3.5134043017579983e-09\n",
      "your guess was right-4.0000152587890625,9.999648659569825e-05\n"
     ]
    },
    {
     "data": {
      "text/plain": [
       "4.0000152587890625"
      ]
     },
     "execution_count": 136,
     "metadata": {},
     "output_type": "execute_result"
    }
   ],
   "source": [
    "my_logbase10_less(0.0001)"
   ]
  },
  {
   "cell_type": "code",
   "execution_count": null,
   "metadata": {},
   "outputs": [],
   "source": []
  }
 ],
 "metadata": {
  "kernelspec": {
   "display_name": "Python 3",
   "language": "python",
   "name": "python3"
  },
  "language_info": {
   "codemirror_mode": {
    "name": "ipython",
    "version": 3
   },
   "file_extension": ".py",
   "mimetype": "text/x-python",
   "name": "python",
   "nbconvert_exporter": "python",
   "pygments_lexer": "ipython3",
   "version": "3.6.8"
  },
  "toc": {
   "base_numbering": 1,
   "nav_menu": {},
   "number_sections": true,
   "sideBar": true,
   "skip_h1_title": false,
   "title_cell": "Table of Contents",
   "title_sidebar": "Contents",
   "toc_cell": false,
   "toc_position": {},
   "toc_section_display": true,
   "toc_window_display": false
  }
 },
 "nbformat": 4,
 "nbformat_minor": 2
}
