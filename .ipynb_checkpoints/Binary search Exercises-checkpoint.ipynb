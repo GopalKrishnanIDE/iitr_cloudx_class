{
 "cells": [
  {
   "cell_type": "markdown",
   "metadata": {},
   "source": [
    "\n",
    "The square root of a number is a value that, when multiplied by itself, gives the original number.\n",
    "For example, the square root of 25 is 5 because $5 \\times 5 = 25$.\n",
    "\n",
    "Instead of using built-in functions like `math.sqrt`, we can use a technique called **binary search** to approximate the square root.\n",
    "The idea is simple:\n",
    "\n",
    "1. Suppose we want the square root of `n`.\n",
    "2. We know the answer will be between `0` and `n` (if `n >= 1`).\n",
    "3. We repeatedly check the middle of the current range:\n",
    "\n",
    "   * If `mid * mid` is close to `n`, then `mid` is our answer.\n",
    "   * If `mid * mid` is too small, we move to the right half.\n",
    "   * If `mid * mid` is too large, we move to the left half.\n",
    "4. We continue until the approximation is good enough.\n",
    "\n",
    "This method is efficient because it cuts the search space in half each time.\n",
    "\n",
    "---\n",
    "\n",
    "### Exercise:\n",
    "\n",
    "Write a function `sqrt_binary_search(n, precision)` that returns the square root of `n` up to the given decimal precision.\n",
    "\n",
    "* `n` → the number whose square root we want.\n",
    "* `precision` → how close we want the answer to be (for example, `0.0001`).\n",
    "\n",
    "---\n",
    "\n",
    "### Example:\n",
    "\n",
    "```python\n",
    "sqrt_binary_search(25, 0.0001)   # Output: approximately 5.0\n",
    "sqrt_binary_search(2, 0.0001)    # Output: approximately 1.4142\n",
    "```\n"
   ]
  },
  {
   "cell_type": "code",
   "execution_count": 5,
   "metadata": {},
   "outputs": [],
   "source": [
    "def sqrt_binary_search(n, precision):\n",
    "    left = 0\n",
    "    right = n\n",
    "    while (right - left) > precision:\n",
    "        mid = (left + right) / 2\n",
    "        sq = mid * mid\n",
    "        print(f\"L: {left}, R: {right}, mid: {mid}, square: {sq}\")\n",
    "        if abs(sq - n) <= precision:\n",
    "            return mid\n",
    "        elif sq > n:\n",
    "            right = mid\n",
    "        else:\n",
    "            left = mid\n",
    "    return (left + right) / 2  # Final approximation"
   ]
  },
  {
   "cell_type": "code",
   "execution_count": 6,
   "metadata": {},
   "outputs": [
    {
     "name": "stdout",
     "output_type": "stream",
     "text": [
      "L: 0, R: 25, mid: 12.5, square: 156.25\n",
      "L: 0, R: 12.5, mid: 6.25, square: 39.0625\n",
      "L: 0, R: 6.25, mid: 3.125, square: 9.765625\n",
      "L: 3.125, R: 6.25, mid: 4.6875, square: 21.97265625\n",
      "L: 4.6875, R: 6.25, mid: 5.46875, square: 29.9072265625\n",
      "L: 4.6875, R: 5.46875, mid: 5.078125, square: 25.787353515625\n",
      "L: 4.6875, R: 5.078125, mid: 4.8828125, square: 23.84185791015625\n",
      "L: 4.8828125, R: 5.078125, mid: 4.98046875, square: 24.805068969726562\n",
      "L: 4.98046875, R: 5.078125, mid: 5.029296875, square: 25.293827056884766\n",
      "L: 4.98046875, R: 5.029296875, mid: 5.0048828125, square: 25.04885196685791\n",
      "L: 4.98046875, R: 5.0048828125, mid: 4.99267578125, square: 24.926811456680298\n",
      "L: 4.99267578125, R: 5.0048828125, mid: 4.998779296875, square: 24.98779445886612\n",
      "L: 4.998779296875, R: 5.0048828125, mid: 5.0018310546875, square: 25.01831389963627\n",
      "L: 4.998779296875, R: 5.0018310546875, mid: 5.00030517578125, square: 25.003051850944757\n",
      "L: 4.998779296875, R: 5.00030517578125, mid: 4.999542236328125, square: 24.99542257282883\n",
      "L: 4.999542236328125, R: 5.00030517578125, mid: 4.9999237060546875, square: 24.99923706636764\n",
      "L: 4.9999237060546875, R: 5.00030517578125, mid: 5.000114440917969, square: 25.00114442227641\n",
      "L: 4.9999237060546875, R: 5.000114440917969, mid: 5.000019073486328, square: 25.00019073522708\n"
     ]
    },
    {
     "data": {
      "text/plain": [
       "4.999971389770508"
      ]
     },
     "execution_count": 6,
     "metadata": {},
     "output_type": "execute_result"
    }
   ],
   "source": [
    "sqrt_binary_search(25, 0.0001)"
   ]
  },
  {
   "cell_type": "code",
   "execution_count": 7,
   "metadata": {},
   "outputs": [
    {
     "name": "stdout",
     "output_type": "stream",
     "text": [
      "L: 0, R: 2, mid: 1.0, square: 1.0\n",
      "L: 1.0, R: 2, mid: 1.5, square: 2.25\n",
      "L: 1.0, R: 1.5, mid: 1.25, square: 1.5625\n",
      "L: 1.25, R: 1.5, mid: 1.375, square: 1.890625\n",
      "L: 1.375, R: 1.5, mid: 1.4375, square: 2.06640625\n",
      "L: 1.375, R: 1.4375, mid: 1.40625, square: 1.9775390625\n",
      "L: 1.40625, R: 1.4375, mid: 1.421875, square: 2.021728515625\n",
      "L: 1.40625, R: 1.421875, mid: 1.4140625, square: 1.99957275390625\n",
      "L: 1.4140625, R: 1.421875, mid: 1.41796875, square: 2.0106353759765625\n",
      "L: 1.4140625, R: 1.41796875, mid: 1.416015625, square: 2.0051002502441406\n",
      "L: 1.4140625, R: 1.416015625, mid: 1.4150390625, square: 2.002335548400879\n",
      "L: 1.4140625, R: 1.4150390625, mid: 1.41455078125, square: 2.0009539127349854\n",
      "L: 1.4140625, R: 1.41455078125, mid: 1.414306640625, square: 2.000263273715973\n",
      "L: 1.4140625, R: 1.414306640625, mid: 1.4141845703125, square: 1.9999179989099503\n"
     ]
    },
    {
     "data": {
      "text/plain": [
       "1.4141845703125"
      ]
     },
     "execution_count": 7,
     "metadata": {},
     "output_type": "execute_result"
    }
   ],
   "source": [
    "sqrt_binary_search(2, 0.0001) "
   ]
  },
  {
   "cell_type": "markdown",
   "metadata": {},
   "source": [
    "Perfect! Let’s build the same kind of structured exercise for **Cube Root**.\n",
    "\n",
    "---\n",
    "\n",
    "## Compute Cube Root using Binary Search\n",
    "\n",
    "### Explanation (simple)\n",
    "\n",
    "The **cube root** of a number `n` is a value `x` such that:\n",
    "\n",
    "$$\n",
    "x \\times x \\times x = n\n",
    "$$\n",
    "\n",
    "For example:\n",
    "\n",
    "* Cube root of 27 is 3 (since $3 \\times 3 \\times 3 = 27$)\n",
    "* Cube root of 8 is 2.\n",
    "\n",
    "Instead of using `n ** (1/3)` or `math.pow(n, 1/3)`, we can approximate the cube root using **binary search**.\n",
    "The idea is similar to finding a square root:\n",
    "\n",
    "1. Choose a search range where the cube root must lie.\n",
    "2. Repeatedly check the midpoint.\n",
    "3. Narrow down the range until we are close enough.\n",
    "\n",
    "---\n",
    "\n",
    "### Exercise\n",
    "\n",
    "Write a function `cuberoot_binary_search(n, precision)` that returns the cube root of `n` up to the given precision.\n",
    "\n",
    "* **Arguments:**\n",
    "\n",
    "  * `n`: number (can be positive, negative, or zero).\n",
    "  * `precision`: small positive float (like `1e-6`).\n",
    "\n",
    "* **Return:**\n",
    "\n",
    "  * Approximate cube root of `n` as a float.\n",
    "\n",
    "---\n",
    "\n",
    "### Step-by-Step Hints\n",
    "\n",
    "**Hint 1 — Handle simple cases**\n",
    "\n",
    "* If `n == 0`, return `0`.\n",
    "* If `n == 1`, return `1`.\n",
    "* If `n == -1`, return `-1`.\n",
    "\n",
    "**Hint 2 — Handle negatives**\n",
    "\n",
    "* The cube root of a negative number is also negative (e.g., cube root of `-8` is `-2`).\n",
    "* You can take the cube root of `|n|` (absolute value) and then negate the result.\n",
    "\n",
    "**Hint 3 — Initial search range**\n",
    "\n",
    "* If `|n| >= 1`, the cube root lies in `[0, |n|]`.\n",
    "* If `|n| < 1`, the cube root lies in `[0, 1]`.\n",
    "\n",
    "**Hint 4 — Midpoint and test**\n",
    "\n",
    "* Compute `mid = (low + high)/2`.\n",
    "* Compute `cube = mid*mid*mid`.\n",
    "* Compare `cube` with `|n|`.\n",
    "\n",
    "**Hint 5 — Update range**\n",
    "\n",
    "* If `cube < |n|`, move `low = mid`.\n",
    "* Else move `high = mid`.\n",
    "\n",
    "**Hint 6 — Stopping condition**\n",
    "Stop when `abs(cube - |n|) <= precision`.\n",
    "\n",
    "**Hint 7 — Return value**\n",
    "\n",
    "* If `n` was negative, return `-mid`.\n",
    "* Otherwise return `mid`.\n",
    "\n",
    "---\n",
    "\n",
    "### Example Usage\n",
    "\n",
    "```python\n",
    "cuberoot_binary_search(27, 1e-6)   # ≈ 3.0\n",
    "cuberoot_binary_search(8, 1e-6)    # ≈ 2.0\n",
    "cuberoot_binary_search(-64, 1e-6)  # ≈ -4.0\n",
    "cuberoot_binary_search(0.001, 1e-6) # ≈ 0.1\n",
    "```\n",
    "\n",
    "---\n"
   ]
  },
  {
   "cell_type": "code",
   "execution_count": 14,
   "metadata": {},
   "outputs": [],
   "source": [
    "def cuberoot_binary_search(n, precision):\n",
    "    if (n==0):\n",
    "        return 0\n",
    "    if (n==1):\n",
    "        return 1\n",
    "    if (n==-1):\n",
    "        return -1\n",
    "    if(abs(n)>1):\n",
    "        low=0\n",
    "        high=abs(n)\n",
    "    else:\n",
    "        low=n\n",
    "        high=1\n",
    "    while True:\n",
    "        \n",
    "        mid=(low+high)/2\n",
    "        cube=mid*mid*mid\n",
    "        print(f\"L:{low}, R:{high}, mid: {mid}, cube: {cube}\")\n",
    "        if(cube>abs(n)):\n",
    "            high=mid\n",
    "        else:\n",
    "            low=mid\n",
    "        if(abs(cube-abs(n))<=precision):\n",
    "            if(n<0):\n",
    "                return -mid\n",
    "            else:\n",
    "                return mid"
   ]
  },
  {
   "cell_type": "code",
   "execution_count": 15,
   "metadata": {},
   "outputs": [
    {
     "name": "stdout",
     "output_type": "stream",
     "text": [
      "L:0, R:27, mid: 13.5, cube: 2460.375\n",
      "L:0, R:13.5, mid: 6.75, cube: 307.546875\n",
      "L:0, R:6.75, mid: 3.375, cube: 38.443359375\n",
      "L:0, R:3.375, mid: 1.6875, cube: 4.805419921875\n",
      "L:1.6875, R:3.375, mid: 2.53125, cube: 16.218292236328125\n",
      "L:2.53125, R:3.375, mid: 2.953125, cube: 25.754047393798828\n",
      "L:2.953125, R:3.375, mid: 3.1640625, cube: 31.67635202407837\n",
      "L:2.953125, R:3.1640625, mid: 3.05859375, cube: 28.61313146352768\n",
      "L:2.953125, R:3.05859375, mid: 3.005859375, cube: 27.15851231664419\n",
      "L:2.953125, R:3.005859375, mid: 2.9794921875, cube: 26.450065570883453\n",
      "L:2.9794921875, R:3.005859375, mid: 2.99267578125, cube: 26.80272849847097\n",
      "L:2.99267578125, R:3.005859375, mid: 2.999267578125, cube: 26.980229436958325\n",
      "L:2.999267578125, R:3.005859375, mid: 3.0025634765625, cube: 27.06927302674194\n",
      "L:2.999267578125, R:3.0025634765625, mid: 3.00091552734375, cube: 27.02472678276149\n",
      "L:2.999267578125, R:3.00091552734375, mid: 3.000091552734375, cube: 27.00247199926602\n",
      "L:2.999267578125, R:3.000091552734375, mid: 2.9996795654296875, cube: 26.991349190673485\n",
      "L:2.9996795654296875, R:3.000091552734375, mid: 2.9998855590820312, cube: 26.996910213083858\n",
      "L:2.9998855590820312, R:3.000091552734375, mid: 2.999988555908203, cube: 26.99969101070019\n",
      "L:2.999988555908203, R:3.000091552734375, mid: 3.000040054321289, cube: 27.001081481114007\n",
      "L:2.999988555908203, R:3.000040054321289, mid: 3.000014305114746, cube: 27.000386239939875\n",
      "L:2.999988555908203, R:3.000014305114746, mid: 3.0000014305114746, cube: 27.00003862382823\n",
      "L:2.999988555908203, R:3.0000014305114746, mid: 2.999994993209839, cube: 26.99986481689126\n",
      "L:2.999994993209839, R:3.0000014305114746, mid: 2.9999982118606567, cube: 26.99995172026651\n",
      "L:2.9999982118606567, R:3.0000014305114746, mid: 2.9999998211860657, cube: 26.99999517202406\n",
      "L:2.9999998211860657, R:3.0000014305114746, mid: 3.00000062584877, cube: 27.000016897920318\n",
      "L:2.9999998211860657, R:3.00000062584877, mid: 3.000000223517418, cube: 27.00000603497073\n",
      "L:2.9999998211860657, R:3.000000223517418, mid: 3.000000022351742, cube: 27.000000603497032\n"
     ]
    },
    {
     "data": {
      "text/plain": [
       "3.000000022351742"
      ]
     },
     "execution_count": 15,
     "metadata": {},
     "output_type": "execute_result"
    }
   ],
   "source": [
    "cuberoot_binary_search(27, 1e-6)"
   ]
  },
  {
   "cell_type": "code",
   "execution_count": 16,
   "metadata": {},
   "outputs": [
    {
     "name": "stdout",
     "output_type": "stream",
     "text": [
      "L:0, R:8, mid: 4.0, cube: 64.0\n",
      "L:0, R:4.0, mid: 2.0, cube: 8.0\n"
     ]
    },
    {
     "data": {
      "text/plain": [
       "2.0"
      ]
     },
     "execution_count": 16,
     "metadata": {},
     "output_type": "execute_result"
    }
   ],
   "source": [
    "cuberoot_binary_search(8, 1e-6)"
   ]
  },
  {
   "cell_type": "code",
   "execution_count": 17,
   "metadata": {},
   "outputs": [
    {
     "name": "stdout",
     "output_type": "stream",
     "text": [
      "L:0, R:64, mid: 32.0, cube: 32768.0\n",
      "L:0, R:32.0, mid: 16.0, cube: 4096.0\n",
      "L:0, R:16.0, mid: 8.0, cube: 512.0\n",
      "L:0, R:8.0, mid: 4.0, cube: 64.0\n"
     ]
    },
    {
     "data": {
      "text/plain": [
       "-4.0"
      ]
     },
     "execution_count": 17,
     "metadata": {},
     "output_type": "execute_result"
    }
   ],
   "source": [
    "cuberoot_binary_search(-64, 1e-6)"
   ]
  },
  {
   "cell_type": "code",
   "execution_count": 18,
   "metadata": {},
   "outputs": [
    {
     "name": "stdout",
     "output_type": "stream",
     "text": [
      "L:0.001, R:1, mid: 0.5005, cube: 0.12537537512499994\n",
      "L:0.001, R:0.5005, mid: 0.25075, cube: 0.015766047296874995\n",
      "L:0.001, R:0.25075, mid: 0.125875, cube: 0.001994428404296874\n",
      "L:0.001, R:0.125875, mid: 0.0634375, cube: 0.0002552925720214843\n",
      "L:0.0634375, R:0.125875, mid: 0.09465625, cube: 0.0008481016048889158\n",
      "L:0.09465625, R:0.125875, mid: 0.11026562499999999, cube: 0.0013406654899330136\n",
      "L:0.09465625, R:0.11026562499999999, mid: 0.10246093749999999, cube: 0.0010756598929762837\n",
      "L:0.09465625, R:0.10246093749999999, mid: 0.09855859374999999, cube: 0.0009573781133527158\n",
      "L:0.09855859374999999, R:0.10246093749999999, mid: 0.100509765625, cube: 0.0010153710595159305\n",
      "L:0.09855859374999999, R:0.100509765625, mid: 0.0995341796875, cube: 0.0009860903861163809\n",
      "L:0.0995341796875, R:0.100509765625, mid: 0.10002197265625, cube: 0.0010006593245373953\n"
     ]
    },
    {
     "data": {
      "text/plain": [
       "0.10002197265625"
      ]
     },
     "execution_count": 18,
     "metadata": {},
     "output_type": "execute_result"
    }
   ],
   "source": [
    "cuberoot_binary_search(0.001, 1e-6)"
   ]
  },
  {
   "cell_type": "markdown",
   "metadata": {},
   "source": [
    "## Compute nth Root\n",
    "\n",
    "### Explanation:\n",
    "\n",
    "The *nth root* of a number is a value that, when multiplied by itself **n** times, gives back the original number.\n",
    "\n",
    "For example:\n",
    "\n",
    "* The square root (2nd root) of 16 is 4, because $4 × 4 = 16$.\n",
    "* The cube root (3rd root) of 27 is 3, because $3 × 3 × 3 = 27$.\n",
    "\n",
    "In general, the **nth root of a number `x`** is written as:\n",
    "\n",
    "$$\n",
    "\\sqrt[n]{x} = x^{1/n}\n",
    "$$\n",
    "\n",
    "For example:\n",
    "\n",
    "* $81^{1/4} = 3$, because $3 × 3 × 3 × 3 = 81$.\n",
    "* $32^{1/5} = 2$, because $2 × 2 × 2 × 2 × 2 = 32$.\n",
    "\n",
    "---\n",
    "\n",
    "### Exercise:\n",
    "\n",
    "Write a function `compute_nth_root(x, n)` that takes two numbers:\n",
    "\n",
    "* `x` → the number you want to find the root of\n",
    "* `n` → the degree of the root\n",
    "\n",
    "The function should return the **nth root of x**.\n",
    "\n",
    "---\n",
    "\n",
    "### Example:\n",
    "\n",
    "```python\n",
    "compute_nth_root(16, 2)   # Output: 4.0  \n",
    "compute_nth_root(27, 3)   # Output: 3.0  \n",
    "compute_nth_root(81, 4)   # Output: 3.0  \n",
    "```\n"
   ]
  },
  {
   "cell_type": "code",
   "execution_count": 19,
   "metadata": {},
   "outputs": [],
   "source": [
    "def compute_nth_root(x,n):\n",
    "    if(n<1):\n",
    "        low=x\n",
    "        high=1\n",
    "    else:\n",
    "        low=0\n",
    "        high=x\n",
    "    while True:\n",
    "        mid=(low+high)/2\n",
    "        i=1\n",
    "        mult=1\n",
    "        while i<=n:\n",
    "            mult=mid*mult\n",
    "            i+=1\n",
    "        print(f\"L:{low}, R:{high}, mid: {mid}, mult: {mult}\")\n",
    "        if(mult>abs(x)):\n",
    "            high=mid\n",
    "        else:\n",
    "            low=mid\n",
    "        if(abs(mult-abs(x))<=0.0001):\n",
    "            return mid\n",
    "        \n",
    "            "
   ]
  },
  {
   "cell_type": "code",
   "execution_count": 20,
   "metadata": {},
   "outputs": [
    {
     "name": "stdout",
     "output_type": "stream",
     "text": [
      "L:0, R:16, mid: 8.0, mult: 64.0\n",
      "L:0, R:8.0, mid: 4.0, mult: 16.0\n"
     ]
    },
    {
     "data": {
      "text/plain": [
       "4.0"
      ]
     },
     "execution_count": 20,
     "metadata": {},
     "output_type": "execute_result"
    }
   ],
   "source": [
    "compute_nth_root(16, 2)   # Output: 4.0  "
   ]
  },
  {
   "cell_type": "code",
   "execution_count": 21,
   "metadata": {},
   "outputs": [
    {
     "name": "stdout",
     "output_type": "stream",
     "text": [
      "L:0, R:27, mid: 13.5, mult: 2460.375\n",
      "L:0, R:13.5, mid: 6.75, mult: 307.546875\n",
      "L:0, R:6.75, mid: 3.375, mult: 38.443359375\n",
      "L:0, R:3.375, mid: 1.6875, mult: 4.805419921875\n",
      "L:1.6875, R:3.375, mid: 2.53125, mult: 16.218292236328125\n",
      "L:2.53125, R:3.375, mid: 2.953125, mult: 25.754047393798828\n",
      "L:2.953125, R:3.375, mid: 3.1640625, mult: 31.67635202407837\n",
      "L:2.953125, R:3.1640625, mid: 3.05859375, mult: 28.61313146352768\n",
      "L:2.953125, R:3.05859375, mid: 3.005859375, mult: 27.15851231664419\n",
      "L:2.953125, R:3.005859375, mid: 2.9794921875, mult: 26.450065570883453\n",
      "L:2.9794921875, R:3.005859375, mid: 2.99267578125, mult: 26.80272849847097\n",
      "L:2.99267578125, R:3.005859375, mid: 2.999267578125, mult: 26.980229436958325\n",
      "L:2.999267578125, R:3.005859375, mid: 3.0025634765625, mult: 27.06927302674194\n",
      "L:2.999267578125, R:3.0025634765625, mid: 3.00091552734375, mult: 27.02472678276149\n",
      "L:2.999267578125, R:3.00091552734375, mid: 3.000091552734375, mult: 27.00247199926602\n",
      "L:2.999267578125, R:3.000091552734375, mid: 2.9996795654296875, mult: 26.991349190673485\n",
      "L:2.9996795654296875, R:3.000091552734375, mid: 2.9998855590820312, mult: 26.996910213083858\n",
      "L:2.9998855590820312, R:3.000091552734375, mid: 2.999988555908203, mult: 26.99969101070019\n",
      "L:2.999988555908203, R:3.000091552734375, mid: 3.000040054321289, mult: 27.001081481114007\n",
      "L:2.999988555908203, R:3.000040054321289, mid: 3.000014305114746, mult: 27.000386239939875\n",
      "L:2.999988555908203, R:3.000014305114746, mid: 3.0000014305114746, mult: 27.00003862382823\n"
     ]
    },
    {
     "data": {
      "text/plain": [
       "3.0000014305114746"
      ]
     },
     "execution_count": 21,
     "metadata": {},
     "output_type": "execute_result"
    }
   ],
   "source": [
    "compute_nth_root(27, 3)   # Output: 3.0 "
   ]
  },
  {
   "cell_type": "code",
   "execution_count": 22,
   "metadata": {},
   "outputs": [
    {
     "name": "stdout",
     "output_type": "stream",
     "text": [
      "L:0, R:81, mid: 40.5, mult: 2690420.0625\n",
      "L:0, R:40.5, mid: 20.25, mult: 168151.25390625\n",
      "L:0, R:20.25, mid: 10.125, mult: 10509.453369140625\n",
      "L:0, R:10.125, mid: 5.0625, mult: 656.8408355712891\n",
      "L:0, R:5.0625, mid: 2.53125, mult: 41.052552223205566\n",
      "L:2.53125, R:5.0625, mid: 3.796875, mult: 207.82854562997818\n",
      "L:2.53125, R:3.796875, mid: 3.1640625, mult: 100.22595757618546\n",
      "L:2.53125, R:3.1640625, mid: 2.84765625, mult: 65.75825076573528\n",
      "L:2.84765625, R:3.1640625, mid: 3.005859375, mult: 81.63466885803791\n",
      "L:2.84765625, R:3.005859375, mid: 2.9267578125, mult: 73.3748362800552\n",
      "L:2.9267578125, R:3.005859375, mid: 2.96630859375, mult: 77.4221664778807\n",
      "L:2.96630859375, R:3.005859375, mid: 2.986083984375, mult: 79.50749540755567\n",
      "L:2.986083984375, R:3.005859375, mid: 2.9959716796875, mult: 80.56581689977023\n",
      "L:2.9959716796875, R:3.005859375, mid: 3.00091552734375, mult: 81.09892222461146\n",
      "L:2.9959716796875, R:3.00091552734375, mid: 2.998443603515625, mult: 80.83203994243225\n",
      "L:2.998443603515625, R:3.00091552734375, mid: 2.9996795654296875, mult: 80.96539861064039\n",
      "L:2.9996795654296875, R:3.00091552734375, mid: 3.0002975463867188, mult: 81.03213979090977\n",
      "L:2.9996795654296875, R:3.0002975463867188, mid: 2.999988555908203, mult: 80.99876404515815\n",
      "L:2.999988555908203, R:3.0002975463867188, mid: 3.000143051147461, mult: 81.01545062899697\n",
      "L:2.999988555908203, R:3.000143051147461, mid: 3.000065803527832, mult: 81.0071070148349\n",
      "L:2.999988555908203, R:3.000065803527832, mid: 3.0000271797180176, mult: 81.00293544943794\n",
      "L:2.999988555908203, R:3.0000271797180176, mid: 3.0000078678131104, mult: 81.00084972715865\n",
      "L:2.999988555908203, R:3.0000078678131104, mid: 2.9999982118606567, mult: 80.99980688112359\n",
      "L:2.9999982118606567, R:3.0000078678131104, mid: 3.0000030398368835, mult: 81.00032830288242\n",
      "L:2.9999982118606567, R:3.0000030398368835, mid: 3.00000062584877, mult: 81.00006759168832\n"
     ]
    },
    {
     "data": {
      "text/plain": [
       "3.00000062584877"
      ]
     },
     "execution_count": 22,
     "metadata": {},
     "output_type": "execute_result"
    }
   ],
   "source": [
    "compute_nth_root(81, 4)   # Output: 3.0 "
   ]
  },
  {
   "cell_type": "markdown",
   "metadata": {},
   "source": [
    "## Compute log₁₀(x) with Binary Search\n",
    "\n",
    "### Explanation:\n",
    "\n",
    "The base-10 logarithm of a positive number $x$, written $\\log_{10}(x)$, is the exponent $y$ such that:\n",
    "\n",
    "$$\n",
    "10^y = x\n",
    "$$\n",
    "\n",
    "Examples:\n",
    "\n",
    "* $\\log_{10}(100) = 2$ because $10^2 = 100$.\n",
    "* $\\log_{10}(0.01) = -2$ because $10^{-2} = 0.01$.\n",
    "\n",
    "**Idea:** Instead of using built-in `math.log10`, we can **binary search** for the exponent $y$ so that $10^y$ gets as close as possible to $x$.\n",
    "Why binary search works: the function $f(y)=10^y$ is **strictly increasing**, so we can keep a low/high range for $y$ and narrow it down until $10^y$ is very close to $x$.\n",
    "\n",
    "Key points:\n",
    "\n",
    "* Only defined for **x > 0**.\n",
    "* If $x = 1$, the answer is **0**.\n",
    "* If $0 < x < 1$, the result is **negative**.\n",
    "* We’ll stop when the answer is precise within a small **tolerance** (like `1e-7`).\n",
    "\n",
    "---\n",
    "\n",
    "### Exercise:\n",
    "\n",
    "Write a function `log10_binary_search(x, tol=1e-7)` that returns an approximation of $\\log_{10}(x)$.\n",
    "\n",
    "**Requirements:**\n",
    "\n",
    "* Parameters:\n",
    "\n",
    "  * `x` (float): the positive number whose base-10 log you want.\n",
    "  * `tol` (float): desired precision for the result (default `1e-7`).\n",
    "* Returns:\n",
    "\n",
    "  * A float approximating $\\log_{10}(x)$ such that `abs(10**ans - x) <= tol * max(1, x)`.\n",
    "* Behavior:\n",
    "\n",
    "  * Raise a `ValueError` if `x <= 0`.\n",
    "  * Use **binary search on the exponent `y`**, not on `x`.\n",
    "  * First, find a **bracketing range** `[low, high]` such that `10**low <= x <= 10**high`.\n",
    "\n",
    "    * If `x >= 1`, you can start with `low = 0, high = 1` and keep doubling `high` until `10**high >= x`.\n",
    "    * If `x < 1`, start with `low = -1, high = 0` and keep doubling the *magnitude* of `low` (e.g., `low *= 2`) until `10**low <= x`.\n",
    "  * Then binary search within `[low, high]`:\n",
    "\n",
    "    * Let `mid = (low + high) / 2`.\n",
    "    * If `10**mid` is less than `x`, move `low = mid`; else move `high = mid`.\n",
    "    * Stop when `high - low` is small enough (e.g., `< 1e-12`) or when the forward check `abs(10**mid - x)` meets the tolerance.\n",
    "\n",
    "---\n",
    "\n",
    "### Example:\n",
    "\n",
    "```python\n",
    "log10_binary_search(100)           # Output: 2.0\n",
    "log10_binary_search(1000)          # Output: 3.0\n",
    "log10_binary_search(0.01)          # Output: -2.0\n",
    "round(log10_binary_search(2), 5)   # Output: 0.30103  (approximately)\n",
    "```\n",
    "\n",
    "---\n",
    "\n",
    "### Hints / Checkpoints:\n",
    "\n",
    "1. **Guardrails:** If `x <= 0`, raise `ValueError`. If `x == 1`, return `0.0`.\n",
    "2. **Bracket the answer:**\n",
    "\n",
    "   * `f(y) = 10**y`. You need `low` and `high` such that `f(low) <= x <= f(high)`.\n",
    "   * Expand outward by doubling the interval on the side that doesn’t yet contain `x`.\n",
    "3. **Binary search loop:**\n",
    "\n",
    "   * Compute `mid`; evaluate `f(mid)`.\n",
    "   * If `f(mid) < x`, move `low = mid`; else `high = mid`.\n",
    "4. **Stopping rule:**\n",
    "\n",
    "   * Either `abs(10**mid - x) <= tol * max(1, x)` OR the interval `high - low` is tiny (like `< 1e-12`).\n",
    "5. **Return:** `mid` (or the midpoint of the final `[low, high]`).\n",
    "\n",
    "---"
   ]
  },
  {
   "cell_type": "code",
   "execution_count": 38,
   "metadata": {},
   "outputs": [],
   "source": [
    "def log10_binary_search(x, tol=1e-7):\n",
    "    if x <= 0:\n",
    "        raise ValueError(\"Enter a number greater than 0\")\n",
    "    if x == 1:\n",
    "        return 0.0\n",
    "\n",
    "    # Set safe bounds\n",
    "    low = -10\n",
    "    high = 10\n",
    "\n",
    "    while (high - low) > 1e-12:\n",
    "        mid = (low + high) / 2\n",
    "        try:\n",
    "            result = 10 ** mid\n",
    "        except OverflowError:\n",
    "            high = mid  # Reduce upper bound\n",
    "            continue\n",
    "\n",
    "        print(f\"low: {low}, high: {high}, mid: {mid}, 10^mid: {result}, target: {x}\")\n",
    "\n",
    "        if abs(result - x) <= tol * max(1, x):\n",
    "            return mid\n",
    "        elif result < x:\n",
    "            low = mid\n",
    "        else:\n",
    "            high = mid\n",
    "\n",
    "    return (low + high) / 2\n"
   ]
  },
  {
   "cell_type": "code",
   "execution_count": 39,
   "metadata": {},
   "outputs": [
    {
     "name": "stdout",
     "output_type": "stream",
     "text": [
      "low: -10, high: 10, mid: 0.0, 10^mid: 1.0, target: 100\n",
      "low: 0.0, high: 10, mid: 5.0, 10^mid: 100000.0, target: 100\n",
      "low: 0.0, high: 5.0, mid: 2.5, 10^mid: 316.22776601683796, target: 100\n",
      "low: 0.0, high: 2.5, mid: 1.25, 10^mid: 17.78279410038923, target: 100\n",
      "low: 1.25, high: 2.5, mid: 1.875, 10^mid: 74.98942093324558, target: 100\n",
      "low: 1.875, high: 2.5, mid: 2.1875, 10^mid: 153.9926526059492, target: 100\n",
      "low: 1.875, high: 2.1875, mid: 2.03125, 10^mid: 107.46078283213176, target: 100\n",
      "low: 1.875, high: 2.03125, mid: 1.953125, 10^mid: 89.76871324473142, target: 100\n",
      "low: 1.953125, high: 2.03125, mid: 1.9921875, 10^mid: 98.21718891880379, target: 100\n",
      "low: 1.9921875, high: 2.03125, mid: 2.01171875, 10^mid: 102.73507681793025, target: 100\n",
      "low: 1.9921875, high: 2.01171875, mid: 2.001953125, 10^mid: 100.45073642544625, target: 100\n",
      "low: 1.9921875, high: 2.001953125, mid: 1.9970703125, 10^mid: 99.32768474363539, target: 100\n",
      "low: 1.9970703125, high: 2.001953125, mid: 1.99951171875, 10^mid: 99.88763226712673, target: 100\n",
      "low: 1.99951171875, high: 2.001953125, mid: 2.000732421875, 10^mid: 100.16878865708144, target: 100\n",
      "low: 1.99951171875, high: 2.000732421875, mid: 2.0001220703125, 10^mid: 100.02811167877802, target: 100\n",
      "low: 1.99951171875, high: 2.0001220703125, mid: 1.99981689453125, 10^mid: 99.95784729447139, target: 100\n",
      "low: 1.99981689453125, high: 2.0001220703125, mid: 1.999969482421875, 10^mid: 99.99297331483659, target: 100\n",
      "low: 1.999969482421875, high: 2.0001220703125, mid: 2.0000457763671875, 10^mid: 100.01054095358921, target: 100\n",
      "low: 1.999969482421875, high: 2.0000457763671875, mid: 2.0000076293945312, 10^mid: 100.00175674844226, target: 100\n",
      "low: 1.999969482421875, high: 2.0000076293945312, mid: 1.9999885559082031, 10^mid: 99.997364935201, target: 100\n",
      "low: 1.9999885559082031, high: 2.0000076293945312, mid: 1.9999980926513672, 10^mid: 99.9995608177115, target: 100\n",
      "low: 1.9999980926513672, high: 2.0000076293945312, mid: 2.000002861022949, 10^mid: 100.00065877704928, target: 100\n",
      "low: 1.9999980926513672, high: 2.000002861022949, mid: 2.000000476837158, 10^mid: 100.0001097958735, target: 100\n",
      "low: 1.9999980926513672, high: 2.000000476837158, mid: 1.9999992847442627, 10^mid: 99.99983530641578, target: 100\n",
      "low: 1.9999992847442627, high: 2.000000476837158, mid: 1.9999998807907104, 10^mid: 99.99997255105046, target: 100\n",
      "low: 1.9999998807907104, high: 2.000000476837158, mid: 2.0000001788139343, 10^mid: 100.00004117343843, target: 100\n",
      "low: 1.9999998807907104, high: 2.0000001788139343, mid: 2.0000000298023224, 10^mid: 100.00000686223856, target: 100\n"
     ]
    },
    {
     "data": {
      "text/plain": [
       "2.0000000298023224"
      ]
     },
     "execution_count": 39,
     "metadata": {},
     "output_type": "execute_result"
    }
   ],
   "source": [
    "log10_binary_search(100)           # Output: 2.0\n"
   ]
  },
  {
   "cell_type": "code",
   "execution_count": 40,
   "metadata": {},
   "outputs": [
    {
     "name": "stdout",
     "output_type": "stream",
     "text": [
      "low: -10, high: 10, mid: 0.0, 10^mid: 1.0, target: 1000\n",
      "low: 0.0, high: 10, mid: 5.0, 10^mid: 100000.0, target: 1000\n",
      "low: 0.0, high: 5.0, mid: 2.5, 10^mid: 316.22776601683796, target: 1000\n",
      "low: 2.5, high: 5.0, mid: 3.75, 10^mid: 5623.413251903491, target: 1000\n",
      "low: 2.5, high: 3.75, mid: 3.125, 10^mid: 1333.521432163324, target: 1000\n",
      "low: 2.5, high: 3.125, mid: 2.8125, 10^mid: 649.3816315762114, target: 1000\n",
      "low: 2.8125, high: 3.125, mid: 2.96875, 10^mid: 930.572040929699, target: 1000\n",
      "low: 2.96875, high: 3.125, mid: 3.046875, 10^mid: 1113.9738599948023, target: 1000\n",
      "low: 2.96875, high: 3.046875, mid: 3.0078125, 10^mid: 1018.1517217181819, target: 1000\n",
      "low: 2.96875, high: 3.0078125, mid: 2.98828125, 10^mid: 973.3773809039202, target: 1000\n",
      "low: 2.98828125, high: 3.0078125, mid: 2.998046875, 10^mid: 995.5128609158502, target: 1000\n",
      "low: 2.998046875, high: 3.0078125, mid: 3.0029296875, 10^mid: 1006.7686592927224, target: 1000\n",
      "low: 2.998046875, high: 3.0029296875, mid: 3.00048828125, 10^mid: 1001.1249413998798, target: 1000\n",
      "low: 2.998046875, high: 3.00048828125, mid: 2.999267578125, 10^mid: 998.3149575896413, target: 1000\n",
      "low: 2.999267578125, high: 3.00048828125, mid: 2.9998779296875, 10^mid: 999.7189622166587, target: 1000\n",
      "low: 2.9998779296875, high: 3.00048828125, mid: 3.00018310546875, 10^mid: 1000.421704815275, target: 1000\n",
      "low: 2.9998779296875, high: 3.00018310546875, mid: 3.000030517578125, 10^mid: 1000.0702717894114, target: 1000\n",
      "low: 2.9998779296875, high: 3.000030517578125, mid: 2.9999542236328125, 10^mid: 999.894601574107, target: 1000\n",
      "low: 2.9999542236328125, high: 3.000030517578125, mid: 2.9999923706054688, 10^mid: 999.9824328241884, target: 1000\n",
      "low: 2.9999923706054688, high: 3.000030517578125, mid: 3.000011444091797, 10^mid: 1000.0263513423648, target: 1000\n",
      "low: 2.9999923706054688, high: 3.000011444091797, mid: 3.000001907348633, 10^mid: 1000.0043918421732, target: 1000\n",
      "low: 2.9999923706054688, high: 3.000001907348633, mid: 2.999997138977051, 10^mid: 999.9934122729056, target: 1000\n",
      "low: 2.999997138977051, high: 3.000001907348633, mid: 2.999999523162842, 10^mid: 999.9989020424705, target: 1000\n",
      "low: 2.999999523162842, high: 3.000001907348633, mid: 3.0000007152557373, 10^mid: 1000.0016469385546, target: 1000\n",
      "low: 2.999999523162842, high: 3.0000007152557373, mid: 3.0000001192092896, 10^mid: 1000.0002744895708, target: 1000\n",
      "low: 2.999999523162842, high: 3.0000001192092896, mid: 2.9999998211860657, 10^mid: 999.9995882657852, target: 1000\n",
      "low: 2.9999998211860657, high: 3.0000001192092896, mid: 2.9999999701976776, 10^mid: 999.9999313776191, target: 1000\n"
     ]
    },
    {
     "data": {
      "text/plain": [
       "2.9999999701976776"
      ]
     },
     "execution_count": 40,
     "metadata": {},
     "output_type": "execute_result"
    }
   ],
   "source": [
    "log10_binary_search(1000)          # Output: 3.0\n"
   ]
  },
  {
   "cell_type": "code",
   "execution_count": 41,
   "metadata": {},
   "outputs": [
    {
     "name": "stdout",
     "output_type": "stream",
     "text": [
      "low: -10, high: 10, mid: 0.0, 10^mid: 1.0, target: 0.01\n",
      "low: -10, high: 0.0, mid: -5.0, 10^mid: 1e-05, target: 0.01\n",
      "low: -5.0, high: 0.0, mid: -2.5, 10^mid: 0.0031622776601683794, target: 0.01\n",
      "low: -2.5, high: 0.0, mid: -1.25, 10^mid: 0.05623413251903491, target: 0.01\n",
      "low: -2.5, high: -1.25, mid: -1.875, 10^mid: 0.01333521432163324, target: 0.01\n",
      "low: -2.5, high: -1.875, mid: -2.1875, 10^mid: 0.006493816315762113, target: 0.01\n",
      "low: -2.1875, high: -1.875, mid: -2.03125, 10^mid: 0.00930572040929699, target: 0.01\n",
      "low: -2.03125, high: -1.875, mid: -1.953125, 10^mid: 0.011139738599948023, target: 0.01\n",
      "low: -2.03125, high: -1.953125, mid: -1.9921875, 10^mid: 0.010181517217181819, target: 0.01\n",
      "low: -2.03125, high: -1.9921875, mid: -2.01171875, 10^mid: 0.009733773809039203, target: 0.01\n",
      "low: -2.01171875, high: -1.9921875, mid: -2.001953125, 10^mid: 0.009955128609158502, target: 0.01\n",
      "low: -2.001953125, high: -1.9921875, mid: -1.9970703125, 10^mid: 0.010067686592927224, target: 0.01\n",
      "low: -2.001953125, high: -1.9970703125, mid: -1.99951171875, 10^mid: 0.010011249413998799, target: 0.01\n",
      "low: -2.001953125, high: -1.99951171875, mid: -2.000732421875, 10^mid: 0.009983149575896412, target: 0.01\n",
      "low: -2.000732421875, high: -1.99951171875, mid: -2.0001220703125, 10^mid: 0.009997189622166587, target: 0.01\n",
      "low: -2.0001220703125, high: -1.99951171875, mid: -1.99981689453125, 10^mid: 0.01000421704815275, target: 0.01\n",
      "low: -2.0001220703125, high: -1.99981689453125, mid: -1.999969482421875, 10^mid: 0.010000702717894114, target: 0.01\n",
      "low: -2.0001220703125, high: -1.999969482421875, mid: -2.0000457763671875, 10^mid: 0.00999894601574107, target: 0.01\n",
      "low: -2.0000457763671875, high: -1.999969482421875, mid: -2.0000076293945312, 10^mid: 0.009999824328241884, target: 0.01\n",
      "low: -2.0000076293945312, high: -1.999969482421875, mid: -1.9999885559082031, 10^mid: 0.010000263513423648, target: 0.01\n",
      "low: -2.0000076293945312, high: -1.9999885559082031, mid: -1.9999980926513672, 10^mid: 0.010000043918421731, target: 0.01\n"
     ]
    },
    {
     "data": {
      "text/plain": [
       "-1.9999980926513672"
      ]
     },
     "execution_count": 41,
     "metadata": {},
     "output_type": "execute_result"
    }
   ],
   "source": [
    "log10_binary_search(0.01)          # Output: -2.0\n"
   ]
  },
  {
   "cell_type": "code",
   "execution_count": 42,
   "metadata": {},
   "outputs": [
    {
     "name": "stdout",
     "output_type": "stream",
     "text": [
      "low: -10, high: 10, mid: 0.0, 10^mid: 1.0, target: 2\n",
      "low: 0.0, high: 10, mid: 5.0, 10^mid: 100000.0, target: 2\n",
      "low: 0.0, high: 5.0, mid: 2.5, 10^mid: 316.22776601683796, target: 2\n",
      "low: 0.0, high: 2.5, mid: 1.25, 10^mid: 17.78279410038923, target: 2\n",
      "low: 0.0, high: 1.25, mid: 0.625, 10^mid: 4.216965034285822, target: 2\n",
      "low: 0.0, high: 0.625, mid: 0.3125, 10^mid: 2.0535250264571463, target: 2\n",
      "low: 0.0, high: 0.3125, mid: 0.15625, 10^mid: 1.4330125702369627, target: 2\n",
      "low: 0.15625, high: 0.3125, mid: 0.234375, 10^mid: 1.715437896342879, target: 2\n",
      "low: 0.234375, high: 0.3125, mid: 0.2734375, 10^mid: 1.8768842935762187, target: 2\n",
      "low: 0.2734375, high: 0.3125, mid: 0.29296875, 10^mid: 1.9632190067904056, target: 2\n",
      "low: 0.29296875, high: 0.3125, mid: 0.302734375, 10^mid: 2.0078643786024095, target: 2\n",
      "low: 0.29296875, high: 0.302734375, mid: 0.2978515625, 10^mid: 1.9854162060207066, target: 2\n",
      "low: 0.2978515625, high: 0.302734375, mid: 0.30029296875, 10^mid: 1.9966087440379798, target: 2\n",
      "low: 0.30029296875, high: 0.302734375, mid: 0.301513671875, 10^mid: 2.0022286520674792, target: 2\n",
      "low: 0.30029296875, high: 0.301513671875, mid: 0.3009033203125, 10^mid: 1.9994167235174631, target: 2\n",
      "low: 0.3009033203125, high: 0.301513671875, mid: 0.30120849609375, 10^mid: 2.0008221938117203, target: 2\n",
      "low: 0.3009033203125, high: 0.30120849609375, mid: 0.301055908203125, 10^mid: 2.0001193352127897, target: 2\n",
      "low: 0.3009033203125, high: 0.301055908203125, mid: 0.3009796142578125, 10^mid: 1.9997679985075976, target: 2\n",
      "low: 0.3009796142578125, high: 0.301055908203125, mid: 0.30101776123046875, 10^mid: 1.9999436591451338, target: 2\n",
      "low: 0.30101776123046875, high: 0.301055908203125, mid: 0.3010368347167969, 10^mid: 2.0000314952501124, target: 2\n",
      "low: 0.30101776123046875, high: 0.3010368347167969, mid: 0.3010272979736328, 10^mid: 1.9999875767154212, target: 2\n",
      "low: 0.3010272979736328, high: 0.3010368347167969, mid: 0.30103206634521484, 10^mid: 2.000009535862215, target: 2\n",
      "low: 0.3010272979736328, high: 0.30103206634521484, mid: 0.30102968215942383, 10^mid: 1.9999985562586804, target: 2\n",
      "low: 0.30102968215942383, high: 0.30103206634521484, mid: 0.30103087425231934, 10^mid: 2.000004046052913, target: 2\n",
      "low: 0.30102968215942383, high: 0.30103087425231934, mid: 0.3010302782058716, 10^mid: 2.000001301153913, target: 2\n",
      "low: 0.30102968215942383, high: 0.3010302782058716, mid: 0.3010299801826477, 10^mid: 1.9999999287058259, target: 2\n"
     ]
    },
    {
     "data": {
      "text/plain": [
       "0.30103"
      ]
     },
     "execution_count": 42,
     "metadata": {},
     "output_type": "execute_result"
    }
   ],
   "source": [
    "round(log10_binary_search(2), 5)   # Output: 0.30103  (approximately)"
   ]
  },
  {
   "cell_type": "markdown",
   "metadata": {},
   "source": [
    "## Compute logₙ(x) with Binary Search\n",
    "\n",
    "### Explanation:\n",
    "\n",
    "The logarithm of a positive number $x$ with base $n$ (where $n > 0$ and $n \\neq 1$) is the exponent $y$ such that:\n",
    "\n",
    "$$\n",
    "n^y = x\n",
    "$$\n",
    "\n",
    "Examples:\n",
    "\n",
    "* $\\log_{2}(8) = 3$ because $2^3 = 8$.\n",
    "* $\\log_{3}(81) = 4$ because $3^4 = 81$.\n",
    "* $\\log_{5}(0.04) = -2$ because $5^{-2} = 0.04$.\n",
    "\n",
    "Instead of using Python’s built-in `math.log(x, n)`, we can use **binary search** on the exponent $y$ to find the answer.\n",
    "Why? Because the function $f(y) = n^y$ is **strictly increasing** (when $n > 1$) or **strictly decreasing** (when $0 < n < 1$), so binary search will always converge to the correct solution.\n",
    "\n",
    "---\n",
    "\n",
    "### Exercise:\n",
    "\n",
    "Write a function `log_base_n(x, n, tol=1e-7)` that returns an approximation of $\\log_{n}(x)$.\n",
    "\n",
    "**Requirements:**\n",
    "\n",
    "* Parameters:\n",
    "\n",
    "  * `x` (float): the number whose log you want. Must be > 0.\n",
    "  * `n` (float): the base of the logarithm. Must be > 0 and not equal to 1.\n",
    "  * `tol` (float): the precision of the answer (default `1e-7`).\n",
    "* Returns:\n",
    "\n",
    "  * A float approximating $\\log_{n}(x)$.\n",
    "* Behavior:\n",
    "\n",
    "  * Raise `ValueError` if `x <= 0` or if `n <= 0` or `n == 1`.\n",
    "  * Use **binary search on exponent `y`**:\n",
    "\n",
    "    * Find `[low, high]` such that `n**low <= x <= n**high` (or vice versa if `0 < n < 1`).\n",
    "    * Repeatedly narrow down the range until `n**mid` is close enough to `x`.\n",
    "\n",
    "---\n",
    "\n",
    "### Example:\n",
    "\n",
    "```python\n",
    "log_base_n(8, 2)      # Output: 3.0\n",
    "log_base_n(81, 3)     # Output: 4.0\n",
    "log_base_n(0.04, 5)   # Output: -2.0\n",
    "round(log_base_n(10, 2), 5)   # Output: 3.32193 (approximately)\n",
    "```\n",
    "\n",
    "---\n",
    "\n",
    "### Hints / Checkpoints:\n",
    "\n",
    "1. **Guardrails:**\n",
    "\n",
    "   * If `x <= 0`, raise `ValueError`.\n",
    "   * If `n <= 0` or `n == 1`, raise `ValueError`.\n",
    "   * If `x == 1`, return `0.0`.\n",
    "\n",
    "2. **Bracketing the answer:**\n",
    "\n",
    "   * If `n > 1`:\n",
    "\n",
    "     * Start with `[0, 1]` and keep doubling `high` until `n**high >= x`.\n",
    "     * If `x < 1`, go negative: `[−1, 0]`, doubling `low` downward until `n**low <= x`.\n",
    "   * If `0 < n < 1`:\n",
    "\n",
    "     * The function decreases, so inequalities flip — but the idea is the same.\n",
    "\n",
    "3. **Binary search:**\n",
    "\n",
    "   * Compute `mid = (low + high) / 2`.\n",
    "   * If `n**mid` is too small/large compared to `x`, adjust the interval.\n",
    "\n",
    "4. **Stopping condition:**\n",
    "\n",
    "   * Stop when `abs(n**mid - x) <= tol * max(1, x)` or interval width `< 1e-12`.\n",
    "\n",
    "---\n",
    "\n"
   ]
  },
  {
   "cell_type": "code",
   "execution_count": 43,
   "metadata": {},
   "outputs": [],
   "source": [
    "def log_base_n(x,n, tol=1e-7):\n",
    "    if x <= 0:\n",
    "        raise ValueError(\"Enter a number greater than 0\")\n",
    "    if x == 1:\n",
    "        return 0.0\n",
    "\n",
    "    # Set safe bounds\n",
    "    low = -10\n",
    "    high = 10\n",
    "\n",
    "    while (high - low) > 1e-12:\n",
    "        mid = (low + high) / 2\n",
    "        try:\n",
    "            result = n ** mid\n",
    "        except OverflowError:\n",
    "            high = mid  # Reduce upper bound\n",
    "            continue\n",
    "\n",
    "        print(f\"low: {low}, high: {high}, mid: {mid}, 10^mid: {result}, target: {x}\")\n",
    "\n",
    "        if abs(result - x) <= tol * max(1, x):\n",
    "            return mid\n",
    "        elif result < x:\n",
    "            low = mid\n",
    "        else:\n",
    "            high = mid\n",
    "\n",
    "    return (low + high) / 2\n"
   ]
  },
  {
   "cell_type": "code",
   "execution_count": 44,
   "metadata": {},
   "outputs": [
    {
     "name": "stdout",
     "output_type": "stream",
     "text": [
      "low: -10, high: 10, mid: 0.0, 10^mid: 1.0, target: 8\n",
      "low: 0.0, high: 10, mid: 5.0, 10^mid: 32.0, target: 8\n",
      "low: 0.0, high: 5.0, mid: 2.5, 10^mid: 5.656854249492381, target: 8\n",
      "low: 2.5, high: 5.0, mid: 3.75, 10^mid: 13.454342644059432, target: 8\n",
      "low: 2.5, high: 3.75, mid: 3.125, 10^mid: 8.724061861322062, target: 8\n",
      "low: 2.5, high: 3.125, mid: 2.8125, 10^mid: 7.025008641493198, target: 8\n",
      "low: 2.8125, high: 3.125, mid: 2.96875, 10^mid: 7.828576496701601, target: 8\n",
      "low: 2.96875, high: 3.125, mid: 3.046875, 10^mid: 8.264199032169827, target: 8\n",
      "low: 2.96875, high: 3.046875, mid: 3.0078125, 10^mid: 8.043439208902422, target: 8\n",
      "low: 2.96875, high: 3.0078125, mid: 2.98828125, 10^mid: 7.935280659400878, target: 8\n",
      "low: 2.98828125, high: 3.0078125, mid: 2.998046875, 10^mid: 7.9891769031277615, target: 8\n",
      "low: 2.998046875, high: 3.0078125, mid: 3.0029296875, 10^mid: 8.016262143260752, target: 8\n",
      "low: 2.998046875, high: 3.0029296875, mid: 3.00048828125, 10^mid: 8.002708064421459, target: 8\n",
      "low: 2.998046875, high: 3.00048828125, mid: 2.999267578125, 10^mid: 7.9959396215047915, target: 8\n",
      "low: 2.999267578125, high: 3.00048828125, mid: 2.9998779296875, 10^mid: 7.999323127092908, target: 8\n",
      "low: 2.9998779296875, high: 3.00048828125, mid: 3.00018310546875, 10^mid: 8.00101541675177, target: 8\n",
      "low: 2.9998779296875, high: 3.00018310546875, mid: 3.000030517578125, 10^mid: 8.000169227175718, target: 8\n",
      "low: 2.9998779296875, high: 3.000030517578125, mid: 2.9999542236328125, 10^mid: 7.99974616594825, target: 8\n",
      "low: 2.9999542236328125, high: 3.000030517578125, mid: 2.9999923706054688, 10^mid: 7.999957693765395, target: 8\n",
      "low: 2.9999923706054688, high: 3.000030517578125, mid: 3.000011444091797, 10^mid: 8.0000634597714, target: 8\n",
      "low: 2.9999923706054688, high: 3.000011444091797, mid: 3.000001907348633, 10^mid: 8.00001057659361, target: 8\n",
      "low: 2.9999923706054688, high: 3.000001907348633, mid: 2.999997138977051, 10^mid: 7.999984135135804, target: 8\n",
      "low: 2.999997138977051, high: 3.000001907348633, mid: 2.999999523162842, 10^mid: 7.9999973558537825, target: 8\n",
      "low: 2.999999523162842, high: 3.000001907348633, mid: 3.0000007152557373, 10^mid: 8.000003966220964, target: 8\n",
      "low: 2.999999523162842, high: 3.0000007152557373, mid: 3.0000001192092896, 10^mid: 8.00000066103669, target: 8\n"
     ]
    },
    {
     "data": {
      "text/plain": [
       "3.0000001192092896"
      ]
     },
     "execution_count": 44,
     "metadata": {},
     "output_type": "execute_result"
    }
   ],
   "source": [
    "log_base_n(8, 2)      # Output: 3.0\n"
   ]
  },
  {
   "cell_type": "code",
   "execution_count": 45,
   "metadata": {},
   "outputs": [
    {
     "name": "stdout",
     "output_type": "stream",
     "text": [
      "low: -10, high: 10, mid: 0.0, 10^mid: 1.0, target: 81\n",
      "low: 0.0, high: 10, mid: 5.0, 10^mid: 243.0, target: 81\n",
      "low: 0.0, high: 5.0, mid: 2.5, 10^mid: 15.588457268119896, target: 81\n",
      "low: 2.5, high: 5.0, mid: 3.75, 10^mid: 61.54669053777899, target: 81\n",
      "low: 3.75, high: 5.0, mid: 4.375, 10^mid: 122.2940955266455, target: 81\n",
      "low: 3.75, high: 4.375, mid: 4.0625, 10^mid: 86.75711412890607, target: 81\n",
      "low: 3.75, high: 4.0625, mid: 3.90625, 10^mid: 73.07265737088365, target: 81\n",
      "low: 3.90625, high: 4.0625, mid: 3.984375, 10^mid: 79.62143477247946, target: 81\n",
      "low: 3.984375, high: 4.0625, mid: 4.0234375, 10^mid: 83.11273009391071, target: 81\n",
      "low: 3.984375, high: 4.0234375, mid: 4.00390625, 10^mid: 81.34835473403874, target: 81\n",
      "low: 3.984375, high: 4.00390625, mid: 3.994140625, 10^mid: 80.48026292392929, target: 81\n",
      "low: 3.994140625, high: 4.00390625, mid: 3.9990234375, 10^mid: 80.91314465168503, target: 81\n",
      "low: 3.9990234375, high: 4.00390625, mid: 4.00146484375, 10^mid: 81.13045786738704, target: 81\n",
      "low: 3.9990234375, high: 4.00146484375, mid: 4.000244140625, 10^mid: 81.0217284009748, target: 81\n",
      "low: 3.9990234375, high: 4.000244140625, mid: 3.9996337890625, 10^mid: 80.96741832390119, target: 81\n",
      "low: 3.9996337890625, high: 4.000244140625, mid: 3.99993896484375, 10^mid: 80.994568810305, target: 81\n",
      "low: 3.99993896484375, high: 4.000244140625, mid: 4.000091552734375, 10^mid: 81.00814746741587, target: 81\n",
      "low: 3.99993896484375, high: 4.000091552734375, mid: 4.0000152587890625, 10^mid: 81.00135785432828, target: 81\n",
      "low: 3.99993896484375, high: 4.0000152587890625, mid: 3.9999771118164062, 10^mid: 80.99796326118658, target: 81\n",
      "low: 3.9999771118164062, high: 4.0000152587890625, mid: 3.9999961853027344, 10^mid: 80.99966053997454, target: 81\n",
      "low: 3.9999961853027344, high: 4.0000152587890625, mid: 4.000005722045898, 10^mid: 81.00050919270564, target: 81\n",
      "low: 3.9999961853027344, high: 4.000005722045898, mid: 4.000000953674316, 10^mid: 81.00008486522866, target: 81\n",
      "low: 3.9999961853027344, high: 4.000000953674316, mid: 3.9999985694885254, 10^mid: 80.99987270232374, target: 81\n",
      "low: 3.9999985694885254, high: 4.000000953674316, mid: 3.999999761581421, 10^mid: 80.99997878370672, target: 81\n",
      "low: 3.999999761581421, high: 4.000000953674316, mid: 4.000000357627869, 10^mid: 81.00003182445033, target: 81\n",
      "low: 3.999999761581421, high: 4.000000357627869, mid: 4.000000059604645, 10^mid: 81.00000530407418, target: 81\n"
     ]
    },
    {
     "data": {
      "text/plain": [
       "4.000000059604645"
      ]
     },
     "execution_count": 45,
     "metadata": {},
     "output_type": "execute_result"
    }
   ],
   "source": [
    "log_base_n(81, 3)     # Output: 4.0\n"
   ]
  },
  {
   "cell_type": "code",
   "execution_count": 46,
   "metadata": {},
   "outputs": [
    {
     "name": "stdout",
     "output_type": "stream",
     "text": [
      "low: -10, high: 10, mid: 0.0, 10^mid: 1.0, target: 0.04\n",
      "low: -10, high: 0.0, mid: -5.0, 10^mid: 0.00032, target: 0.04\n",
      "low: -5.0, high: 0.0, mid: -2.5, 10^mid: 0.01788854381999832, target: 0.04\n",
      "low: -2.5, high: 0.0, mid: -1.25, 10^mid: 0.1337480609952844, target: 0.04\n",
      "low: -2.5, high: -1.25, mid: -1.875, 10^mid: 0.04891378179975407, target: 0.04\n",
      "low: -2.5, high: -1.875, mid: -2.1875, 10^mid: 0.029580336866349866, target: 0.04\n",
      "low: -2.1875, high: -1.875, mid: -2.03125, 10^mid: 0.038037956609732054, target: 0.04\n",
      "low: -2.03125, high: -1.875, mid: -1.953125, 10^mid: 0.043134444585701426, target: 0.04\n",
      "low: -2.03125, high: -1.953125, mid: -1.9921875, 10^mid: 0.040506124617590886, target: 0.04\n",
      "low: -2.03125, high: -1.9921875, mid: -2.01171875, 10^mid: 0.03925264590613379, target: 0.04\n",
      "low: -2.01171875, high: -1.9921875, mid: -2.001953125, 10^mid: 0.0398744600796553, target: 0.04\n",
      "low: -2.001953125, high: -1.9921875, mid: -1.9970703125, 10^mid: 0.040189051357871965, target: 0.04\n",
      "low: -2.001953125, high: -1.9970703125, mid: -1.99951171875, 10^mid: 0.04003144668893047, target: 0.04\n",
      "low: -2.001953125, high: -1.99951171875, mid: -2.000732421875, 10^mid: 0.03995287627854354, target: 0.04\n",
      "low: -2.000732421875, high: -1.99951171875, mid: -2.0001220703125, 10^mid: 0.039992142188359336, target: 0.04\n",
      "low: -2.0001220703125, high: -1.99951171875, mid: -1.99981689453125, 10^mid: 0.040011789612430904, target: 0.04\n",
      "low: -2.0001220703125, high: -1.99981689453125, mid: -1.999969482421875, 10^mid: 0.04000196469413791, target: 0.04\n",
      "low: -2.0001220703125, high: -1.999969482421875, mid: -2.0000457763671875, 10^mid: 0.03999705313972135, target: 0.04\n",
      "low: -2.0000457763671875, high: -1.999969482421875, mid: -2.0000076293945312, 10^mid: 0.039999508841543185, target: 0.04\n",
      "low: -2.0000076293945312, high: -1.999969482421875, mid: -1.9999885559082031, 10^mid: 0.040000736748993355, target: 0.04\n",
      "low: -2.0000076293945312, high: -1.9999885559082031, mid: -1.9999980926513672, 10^mid: 0.04000012279055654, target: 0.04\n",
      "low: -2.0000076293945312, high: -1.9999980926513672, mid: -2.000002861022949, 10^mid: 0.03999981581487194, target: 0.04\n",
      "low: -2.000002861022949, high: -1.9999980926513672, mid: -2.000000476837158, 10^mid: 0.03999996930241976, target: 0.04\n"
     ]
    },
    {
     "data": {
      "text/plain": [
       "-2.000000476837158"
      ]
     },
     "execution_count": 46,
     "metadata": {},
     "output_type": "execute_result"
    }
   ],
   "source": [
    "log_base_n(0.04, 5)   # Output: -2.0\n"
   ]
  },
  {
   "cell_type": "code",
   "execution_count": 47,
   "metadata": {},
   "outputs": [
    {
     "name": "stdout",
     "output_type": "stream",
     "text": [
      "low: -10, high: 10, mid: 0.0, 10^mid: 1.0, target: 10\n",
      "low: 0.0, high: 10, mid: 5.0, 10^mid: 32.0, target: 10\n",
      "low: 0.0, high: 5.0, mid: 2.5, 10^mid: 5.656854249492381, target: 10\n",
      "low: 2.5, high: 5.0, mid: 3.75, 10^mid: 13.454342644059432, target: 10\n",
      "low: 2.5, high: 3.75, mid: 3.125, 10^mid: 8.724061861322062, target: 10\n",
      "low: 3.125, high: 3.75, mid: 3.4375, 10^mid: 10.834044375495141, target: 10\n",
      "low: 3.125, high: 3.4375, mid: 3.28125, 10^mid: 9.721978879843752, target: 10\n",
      "low: 3.28125, high: 3.4375, mid: 3.359375, 10^mid: 10.262960128630226, target: 10\n",
      "low: 3.28125, high: 3.359375, mid: 3.3203125, 10^mid: 9.988807817513639, target: 10\n",
      "low: 3.3203125, high: 3.359375, mid: 3.33984375, 10^mid: 10.12495611663045, target: 10\n",
      "low: 3.3203125, high: 3.33984375, mid: 3.330078125, 10^mid: 10.056651570467219, target: 10\n",
      "low: 3.3203125, high: 3.330078125, mid: 3.3251953125, 10^mid: 10.02267228961886, target: 10\n",
      "low: 3.3203125, high: 3.3251953125, mid: 3.32275390625, 10^mid: 10.00572572674877, target: 10\n",
      "low: 3.3203125, high: 3.32275390625, mid: 3.321533203125, 10^mid: 9.997263193456769, target: 10\n",
      "low: 3.321533203125, high: 3.32275390625, mid: 3.3221435546875, 10^mid: 10.001493565055618, target: 10\n",
      "low: 3.321533203125, high: 3.3221435546875, mid: 3.32183837890625, 10^mid: 9.999378155541736, target: 10\n",
      "low: 3.32183837890625, high: 3.3221435546875, mid: 3.321990966796875, 10^mid: 10.000435804364148, target: 10\n",
      "low: 3.32183837890625, high: 3.321990966796875, mid: 3.3219146728515625, 10^mid: 9.999906965970048, target: 10\n",
      "low: 3.3219146728515625, high: 3.321990966796875, mid: 3.3219528198242188, 10^mid: 10.000171381671283, target: 10\n",
      "low: 3.3219146728515625, high: 3.3219528198242188, mid: 3.3219337463378906, 10^mid: 10.000039172946723, target: 10\n",
      "low: 3.3219146728515625, high: 3.3219337463378906, mid: 3.3219242095947266, 10^mid: 9.999973069239902, target: 10\n",
      "low: 3.3219242095947266, high: 3.3219337463378906, mid: 3.3219289779663086, 10^mid: 10.000006121038691, target: 10\n",
      "low: 3.3219242095947266, high: 3.3219289779663086, mid: 3.3219265937805176, 10^mid: 9.99998959512564, target: 10\n",
      "low: 3.3219265937805176, high: 3.3219289779663086, mid: 3.321927785873413, 10^mid: 9.999997858078753, target: 10\n",
      "low: 3.321927785873413, high: 3.3219289779663086, mid: 3.321928381919861, 10^mid: 10.000001989557868, target: 10\n",
      "low: 3.321927785873413, high: 3.321928381919861, mid: 3.321928083896637, 10^mid: 9.999999923818097, target: 10\n"
     ]
    },
    {
     "data": {
      "text/plain": [
       "3.32193"
      ]
     },
     "execution_count": 47,
     "metadata": {},
     "output_type": "execute_result"
    }
   ],
   "source": [
    "round(log_base_n(10, 2), 5)   # Output: 3.32193 (approximately)\n"
   ]
  },
  {
   "cell_type": "code",
   "execution_count": 48,
   "metadata": {},
   "outputs": [
    {
     "name": "stdout",
     "output_type": "stream",
     "text": [
      "low: -10, high: 10, mid: 0.0, 10^mid: 1.0, target: 10\n",
      "low: 0.0, high: 10, mid: 5.0, 10^mid: 32.0, target: 10\n",
      "low: 0.0, high: 5.0, mid: 2.5, 10^mid: 5.656854249492381, target: 10\n",
      "low: 2.5, high: 5.0, mid: 3.75, 10^mid: 13.454342644059432, target: 10\n",
      "low: 2.5, high: 3.75, mid: 3.125, 10^mid: 8.724061861322062, target: 10\n",
      "low: 3.125, high: 3.75, mid: 3.4375, 10^mid: 10.834044375495141, target: 10\n",
      "low: 3.125, high: 3.4375, mid: 3.28125, 10^mid: 9.721978879843752, target: 10\n",
      "low: 3.28125, high: 3.4375, mid: 3.359375, 10^mid: 10.262960128630226, target: 10\n",
      "low: 3.28125, high: 3.359375, mid: 3.3203125, 10^mid: 9.988807817513639, target: 10\n",
      "low: 3.3203125, high: 3.359375, mid: 3.33984375, 10^mid: 10.12495611663045, target: 10\n",
      "low: 3.3203125, high: 3.33984375, mid: 3.330078125, 10^mid: 10.056651570467219, target: 10\n",
      "low: 3.3203125, high: 3.330078125, mid: 3.3251953125, 10^mid: 10.02267228961886, target: 10\n",
      "low: 3.3203125, high: 3.3251953125, mid: 3.32275390625, 10^mid: 10.00572572674877, target: 10\n",
      "low: 3.3203125, high: 3.32275390625, mid: 3.321533203125, 10^mid: 9.997263193456769, target: 10\n",
      "low: 3.321533203125, high: 3.32275390625, mid: 3.3221435546875, 10^mid: 10.001493565055618, target: 10\n",
      "low: 3.321533203125, high: 3.3221435546875, mid: 3.32183837890625, 10^mid: 9.999378155541736, target: 10\n",
      "low: 3.32183837890625, high: 3.3221435546875, mid: 3.321990966796875, 10^mid: 10.000435804364148, target: 10\n",
      "low: 3.32183837890625, high: 3.321990966796875, mid: 3.3219146728515625, 10^mid: 9.999906965970048, target: 10\n",
      "low: 3.3219146728515625, high: 3.321990966796875, mid: 3.3219528198242188, 10^mid: 10.000171381671283, target: 10\n",
      "low: 3.3219146728515625, high: 3.3219528198242188, mid: 3.3219337463378906, 10^mid: 10.000039172946723, target: 10\n",
      "low: 3.3219146728515625, high: 3.3219337463378906, mid: 3.3219242095947266, 10^mid: 9.999973069239902, target: 10\n",
      "low: 3.3219242095947266, high: 3.3219337463378906, mid: 3.3219289779663086, 10^mid: 10.000006121038691, target: 10\n",
      "low: 3.3219242095947266, high: 3.3219289779663086, mid: 3.3219265937805176, 10^mid: 9.99998959512564, target: 10\n",
      "low: 3.3219265937805176, high: 3.3219289779663086, mid: 3.321927785873413, 10^mid: 9.999997858078753, target: 10\n",
      "low: 3.321927785873413, high: 3.3219289779663086, mid: 3.321928381919861, 10^mid: 10.000001989557868, target: 10\n",
      "low: 3.321927785873413, high: 3.321928381919861, mid: 3.321928083896637, 10^mid: 9.999999923818097, target: 10\n"
     ]
    },
    {
     "data": {
      "text/plain": [
       "3.321928083896637"
      ]
     },
     "execution_count": 48,
     "metadata": {},
     "output_type": "execute_result"
    }
   ],
   "source": [
    "log_base_n(10, 2)"
   ]
  },
  {
   "cell_type": "code",
   "execution_count": 49,
   "metadata": {},
   "outputs": [
    {
     "data": {
      "text/plain": [
       "3.322"
      ]
     },
     "execution_count": 49,
     "metadata": {},
     "output_type": "execute_result"
    }
   ],
   "source": [
    "round(3.3219808009898,3)"
   ]
  },
  {
   "cell_type": "code",
   "execution_count": null,
   "metadata": {},
   "outputs": [],
   "source": []
  }
 ],
 "metadata": {
  "kernelspec": {
   "display_name": "Python 3",
   "language": "python",
   "name": "python3"
  },
  "language_info": {
   "codemirror_mode": {
    "name": "ipython",
    "version": 3
   },
   "file_extension": ".py",
   "mimetype": "text/x-python",
   "name": "python",
   "nbconvert_exporter": "python",
   "pygments_lexer": "ipython3",
   "version": "3.6.8"
  },
  "toc": {
   "base_numbering": 1,
   "nav_menu": {},
   "number_sections": true,
   "sideBar": true,
   "skip_h1_title": false,
   "title_cell": "Table of Contents",
   "title_sidebar": "Contents",
   "toc_cell": false,
   "toc_position": {},
   "toc_section_display": true,
   "toc_window_display": false
  }
 },
 "nbformat": 4,
 "nbformat_minor": 2
}
