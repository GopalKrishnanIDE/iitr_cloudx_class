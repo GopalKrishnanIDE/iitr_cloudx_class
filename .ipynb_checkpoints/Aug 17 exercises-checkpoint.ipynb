{
 "cells": [
  {
   "cell_type": "markdown",
   "metadata": {},
   "source": [
    "Q: You have two lists which are ordered. Find common numbers. Report time and memory complexity\n",
    "\n",
    "A = [1,2,3]\n",
    "B = [3,4]\n",
    "Ans: [3]\n",
    "\n",
    "A = [1,2,2, 3]\n",
    "B = [2, 2, 4]\n",
    "Ans: [2, 2]"
   ]
  },
  {
   "cell_type": "code",
   "execution_count": 77,
   "metadata": {},
   "outputs": [],
   "source": [
    "A=[1,2,3,3,6]\n",
    "B=[2,2,3,45]\n"
   ]
  },
  {
   "cell_type": "code",
   "execution_count": 75,
   "metadata": {},
   "outputs": [],
   "source": [
    "def commons(A,B):\n",
    "    len_A=len(A)\n",
    "    len_B=len(B)\n",
    "   # if (len_A<len_B):\n",
    "    n=0\n",
    "    C=[]\n",
    "    while n<len_A:\n",
    "        j=0\n",
    "        while j<len_B:\n",
    "            if (A[n]==B[j]):\n",
    "                C.append(A[n])\n",
    "                break\n",
    "            j+=1\n",
    "        n+=1\n",
    "    return C\n",
    "\n",
    "    "
   ]
  },
  {
   "cell_type": "code",
   "execution_count": 76,
   "metadata": {},
   "outputs": [
    {
     "data": {
      "text/plain": [
       "[2, 3, 3, 6, 5, 5]"
      ]
     },
     "execution_count": 76,
     "metadata": {},
     "output_type": "execute_result"
    }
   ],
   "source": [
    "commons(A,B)"
   ]
  },
  {
   "cell_type": "markdown",
   "metadata": {},
   "source": [
    "def Find_HCF(num1, num2):\n",
    "    # Find prime factors\n",
    "    # sort both list of factors A.sort(). - DO we really need to sort? Will these lists be sorted.\n",
    "    # find common numbers and multiply\n",
    "    pass"
   ]
  },
  {
   "cell_type": "code",
   "execution_count": 42,
   "metadata": {},
   "outputs": [],
   "source": [
    "num1=22\n",
    "num2=21"
   ]
  },
  {
   "cell_type": "code",
   "execution_count": 63,
   "metadata": {},
   "outputs": [],
   "source": []
  },
  {
   "cell_type": "code",
   "execution_count": 64,
   "metadata": {},
   "outputs": [
    {
     "data": {
      "text/plain": [
       "[2, 3]"
      ]
     },
     "execution_count": 64,
     "metadata": {},
     "output_type": "execute_result"
    }
   ],
   "source": [
    "commons_1(A,B)"
   ]
  },
  {
   "cell_type": "code",
   "execution_count": null,
   "metadata": {},
   "outputs": [],
   "source": []
  }
 ],
 "metadata": {
  "kernelspec": {
   "display_name": "Python 3",
   "language": "python",
   "name": "python3"
  },
  "language_info": {
   "codemirror_mode": {
    "name": "ipython",
    "version": 3
   },
   "file_extension": ".py",
   "mimetype": "text/x-python",
   "name": "python",
   "nbconvert_exporter": "python",
   "pygments_lexer": "ipython3",
   "version": "3.6.8"
  },
  "toc": {
   "base_numbering": 1,
   "nav_menu": {},
   "number_sections": true,
   "sideBar": true,
   "skip_h1_title": false,
   "title_cell": "Table of Contents",
   "title_sidebar": "Contents",
   "toc_cell": false,
   "toc_position": {},
   "toc_section_display": true,
   "toc_window_display": false
  }
 },
 "nbformat": 4,
 "nbformat_minor": 2
}
