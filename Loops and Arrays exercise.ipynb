{
 "cells": [
  {
   "cell_type": "markdown",
   "metadata": {},
   "source": [
    "## *Compute Mean of a List of Numbers*\n",
    "\n",
    "**Explanation:**\n",
    "The *mean* (often called the *average*) of a list of numbers is found by adding up all the numbers and then dividing by how many numbers there are.\n",
    "For example, if we have the numbers `[2, 4, 6, 8]`, the sum is `2 + 4 + 6 + 8 = 20`.\n",
    "There are `4` numbers in the list.\n",
    "So, the mean is `20 / 4 = 5`.\n",
    "\n",
    "This is a useful way to find the central value of a group of numbers.\n",
    "\n",
    "---\n",
    "\n",
    "**Exercise:**\n",
    "Write a function `compute_mean(numbers)` that takes a list of numbers and returns their mean (average).\n",
    "If the list is empty, return `0`.\n",
    "\n",
    "---\n",
    "\n",
    "**Example:**\n",
    "\n",
    "```python\n",
    "compute_mean([2, 4, 6, 8])      # Output: 5.0\n",
    "compute_mean([10, 20, 30])      # Output: 20.0\n",
    "compute_mean([])                # Output: 0\n",
    "```\n"
   ]
  },
  {
   "cell_type": "code",
   "execution_count": 7,
   "metadata": {},
   "outputs": [],
   "source": [
    "def compute_mean(A):\n",
    "    sum_number=0\n",
    "    if len(A)==0:\n",
    "        return 0\n",
    "    for x in A:\n",
    "        sum_number+=x\n",
    "    return sum_number/len(A)"
   ]
  },
  {
   "cell_type": "code",
   "execution_count": 8,
   "metadata": {},
   "outputs": [
    {
     "data": {
      "text/plain": [
       "5.0"
      ]
     },
     "execution_count": 8,
     "metadata": {},
     "output_type": "execute_result"
    }
   ],
   "source": [
    "compute_mean([2,4,6,8])"
   ]
  },
  {
   "cell_type": "code",
   "execution_count": 9,
   "metadata": {},
   "outputs": [
    {
     "data": {
      "text/plain": [
       "20.0"
      ]
     },
     "execution_count": 9,
     "metadata": {},
     "output_type": "execute_result"
    }
   ],
   "source": [
    "compute_mean([10, 20, 30])"
   ]
  },
  {
   "cell_type": "code",
   "execution_count": 10,
   "metadata": {},
   "outputs": [
    {
     "data": {
      "text/plain": [
       "0"
      ]
     },
     "execution_count": 10,
     "metadata": {},
     "output_type": "execute_result"
    }
   ],
   "source": [
    "compute_mean([])"
   ]
  },
  {
   "cell_type": "markdown",
   "metadata": {},
   "source": [
    "## *Compute Standard Deviation (SD) of a List of Numbers*\n",
    "\n",
    "**Explanation:**\n",
    "The *standard deviation* (SD) is a way to measure how spread out numbers are in a list.\n",
    "\n",
    "* If the numbers are very close to each other, the SD will be small.\n",
    "* If the numbers are spread far apart, the SD will be large.\n",
    "\n",
    "To compute the SD:\n",
    "\n",
    "1. Find the *mean* (average) of the numbers.\n",
    "2. Subtract the mean from each number and square the result.\n",
    "3. Find the average of these squared differences.\n",
    "4. Take the square root of that value.\n",
    "\n",
    "For example, for the list `[2, 4, 4, 4, 5, 5, 7, 9]`:\n",
    "\n",
    "* Mean = 5\n",
    "* Squared differences = \\[9, 1, 1, 1, 0, 0, 4, 16]\n",
    "* Average of squared differences = 4\n",
    "* Standard Deviation = √4 = 2\n",
    "\n",
    "---\n",
    "\n",
    "**Exercise:**\n",
    "Write a function `compute_sd(numbers)` that takes a list of numbers and returns the standard deviation.\n",
    "\n",
    "---\n",
    "\n",
    "**Example:**\n",
    "\n",
    "```python\n",
    "compute_sd([2, 4, 4, 4, 5, 5, 7, 9])   # Output: 2.0\n",
    "compute_sd([10, 10, 10, 10])           # Output: 0.0\n",
    "```\n",
    "---\n"
   ]
  },
  {
   "cell_type": "code",
   "execution_count": 18,
   "metadata": {},
   "outputs": [
    {
     "name": "stdout",
     "output_type": "stream",
     "text": [
      "0\n",
      "1\n",
      "2\n",
      "3\n",
      "4\n",
      "5\n",
      "6\n",
      "7\n"
     ]
    }
   ],
   "source": [
    "for i in range(0,len([2,4,4,4,5,5,7,9])):\n",
    "    print(i)"
   ]
  },
  {
   "cell_type": "code",
   "execution_count": 28,
   "metadata": {},
   "outputs": [],
   "source": [
    "def compute_sd(A):\n",
    "    mean=compute_mean(A)\n",
    "    print(f\"Mean: {mean}\")\n",
    "    sq_diff=[]\n",
    "    for i in range(0,len(A)):\n",
    "        sq_diff.append((mean-A[i])**2)\n",
    "    print(f\"Squared difference : {sq_diff}\")\n",
    "    sq_mean=compute_mean(sq_diff)\n",
    "    print(f\"Average of sq: {sq_mean}\")\n",
    "    SD=(sq_mean)**0.5\n",
    "    print(f\"SD is :\")\n",
    "    return SD"
   ]
  },
  {
   "cell_type": "code",
   "execution_count": 29,
   "metadata": {},
   "outputs": [
    {
     "name": "stdout",
     "output_type": "stream",
     "text": [
      "Mean: 5.0\n",
      "Squared difference : [9.0, 1.0, 1.0, 1.0, 0.0, 0.0, 4.0, 16.0]\n",
      "Average of sq: 4.0\n",
      "SD is :\n"
     ]
    },
    {
     "data": {
      "text/plain": [
       "2.0"
      ]
     },
     "execution_count": 29,
     "metadata": {},
     "output_type": "execute_result"
    }
   ],
   "source": [
    "compute_sd([2, 4, 4, 4, 5, 5, 7, 9])"
   ]
  },
  {
   "cell_type": "code",
   "execution_count": 30,
   "metadata": {
    "scrolled": true
   },
   "outputs": [
    {
     "name": "stdout",
     "output_type": "stream",
     "text": [
      "Mean: 10.0\n",
      "Squared difference : [0.0, 0.0, 0.0, 0.0]\n",
      "Average of sq: 0.0\n",
      "SD is :\n"
     ]
    },
    {
     "data": {
      "text/plain": [
       "0.0"
      ]
     },
     "execution_count": 30,
     "metadata": {},
     "output_type": "execute_result"
    }
   ],
   "source": [
    "compute_sd([10, 10, 10, 10])   "
   ]
  },
  {
   "cell_type": "markdown",
   "metadata": {},
   "source": [
    "## *Compute Root Mean Square Error (RMSE) in n-dimensions*\n",
    "\n",
    "**Explanation:**\n",
    "When we try to measure how close our predicted values are to the actual values, we use something called the *Root Mean Square Error (RMSE)*. It tells us, on average, how far our predictions are from the actual values.\n",
    "\n",
    "The RMSE is calculated in three steps:\n",
    "\n",
    "1. Subtract each predicted value from the actual value to find the **error**.\n",
    "2. Square each error (to make them positive).\n",
    "3. Find the **average** of these squared errors.\n",
    "4. Take the **square root** of this average.\n",
    "\n",
    "In *n-dimensions*, both the actual and predicted values are given as lists (or vectors). For example, if the actual values are `[2, 3, 4]` and the predicted values are `[3, 2, 5]`, the errors are `[2-3, 3-2, 4-5] = [-1, 1, -1]`. Squaring them gives `[1, 1, 1]`. The average is `1`, and the square root of `1` is `1`. So, the RMSE is `1`.\n",
    "\n",
    "---\n",
    "\n",
    "**Exercise:**\n",
    "Write a function `compute_rmse(actual, predicted)` that:\n",
    "\n",
    "* Takes two lists of equal length: `actual` and `predicted`.\n",
    "* Returns the Root Mean Square Error between them.\n",
    "\n",
    "---\n",
    "\n",
    "**Example Usage:**\n",
    "\n",
    "```python\n",
    "compute_rmse([2, 3, 4], [3, 2, 5])  \n",
    "# Output: 1.0  \n",
    "\n",
    "compute_rmse([1, 2, 3], [1, 2, 3])  \n",
    "# Output: 0.0  \n",
    "```"
   ]
  },
  {
   "cell_type": "code",
   "execution_count": 3,
   "metadata": {},
   "outputs": [],
   "source": [
    "def compute_rmse(actual,predicted):\n",
    "    print(f\"Actual: {actual}\")\n",
    "    print(f\"Predicted: {predicted}\")\n",
    "    sq_diff=[]\n",
    "    for i in range(len(actual)):\n",
    "        sq_diff.append((actual[i]-predicted[i])**2)\n",
    "    print(f\"Squared Difference list: {sq_diff}\")\n",
    "    average=compute_mean(sq_diff)\n",
    "    print(f\"Average: {average}\")\n",
    "    RMSE=(average)**0.5\n",
    "    print(f\"RMSE : \")\n",
    "    return RMSE"
   ]
  },
  {
   "cell_type": "code",
   "execution_count": 35,
   "metadata": {},
   "outputs": [
    {
     "name": "stdout",
     "output_type": "stream",
     "text": [
      "Actual: [2, 3, 4]\n",
      "Predicted: [3, 2, 5]\n",
      "Squared Difference list: [1, 1, 1]\n",
      "Average: 1.0\n",
      "RMSE : \n"
     ]
    },
    {
     "data": {
      "text/plain": [
       "1.0"
      ]
     },
     "execution_count": 35,
     "metadata": {},
     "output_type": "execute_result"
    }
   ],
   "source": [
    "compute_rmse([2, 3, 4], [3, 2, 5]) \n",
    "    "
   ]
  },
  {
   "cell_type": "code",
   "execution_count": 36,
   "metadata": {},
   "outputs": [
    {
     "name": "stdout",
     "output_type": "stream",
     "text": [
      "Actual: [1, 2, 3]\n",
      "Predicted: [1, 2, 3]\n",
      "Squared Difference list: [0, 0, 0]\n",
      "Average: 0.0\n",
      "RMSE : \n"
     ]
    },
    {
     "data": {
      "text/plain": [
       "0.0"
      ]
     },
     "execution_count": 36,
     "metadata": {},
     "output_type": "execute_result"
    }
   ],
   "source": [
    "compute_rmse([1, 2, 3], [1, 2, 3]) "
   ]
  },
  {
   "cell_type": "markdown",
   "metadata": {},
   "source": [
    "## *Compute Mean Absolute Error in N-Dimensions*\n",
    "\n",
    "**Explanation:**\n",
    "The **Mean Absolute Error (MAE)** is a way of measuring how far our predictions are from the actual values.\n",
    "It is calculated by taking the **average of the absolute differences** between predicted values and actual values.\n",
    "\n",
    "For example, if the true values are `[3, 5, 2]` and the predicted values are `[2, 5, 4]`, the absolute errors are:\n",
    "\n",
    "* |3 - 2| = 1\n",
    "* |5 - 5| = 0\n",
    "* |2 - 4| = 2\n",
    "\n",
    "So the MAE is:\n",
    "\n",
    "$$\n",
    "\\text{MAE} = \\frac{1 + 0 + 2}{3} = 1\n",
    "$$\n",
    "\n",
    "In **N-dimensions**, each point can have multiple coordinates. The error is computed for each coordinate, then averaged across all points.\n",
    "\n",
    "---\n",
    "\n",
    "**Exercise:**\n",
    "Write a function `compute_mae(actual, predicted)` that:\n",
    "\n",
    "* Takes two lists of points (each point is a list of numbers, e.g. `[x, y, z, ...]`).\n",
    "* Returns the mean absolute error across all dimensions.\n",
    "\n",
    "---\n",
    "\n",
    "**Example:**\n",
    "\n",
    "```python\n",
    "# Example 1: 1-D\n",
    "actual = [3, 5, 2]\n",
    "predicted = [2, 5, 4]\n",
    "compute_mae(actual, predicted)  \n",
    "# Output: 1.0\n",
    "\n",
    "# Example 2: 2-D\n",
    "actual = [[1, 2], [3, 4], [5, 6]]\n",
    "predicted = [[2, 2], [2, 5], [5, 7]]\n",
    "compute_mae(actual, predicted)  \n",
    "# Output: 0.8888888888888888\n",
    "```\n",
    "\n",
    "👉 In the second example, the function computes absolute differences for each coordinate, sums them, and divides by total number of values (not just points).\n",
    "\n",
    "---\n"
   ]
  },
  {
   "cell_type": "code",
   "execution_count": 4,
   "metadata": {},
   "outputs": [],
   "source": [
    "def compute_mae(actual,predicted):\n",
    "    print(f\"Actual: {actual}\")\n",
    "    print(f\"Predicted: {predicted}\")\n",
    "    abs_error=[]\n",
    "    for i in range(len(actual)):\n",
    "        abs_error.append(abs(actual[i]-predicted[i]))\n",
    "    print(f\"absolute error: {abs_error}\")\n",
    "    MAE=compute_mean(abs_error)\n",
    "    print(f\"MAE is :\")\n",
    "    return MAE"
   ]
  },
  {
   "cell_type": "code",
   "execution_count": 38,
   "metadata": {},
   "outputs": [
    {
     "name": "stdout",
     "output_type": "stream",
     "text": [
      "Actual: [3, 5, 2]\n",
      "Predicted: [2, 5, 4]\n",
      "absolute error: [1, 0, 2]\n",
      "MAE is :\n"
     ]
    },
    {
     "data": {
      "text/plain": [
       "1.0"
      ]
     },
     "execution_count": 38,
     "metadata": {},
     "output_type": "execute_result"
    }
   ],
   "source": [
    "actual = [3, 5, 2]\n",
    "predicted = [2, 5, 4]\n",
    "compute_mae(actual, predicted) "
   ]
  },
  {
   "cell_type": "code",
   "execution_count": 39,
   "metadata": {},
   "outputs": [
    {
     "name": "stdout",
     "output_type": "stream",
     "text": [
      "Actual: [[1, 2], [3, 4], [5, 6]]\n",
      "Predicted: [[2, 2], [2, 5], [5, 7]]\n"
     ]
    },
    {
     "ename": "TypeError",
     "evalue": "unsupported operand type(s) for -: 'list' and 'list'",
     "output_type": "error",
     "traceback": [
      "\u001b[0;31m---------------------------------------------------------------------------\u001b[0m",
      "\u001b[0;31mTypeError\u001b[0m                                 Traceback (most recent call last)",
      "\u001b[0;32m<ipython-input-39-0da28b40a047>\u001b[0m in \u001b[0;36m<module>\u001b[0;34m\u001b[0m\n\u001b[1;32m      1\u001b[0m \u001b[0mactual\u001b[0m \u001b[0;34m=\u001b[0m \u001b[0;34m[\u001b[0m\u001b[0;34m[\u001b[0m\u001b[0;36m1\u001b[0m\u001b[0;34m,\u001b[0m \u001b[0;36m2\u001b[0m\u001b[0;34m]\u001b[0m\u001b[0;34m,\u001b[0m \u001b[0;34m[\u001b[0m\u001b[0;36m3\u001b[0m\u001b[0;34m,\u001b[0m \u001b[0;36m4\u001b[0m\u001b[0;34m]\u001b[0m\u001b[0;34m,\u001b[0m \u001b[0;34m[\u001b[0m\u001b[0;36m5\u001b[0m\u001b[0;34m,\u001b[0m \u001b[0;36m6\u001b[0m\u001b[0;34m]\u001b[0m\u001b[0;34m]\u001b[0m\u001b[0;34m\u001b[0m\u001b[0;34m\u001b[0m\u001b[0m\n\u001b[1;32m      2\u001b[0m \u001b[0mpredicted\u001b[0m \u001b[0;34m=\u001b[0m \u001b[0;34m[\u001b[0m\u001b[0;34m[\u001b[0m\u001b[0;36m2\u001b[0m\u001b[0;34m,\u001b[0m \u001b[0;36m2\u001b[0m\u001b[0;34m]\u001b[0m\u001b[0;34m,\u001b[0m \u001b[0;34m[\u001b[0m\u001b[0;36m2\u001b[0m\u001b[0;34m,\u001b[0m \u001b[0;36m5\u001b[0m\u001b[0;34m]\u001b[0m\u001b[0;34m,\u001b[0m \u001b[0;34m[\u001b[0m\u001b[0;36m5\u001b[0m\u001b[0;34m,\u001b[0m \u001b[0;36m7\u001b[0m\u001b[0;34m]\u001b[0m\u001b[0;34m]\u001b[0m\u001b[0;34m\u001b[0m\u001b[0;34m\u001b[0m\u001b[0m\n\u001b[0;32m----> 3\u001b[0;31m \u001b[0mcompute_mae\u001b[0m\u001b[0;34m(\u001b[0m\u001b[0mactual\u001b[0m\u001b[0;34m,\u001b[0m \u001b[0mpredicted\u001b[0m\u001b[0;34m)\u001b[0m\u001b[0;34m\u001b[0m\u001b[0;34m\u001b[0m\u001b[0m\n\u001b[0m",
      "\u001b[0;32m<ipython-input-37-8c32ee5136a3>\u001b[0m in \u001b[0;36mcompute_mae\u001b[0;34m(actual, predicted)\u001b[0m\n\u001b[1;32m      4\u001b[0m     \u001b[0mabs_error\u001b[0m\u001b[0;34m=\u001b[0m\u001b[0;34m[\u001b[0m\u001b[0;34m]\u001b[0m\u001b[0;34m\u001b[0m\u001b[0;34m\u001b[0m\u001b[0m\n\u001b[1;32m      5\u001b[0m     \u001b[0;32mfor\u001b[0m \u001b[0mi\u001b[0m \u001b[0;32min\u001b[0m \u001b[0mrange\u001b[0m\u001b[0;34m(\u001b[0m\u001b[0mlen\u001b[0m\u001b[0;34m(\u001b[0m\u001b[0mactual\u001b[0m\u001b[0;34m)\u001b[0m\u001b[0;34m)\u001b[0m\u001b[0;34m:\u001b[0m\u001b[0;34m\u001b[0m\u001b[0;34m\u001b[0m\u001b[0m\n\u001b[0;32m----> 6\u001b[0;31m         \u001b[0mabs_error\u001b[0m\u001b[0;34m.\u001b[0m\u001b[0mappend\u001b[0m\u001b[0;34m(\u001b[0m\u001b[0mabs\u001b[0m\u001b[0;34m(\u001b[0m\u001b[0mactual\u001b[0m\u001b[0;34m[\u001b[0m\u001b[0mi\u001b[0m\u001b[0;34m]\u001b[0m\u001b[0;34m-\u001b[0m\u001b[0mpredicted\u001b[0m\u001b[0;34m[\u001b[0m\u001b[0mi\u001b[0m\u001b[0;34m]\u001b[0m\u001b[0;34m)\u001b[0m\u001b[0;34m)\u001b[0m\u001b[0;34m\u001b[0m\u001b[0;34m\u001b[0m\u001b[0m\n\u001b[0m\u001b[1;32m      7\u001b[0m     \u001b[0mprint\u001b[0m\u001b[0;34m(\u001b[0m\u001b[0;34mf\"absolute error: {abs_error}\"\u001b[0m\u001b[0;34m)\u001b[0m\u001b[0;34m\u001b[0m\u001b[0;34m\u001b[0m\u001b[0m\n\u001b[1;32m      8\u001b[0m     \u001b[0mMAE\u001b[0m\u001b[0;34m=\u001b[0m\u001b[0mcompute_mean\u001b[0m\u001b[0;34m(\u001b[0m\u001b[0mabs_error\u001b[0m\u001b[0;34m)\u001b[0m\u001b[0;34m\u001b[0m\u001b[0;34m\u001b[0m\u001b[0m\n",
      "\u001b[0;31mTypeError\u001b[0m: unsupported operand type(s) for -: 'list' and 'list'"
     ]
    }
   ],
   "source": [
    "actual = [[1, 2], [3, 4], [5, 6]]\n",
    "predicted = [[2, 2], [2, 5], [5, 7]]\n",
    "compute_mae(actual, predicted)  "
   ]
  },
  {
   "cell_type": "code",
   "execution_count": 8,
   "metadata": {},
   "outputs": [],
   "source": [
    "\n",
    "def compute_mae(actual, predicted):\n",
    "    print(f\"Actual: {actual}\")\n",
    "    print(f\"Predicted: {predicted}\")\n",
    "    \n",
    "    abs_error = []\n",
    "    \n",
    "    for i in range(len(actual)):\n",
    "        if type(actual[i])==list:  # N-D case\n",
    "            for j in range(len(actual[i])):\n",
    "                abs_error.append(abs(actual[i][j] - predicted[i][j]))\n",
    "        else:  # 1-D case\n",
    "            abs_error.append(abs(actual[i] - predicted[i]))\n",
    "    \n",
    "    print(f\"Absolute error: {abs_error}\")\n",
    "    MAE = compute_mean(abs_error)\n",
    "    print(f\"MAE is: {MAE}\")\n",
    "    return MAE\n"
   ]
  },
  {
   "cell_type": "code",
   "execution_count": 9,
   "metadata": {},
   "outputs": [
    {
     "name": "stdout",
     "output_type": "stream",
     "text": [
      "Actual: [[1, 2], [3, 4], [5, 6]]\n",
      "Predicted: [[2, 2], [2, 5], [5, 7]]\n",
      "Absolute error: [1, 0, 1, 1, 0, 1]\n",
      "MAE is: 0.6666666666666666\n"
     ]
    },
    {
     "data": {
      "text/plain": [
       "0.6666666666666666"
      ]
     },
     "execution_count": 9,
     "metadata": {},
     "output_type": "execute_result"
    }
   ],
   "source": [
    "actual = [[1, 2], [3, 4], [5, 6]]\n",
    "predicted = [[2, 2], [2, 5], [5, 7]]\n",
    "compute_mae(actual, predicted)  "
   ]
  },
  {
   "cell_type": "code",
   "execution_count": 10,
   "metadata": {},
   "outputs": [
    {
     "name": "stdout",
     "output_type": "stream",
     "text": [
      "Actual: [3, 5, 2]\n",
      "Predicted: [2, 5, 4]\n",
      "Absolute error: [1, 0, 2]\n",
      "MAE is: 1.0\n"
     ]
    },
    {
     "data": {
      "text/plain": [
       "1.0"
      ]
     },
     "execution_count": 10,
     "metadata": {},
     "output_type": "execute_result"
    }
   ],
   "source": [
    "actual = [3, 5, 2]\n",
    "predicted = [2, 5, 4]\n",
    "compute_mae(actual, predicted) "
   ]
  },
  {
   "cell_type": "markdown",
   "metadata": {},
   "source": [
    "## *Compute Huber Loss for a Dataset*\n",
    "\n",
    "**Explanation:**\n",
    "When we build a machine learning model, we test it on many data points. To see how well the model is doing, we calculate the **loss** (difference between prediction and actual value).\n",
    "\n",
    "The **Huber Loss** is a special function that:\n",
    "\n",
    "* Uses **squared error** when the prediction is close to the actual value (small error).\n",
    "* Uses **absolute error** when the prediction is far away (big error).\n",
    "\n",
    "This makes it less sensitive to outliers than plain squared error.\n",
    "\n",
    "The formula for one prediction is:\n",
    "\n",
    "$$\n",
    "L(y, f) = \n",
    "\\begin{cases} \n",
    "0.5 \\cdot (y - f)^2 & \\text{if } |y - f| \\leq \\delta \\\\ \n",
    "\\delta \\cdot |y - f| - 0.5 \\cdot \\delta^2 & \\text{if } |y - f| > \\delta \n",
    "\\end{cases}\n",
    "$$\n",
    "\n",
    "To find the loss for a dataset:\n",
    "\n",
    "1. Compute this formula for each pair of actual and predicted values.\n",
    "2. Add them all up.\n",
    "3. Divide by the number of data points to get the **average loss**.\n",
    "\n",
    "---\n",
    "\n",
    "**Exercise:**\n",
    "Write a function `compute_huber_loss(y_true, y_pred, delta)` that takes:\n",
    "\n",
    "* `y_true`: a list of actual values\n",
    "* `y_pred`: a list of predicted values\n",
    "* `delta`: the threshold value\n",
    "\n",
    "and returns the **average Huber loss**.\n",
    "\n",
    "---\n",
    "\n",
    "**Hints for Beginners:**\n",
    "\n",
    "1. Start with an empty list to store the loss for each data point.\n",
    "2. Loop over both `y_true` and `y_pred` together (hint: use `zip`).\n",
    "3. For each pair `(y, f)` do the following:\n",
    "\n",
    "   * Calculate the error: `error = y - f`.\n",
    "   * If `abs(error) <= delta`, compute `0.5 * error**2`.\n",
    "   * Otherwise, compute `delta * abs(error) - 0.5 * delta**2`.\n",
    "   * Append this value to your list.\n",
    "4. At the end, find the average by dividing the sum of all losses by the length of the list.\n",
    "\n",
    "---\n",
    "\n",
    "**Example Usage:**\n",
    "\n",
    "```python\n",
    "compute_huber_loss([5, 2, 7], [4.8, 2.5, 10], 1)\n",
    "# For (5, 4.8): 0.5*(0.2^2) = 0.02\n",
    "# For (2, 2.5): 0.5*(0.5^2) = 0.125\n",
    "# For (7, 10): 1*3 - 0.5*1^2 = 2.5\n",
    "# Average = (0.02 + 0.125 + 2.5) / 3 = 0.8817\n",
    "# Output: 0.8817 (approximately)\n",
    "\n",
    "compute_huber_loss([1, 2, 3], [1, 2, 3], 1)\n",
    "# All predictions are exact → loss = 0\n",
    "# Output: 0\n",
    "```\n"
   ]
  },
  {
   "cell_type": "code",
   "execution_count": 19,
   "metadata": {},
   "outputs": [],
   "source": [
    "def compute_huber_loss(y_true,y_pred,delta):\n",
    "    print(f\"y_true: {y_true}\")\n",
    "    print(f\"y_pred: {y_pred}\")\n",
    "    print(f\"delta: {delta}\")\n",
    "    \n",
    "    loss=[]\n",
    "    for i in range(len(y_true)):\n",
    "        error=y_true[i]-y_pred[i]\n",
    "        if abs(error)<=delta:\n",
    "            loss.append(0.5*(error**2))\n",
    "        else:\n",
    "            loss.append((delta*abs(error))-(0.5*(delta**2)))\n",
    "        print(f\"error: {error} delta: {delta} loss: {loss}\")\n",
    "    average=compute_mean(loss)\n",
    "    return average\n",
    "    "
   ]
  },
  {
   "cell_type": "code",
   "execution_count": 20,
   "metadata": {},
   "outputs": [
    {
     "name": "stdout",
     "output_type": "stream",
     "text": [
      "y_true: [5, 2, 7]\n",
      "y_pred: [4.8, 2.5, 10]\n",
      "delta: 1\n",
      "error: 0.20000000000000018 delta: 1 loss: [0.020000000000000035]\n",
      "error: -0.5 delta: 1 loss: [0.020000000000000035, 0.125]\n",
      "error: -3 delta: 1 loss: [0.020000000000000035, 0.125, 2.5]\n"
     ]
    },
    {
     "data": {
      "text/plain": [
       "0.8816666666666667"
      ]
     },
     "execution_count": 20,
     "metadata": {},
     "output_type": "execute_result"
    }
   ],
   "source": [
    "compute_huber_loss([5, 2, 7], [4.8, 2.5, 10], 1)"
   ]
  },
  {
   "cell_type": "code",
   "execution_count": 21,
   "metadata": {},
   "outputs": [
    {
     "name": "stdout",
     "output_type": "stream",
     "text": [
      "y_true: [1, 2, 3]\n",
      "y_pred: [1, 2, 3]\n",
      "delta: 1\n",
      "error: 0 delta: 1 loss: [0.0]\n",
      "error: 0 delta: 1 loss: [0.0, 0.0]\n",
      "error: 0 delta: 1 loss: [0.0, 0.0, 0.0]\n"
     ]
    },
    {
     "data": {
      "text/plain": [
       "0.0"
      ]
     },
     "execution_count": 21,
     "metadata": {},
     "output_type": "execute_result"
    }
   ],
   "source": [
    "compute_huber_loss([1, 2, 3], [1, 2, 3], 1)"
   ]
  },
  {
   "cell_type": "markdown",
   "metadata": {},
   "source": [
    "## *Check if a Point is Closer to A or B in N-Dimension*\n",
    "\n",
    "**Explanation:**\n",
    "In mathematics, a *point* in an N-dimensional space can be represented as a list (or tuple) of numbers. For example:\n",
    "\n",
    "* A point in 2D is like `(x, y)` → e.g., `(3, 4)`\n",
    "* A point in 3D is like `(x, y, z)` → e.g., `(2, 1, 5)`\n",
    "* In N-dimensions, it’s just a list with N numbers.\n",
    "\n",
    "To find how close two points are, we calculate the **distance** between them. The most common way is using the **Euclidean distance** formula:\n",
    "\n",
    "$$\n",
    "\\text{distance}(P, A) = \\sqrt{(p_1 - a_1)^2 + (p_2 - a_2)^2 + ... + (p_n - a_n)^2}\n",
    "$$\n",
    "\n",
    "We can compare the distance from point `P` to `A` and from `P` to `B`.\n",
    "\n",
    "* If `distance(P, A) < distance(P, B)`, then P is closer to A.\n",
    "* Otherwise, P is closer to B (or equally distant if they are the same).\n",
    "\n",
    "---\n",
    "\n",
    "**Exercise:**\n",
    "Write a function `closer_point(P, A, B)` that:\n",
    "\n",
    "* Takes three points (`P`, `A`, and `B`) as lists of numbers (same length).\n",
    "* Returns `\"A\"` if P is closer to A, `\"B\"` if P is closer to B, or `\"Equal\"` if the distances are the same.\n",
    "\n",
    "---\n",
    "\n",
    "**Example:**\n",
    "\n",
    "```python\n",
    "closer_point([1, 2], [0, 0], [5, 5])  \n",
    "# Output: \"A\"  (because P is closer to A)\n",
    "\n",
    "closer_point([3, 3, 3], [0, 0, 0], [6, 6, 6])  \n",
    "# Output: \"Equal\"  (distances are the same)\n",
    "\n",
    "closer_point([10, 10], [2, 2], [20, 20])  \n",
    "# Output: \"B\"  (P is closer to B)\n",
    "```\n",
    "\n",
    "Would you like me to also include a **step-by-step solution code** (with comments for learners), or keep it just as an exercise statement?"
   ]
  },
  {
   "cell_type": "code",
   "execution_count": 23,
   "metadata": {},
   "outputs": [],
   "source": [
    "def distance(P,A):\n",
    "    distance_PA=0\n",
    "    for i in range(len(A)):\n",
    "        distance_PA+=(P[i]-A[i])**2\n",
    "    sq_distance_PA=(distance_PA)**0.5\n",
    "    return sq_distance_PA"
   ]
  },
  {
   "cell_type": "code",
   "execution_count": 30,
   "metadata": {},
   "outputs": [],
   "source": [
    "def closer_point(P,A,B):\n",
    "    x=\"Equal (distances are same)\"\n",
    "    y=\"A (because P is closer to A)\"\n",
    "    z= \"B (P is closer to B)\"\n",
    "    dist_PA=distance(P,A)\n",
    "    \n",
    "    dist_PB=distance(P,B)\n",
    "    print(dist_PA,\"  \",dist_PB)\n",
    "    if (dist_PA==dist_PB):\n",
    "        return x\n",
    "    if (dist_PA<dist_PB):\n",
    "        return y\n",
    "    else:\n",
    "        return z"
   ]
  },
  {
   "cell_type": "code",
   "execution_count": 31,
   "metadata": {},
   "outputs": [
    {
     "name": "stdout",
     "output_type": "stream",
     "text": [
      "2.23606797749979    5.0\n"
     ]
    },
    {
     "data": {
      "text/plain": [
       "'A (because P is closer to A)'"
      ]
     },
     "execution_count": 31,
     "metadata": {},
     "output_type": "execute_result"
    }
   ],
   "source": [
    "closer_point([1, 2], [0, 0], [5, 5]) "
   ]
  },
  {
   "cell_type": "code",
   "execution_count": 32,
   "metadata": {},
   "outputs": [
    {
     "name": "stdout",
     "output_type": "stream",
     "text": [
      "5.196152422706632    5.196152422706632\n"
     ]
    },
    {
     "data": {
      "text/plain": [
       "'Equal (distances are same)'"
      ]
     },
     "execution_count": 32,
     "metadata": {},
     "output_type": "execute_result"
    }
   ],
   "source": [
    "closer_point([3, 3, 3], [0, 0, 0], [6, 6, 6]) "
   ]
  },
  {
   "cell_type": "code",
   "execution_count": 35,
   "metadata": {},
   "outputs": [
    {
     "name": "stdout",
     "output_type": "stream",
     "text": [
      "39.59797974644666    7.0710678118654755\n"
     ]
    },
    {
     "data": {
      "text/plain": [
       "'B (P is closer to B)'"
      ]
     },
     "execution_count": 35,
     "metadata": {},
     "output_type": "execute_result"
    }
   ],
   "source": [
    "closer_point([30, 30], [2, 2], [25, 25])  "
   ]
  },
  {
   "cell_type": "markdown",
   "metadata": {},
   "source": [
    "## *Find Nearest Neighbour in 1D*\n",
    "\n",
    "**Explanation:**\n",
    "Imagine you have a list of numbers on a line (like houses along a street). If you are standing at a certain position (a target number), you may want to know which house (number) is closest to you. This closest number is called the *nearest neighbour*.\n",
    "\n",
    "For example, if the numbers are `[2, 5, 8, 12]` and the target is `6`, the nearest neighbour is `5` because the distance from `6` to `5` is `1`, while the distance from `6` to `8` is `2`.\n",
    "\n",
    "We measure distance as the absolute difference:\n",
    "`distance = |target - number|`\n",
    "\n",
    "---\n",
    "\n",
    "**Exercise:**\n",
    "Write a function `find_nearest_neighbour(numbers, target)` that returns the nearest neighbour of the target from the list.\n",
    "\n",
    "---\n",
    "\n",
    "**Example:**\n",
    "\n",
    "```python\n",
    "find_nearest_neighbour([2, 5, 8, 12], 6)   # Output: 5\n",
    "find_nearest_neighbour([1, 4, 10, 20], 15) # Output: 10"
   ]
  },
  {
   "cell_type": "code",
   "execution_count": 58,
   "metadata": {},
   "outputs": [],
   "source": [
    "\n",
    "def find_nearest_neighbour(numbers, target):\n",
    "    min_dist = float('inf')\n",
    "    nearest = None\n",
    "    for num in numbers:\n",
    "        distance = abs(target - num)\n",
    "        print(f\"distance: {distance}\")\n",
    "        if distance < min_dist:\n",
    "            min_dist = distance\n",
    "            nearest = num\n",
    "            print(\" \",min_dist,\" \",nearest)\n",
    "    print(f\"Nearest neighbour to {target} is {nearest} with distance {min_dist}\")\n",
    "    return nearest\n"
   ]
  },
  {
   "cell_type": "code",
   "execution_count": 59,
   "metadata": {},
   "outputs": [
    {
     "name": "stdout",
     "output_type": "stream",
     "text": [
      "distance: 4\n",
      "  4   2\n",
      "distance: 1\n",
      "  1   5\n",
      "distance: 2\n",
      "distance: 6\n",
      "Nearest neighbour to 6 is 5 with distance 1\n"
     ]
    },
    {
     "data": {
      "text/plain": [
       "5"
      ]
     },
     "execution_count": 59,
     "metadata": {},
     "output_type": "execute_result"
    }
   ],
   "source": [
    "find_nearest_neighbour([2, 5, 8, 12], 6)"
   ]
  },
  {
   "cell_type": "code",
   "execution_count": 53,
   "metadata": {},
   "outputs": [
    {
     "name": "stdout",
     "output_type": "stream",
     "text": [
      "Nearest neighbour to 15 is None with distance -1\n"
     ]
    }
   ],
   "source": [
    "find_nearest_neighbour([1, 4, 10, 20], 15)"
   ]
  },
  {
   "cell_type": "markdown",
   "metadata": {},
   "source": [
    "## *Find Nearest Neighbour in 2D*\n",
    "\n",
    "**Explanation:**\n",
    "Imagine you are standing on a map at a certain location, and there are several other points (like stores or landmarks) around you. To figure out which one is closest, you measure the *distance* from your location to each of the other points. The point with the smallest distance is called the **nearest neighbour**.\n",
    "\n",
    "In 2D, each point has two coordinates:\n",
    "\n",
    "* `x` (horizontal position)\n",
    "* `y` (vertical position)\n",
    "\n",
    "The **distance** between two points `(x1, y1)` and `(x2, y2)` is calculated using the **Euclidean distance formula**:\n",
    "\n",
    "$$\n",
    "\\text{distance} = \\sqrt{(x2 - x1)^2 + (y2 - y1)^2}\n",
    "$$\n",
    "\n",
    "For example, the distance between `(0, 0)` and `(3, 4)` is:\n",
    "\n",
    "$$\n",
    "\\sqrt{(3-0)^2 + (4-0)^2} = \\sqrt{9 + 16} = 5\n",
    "$$\n",
    "\n",
    "---\n",
    "\n",
    "**Exercise:**\n",
    "Write a function `find_nearest_neighbour(points, target)` that returns the point from the list `points` which is closest to the `target`.\n",
    "\n",
    "* `points` is a list of `(x, y)` tuples.\n",
    "* `target` is a tuple `(x, y)` representing the location we want to compare.\n",
    "* The function should return the nearest neighbour point as a tuple.\n",
    "\n",
    "---\n",
    "\n",
    "**Example Usage:**\n",
    "\n",
    "```python\n",
    "find_nearest_neighbour([(1, 2), (3, 4), (6, 1)], (2, 3))\n",
    "# Output: (1, 2)\n",
    "\n",
    "find_nearest_neighbour([(0, 0), (5, 5), (2, 1)], (3, 3))\n",
    "# Output: (2, 1)\n",
    "```\n",
    "\n",
    "---"
   ]
  },
  {
   "cell_type": "code",
   "execution_count": 62,
   "metadata": {},
   "outputs": [],
   "source": [
    "def find_nearest_neighbour(points,target):\n",
    "    dist=[]\n",
    "    for point in points:\n",
    "        dist.append(distance(point,target))\n",
    "        print(dist)\n",
    "    min_num=float('inf')\n",
    "    i=0\n",
    "    for di in dist:\n",
    "        if di<min_num:\n",
    "            min_num=di\n",
    "            i+=1\n",
    "    return(points[i-1])\n",
    "            \n",
    "            \n",
    "        \n",
    "    "
   ]
  },
  {
   "cell_type": "code",
   "execution_count": 63,
   "metadata": {},
   "outputs": [
    {
     "name": "stdout",
     "output_type": "stream",
     "text": [
      "[1.4142135623730951]\n",
      "[1.4142135623730951, 1.4142135623730951]\n",
      "[1.4142135623730951, 1.4142135623730951, 4.47213595499958]\n"
     ]
    },
    {
     "data": {
      "text/plain": [
       "(1, 2)"
      ]
     },
     "execution_count": 63,
     "metadata": {},
     "output_type": "execute_result"
    }
   ],
   "source": [
    "find_nearest_neighbour([(1, 2), (3, 4), (6, 1)], (2, 3))"
   ]
  },
  {
   "cell_type": "code",
   "execution_count": 64,
   "metadata": {},
   "outputs": [
    {
     "name": "stdout",
     "output_type": "stream",
     "text": [
      "[4.242640687119285]\n",
      "[4.242640687119285, 2.8284271247461903]\n",
      "[4.242640687119285, 2.8284271247461903, 2.23606797749979]\n"
     ]
    },
    {
     "data": {
      "text/plain": [
       "(2, 1)"
      ]
     },
     "execution_count": 64,
     "metadata": {},
     "output_type": "execute_result"
    }
   ],
   "source": [
    "find_nearest_neighbour([(0, 0), (5, 5), (2, 1)], (3, 3))"
   ]
  },
  {
   "cell_type": "markdown",
   "metadata": {},
   "source": [
    "## *Find Nearest Neighbour in N-Dimensions*\n",
    "\n",
    "**Explanation:**\n",
    "Imagine you are standing in a city and want to know which shop is closest to you. To find this, you calculate the *distance* between your location and each shop’s location, and then pick the one with the smallest distance.\n",
    "\n",
    "In computer science, we represent these locations as *points* with coordinates.\n",
    "\n",
    "* In **2D**, a point might look like `[x, y]` (like a map).\n",
    "* In **3D**, it could be `[x, y, z]` (like in space).\n",
    "* In general, in **N dimensions**, a point is `[a1, a2, ..., an]`.\n",
    "\n",
    "The **Euclidean distance** formula helps us measure how far apart two points are:\n",
    "\n",
    "$$\n",
    "\\text{distance}(A, B) = \\sqrt{(a_1 - b_1)^2 + (a_2 - b_2)^2 + ... + (a_n - b_n)^2}\n",
    "$$\n",
    "\n",
    "The nearest neighbour of a point is simply the one with the *smallest distance*.\n",
    "\n",
    "---\n",
    "\n",
    "**Exercise:**\n",
    "Write a function `find_nearest_neighbour(point, points)` that takes:\n",
    "\n",
    "* `point`: a list of numbers representing coordinates of a point in N-dimensions\n",
    "* `points`: a list of points (each a list of numbers)\n",
    "\n",
    "and returns the point from `points` that is nearest to `point`.\n",
    "\n",
    "---\n",
    "\n",
    "### Hints (Step-by-Step)\n",
    "\n",
    "1. **How to calculate distance between two points?**\n",
    "\n",
    "   * Subtract each coordinate of one point from the corresponding coordinate of the other.\n",
    "   * Square these differences.\n",
    "   * Add them all together.\n",
    "   * Take the square root of the result.\n",
    "\n",
    "   Example: distance between `[1,2]` and `[3,4]` is\n",
    "   $\\sqrt{(1-3)^2 + (2-4)^2} = \\sqrt{4+4} = \\sqrt{8}$.\n",
    "\n",
    "---\n",
    "\n",
    "2. **How to apply this to a list of points?**\n",
    "\n",
    "   * For each point in the list, compute its distance to the given point.\n",
    "   * Keep track of the *smallest distance* found so far.\n",
    "   * Also remember the corresponding point.\n",
    "\n",
    "---\n",
    "\n",
    "3. **How to find the nearest neighbour?**\n",
    "\n",
    "   * After checking all the points, the one with the smallest distance is the nearest neighbour.\n",
    "\n",
    "---\n",
    "\n",
    "**Example Usage:**\n",
    "\n",
    "```python\n",
    "find_nearest_neighbour([1, 2], [[3, 4], [2, 1], [0, 0]])\n",
    "# Output: [2, 1]\n",
    "\n",
    "find_nearest_neighbour([0, 0, 0], [[1, 1, 1], [2, 2, 2], [-1, -1, -1]])\n",
    "# Output: [1, 1, 1]\n",
    "```\n"
   ]
  },
  {
   "cell_type": "code",
   "execution_count": 67,
   "metadata": {},
   "outputs": [],
   "source": [
    "def find_nearest_neighbour(point,points):\n",
    "    dist=[]\n",
    "    for pointer in points:\n",
    "        dist.append(distance(pointer,point))\n",
    "        print(dist)\n",
    "    min_num=float('inf')\n",
    "    i=0\n",
    "    for di in dist:\n",
    "        if di<min_num:\n",
    "            min_num=di\n",
    "            i+=1\n",
    "    return(points[i-1])"
   ]
  },
  {
   "cell_type": "code",
   "execution_count": 68,
   "metadata": {},
   "outputs": [
    {
     "name": "stdout",
     "output_type": "stream",
     "text": [
      "[2.8284271247461903]\n",
      "[2.8284271247461903, 1.4142135623730951]\n",
      "[2.8284271247461903, 1.4142135623730951, 2.23606797749979]\n"
     ]
    },
    {
     "data": {
      "text/plain": [
       "[2, 1]"
      ]
     },
     "execution_count": 68,
     "metadata": {},
     "output_type": "execute_result"
    }
   ],
   "source": [
    "find_nearest_neighbour([1, 2], [[3, 4], [2, 1], [0, 0]])"
   ]
  },
  {
   "cell_type": "code",
   "execution_count": 69,
   "metadata": {},
   "outputs": [
    {
     "name": "stdout",
     "output_type": "stream",
     "text": [
      "[1.7320508075688772]\n",
      "[1.7320508075688772, 3.4641016151377544]\n",
      "[1.7320508075688772, 3.4641016151377544, 1.7320508075688772]\n"
     ]
    },
    {
     "data": {
      "text/plain": [
       "[1, 1, 1]"
      ]
     },
     "execution_count": 69,
     "metadata": {},
     "output_type": "execute_result"
    }
   ],
   "source": [
    "find_nearest_neighbour([0, 0, 0], [[1, 1, 1], [2, 2, 2], [-1, -1, -1]])"
   ]
  },
  {
   "cell_type": "markdown",
   "metadata": {},
   "source": [
    "## *Solve for One Variable in a Linear Equation*\n",
    "\n",
    "**Explanation:**\n",
    "A linear equation with multiple variables looks like this:\n",
    "\n",
    "$$\n",
    "a_1x_1 + a_2x_2 + a_3x_3 + \\dots + a_nx_n = b\n",
    "$$\n",
    "\n",
    "Here, each $a_i$ is a coefficient, $x_i$ is a variable, and $b$ is the right-hand side value.\n",
    "If you already know the values of all variables except one, you can find the unknown variable by rearranging the equation.\n",
    "\n",
    "For example, consider the equation:\n",
    "\n",
    "$$\n",
    "3x + 4y + 6z = 20\n",
    "$$\n",
    "\n",
    "If you know $y = 5$ and $z = 6$, then substitute these values:\n",
    "\n",
    "$$\n",
    "3x + 4(5) + 6(6) = 20\n",
    "$$\n",
    "\n",
    "$$\n",
    "3x + 20 + 36 = 20\n",
    "$$\n",
    "\n",
    "$$\n",
    "3x = 20 - 56 = -36\n",
    "$$\n",
    "\n",
    "$$\n",
    "x = -12\n",
    "$$\n",
    "\n",
    "We represent this using two lists:\n",
    "\n",
    "* `equation = [3, 4, 6, 20]` → coefficients and RHS value.\n",
    "* `vars = [5, 6]` → known variable values (in the same order as coefficients after the first one).\n",
    "\n",
    "So the formula is:\n",
    "\n",
    "$$\n",
    "x = \\frac{b - (a_2 \\cdot var_1 + a_3 \\cdot var_2 + \\dots)}{a_1}\n",
    "$$\n",
    "\n",
    "---\n",
    "\n",
    "**Exercise:**\n",
    "Write a function `solve_for_first_variable(equation, vars)` that returns the value of the first variable.\n",
    "\n",
    "* `equation`: a list of numbers where the first $n$ elements are coefficients of the variables and the last element is the right-hand side value.\n",
    "* `vars`: a list of values for the last $n-1$ variables.\n",
    "\n",
    "---\n",
    "\n",
    "**Example:**\n",
    "\n",
    "```python\n",
    "solve_for_first_variable([3, 4, 6, 20], [5, 6])  \n",
    "# Output: -12  \n",
    "\n",
    "solve_for_first_variable([2, 5, 7], [4])  \n",
    "# Equation: 2x + 5y = 7, y=4  \n",
    "# (7 - (5*4)) / 2 = (7 - 20) / 2 = -13/2 = -6.5  \n",
    "# Output: -6.5\n",
    "```"
   ]
  },
  {
   "cell_type": "code",
   "execution_count": 18,
   "metadata": {},
   "outputs": [],
   "source": [
    "def solve_for_first_variable(equation, vars_ ):\n",
    "    if len(equation)==2:\n",
    "        x=equation[1]/equation[0]\n",
    "        return x\n",
    "    else:\n",
    "        x=0\n",
    "        b=equation[len(equation)-1]\n",
    "        print(f\"b={b}\")\n",
    "        a=equation[0]\n",
    "        print(f\"a={a}\")\n",
    "        for i in range(0,len(vars_)):\n",
    "            x+=equation[i+1]*vars_[i]\n",
    "            print(f\"x: {x}, equation: {equation[i+1]}, vars: {vars_[i]}\")\n",
    "\n",
    "        x=(-x+b)/a\n",
    "        \n",
    "        return x"
   ]
  },
  {
   "cell_type": "code",
   "execution_count": 20,
   "metadata": {},
   "outputs": [
    {
     "name": "stdout",
     "output_type": "stream",
     "text": [
      "b=20\n",
      "a=3\n",
      "x: 20, equation: 4, vars: 5\n",
      "x: 56, equation: 6, vars: 6\n"
     ]
    },
    {
     "data": {
      "text/plain": [
       "-12.0"
      ]
     },
     "execution_count": 20,
     "metadata": {},
     "output_type": "execute_result"
    }
   ],
   "source": [
    "solve_for_first_variable([3, 4, 6, 20], [5, 6]) "
   ]
  },
  {
   "cell_type": "code",
   "execution_count": 19,
   "metadata": {},
   "outputs": [
    {
     "name": "stdout",
     "output_type": "stream",
     "text": [
      "b=7\n",
      "a=2\n",
      "x: 20, equation: 5, vars: 4\n"
     ]
    },
    {
     "data": {
      "text/plain": [
       "-6.5"
      ]
     },
     "execution_count": 19,
     "metadata": {},
     "output_type": "execute_result"
    }
   ],
   "source": [
    "solve_for_first_variable([2, 5, 7], [4])"
   ]
  },
  {
   "cell_type": "code",
   "execution_count": 23,
   "metadata": {},
   "outputs": [
    {
     "data": {
      "text/plain": [
       "2.5"
      ]
     },
     "execution_count": 23,
     "metadata": {},
     "output_type": "execute_result"
    }
   ],
   "source": [
    "solve_for_first_variable([2, 5],[0])"
   ]
  },
  {
   "cell_type": "markdown",
   "metadata": {},
   "source": [
    "## *Eliminate a Variable from Equations*\n",
    "\n",
    "**Explanation:**\n",
    "In algebra, one way to solve systems of equations is called *elimination*.\n",
    "The idea is to combine two equations in such a way that one variable “disappears.” This leaves us with an equation that has one fewer variable, which is easier to solve.\n",
    "\n",
    "For example, consider these two equations:\n",
    "\n",
    "1. `2x + 3y = 8`\n",
    "2. `4x - y = 2`\n",
    "\n",
    "We want to eliminate `x`.\n",
    "\n",
    "**Step 1:** Look at the coefficients of `x`. They are 2 (from the first equation) and 4 (from the second).\n",
    "**Step 2:** Multiply the first equation by 2, so the coefficient of `x` becomes 4.\n",
    "\n",
    "* Equation 1 becomes: `4x + 6y = 16`\n",
    "  **Step 3:** Subtract Equation 2 from the new Equation 1:\n",
    "* `(4x + 6y) - (4x - y) = 16 - 2`\n",
    "* `7y = 14`\n",
    "\n",
    "Now, the new equation has only one variable (`y`).\n",
    "\n",
    "---\n",
    "\n",
    "**Exercise:**\n",
    "Write a function `eliminate_variable(eq1, eq2, var_index)` that eliminates the variable at position `var_index` from the two given equations.\n",
    "\n",
    "* Each equation is represented as a list of numbers: the coefficients of variables followed by the constant term.\n",
    "* Example: The equation `2x + 3y = 8` is represented as `[2, 3, 8]`.\n",
    "* The function should return a new equation (list) with one fewer variable.\n",
    "\n",
    "**Hints for Learners:**\n",
    "\n",
    "1. Find the coefficients of the variable you want to eliminate in both equations.\n",
    "2. Multiply each equation so that these coefficients become equal.\n",
    "3. Subtract one equation from the other to cancel out the chosen variable.\n",
    "4. The result is a new equation with one fewer variable.\n",
    "\n",
    "---\n",
    "\n",
    "**Example Usage:**\n",
    "\n",
    "```python\n",
    "eliminate_variable([2, 3, 8], [4, -1, 2], 0)\n",
    "# Output: [7, 14]   # Represents 7y = 14\n",
    "\n",
    "eliminate_variable([1, 2, 3], [3, 1, 7], 1)\n",
    "# Output: [-8, -14]   # Represents -8x = -14\n",
    "```\n",
    "\n"
   ]
  },
  {
   "cell_type": "code",
   "execution_count": 37,
   "metadata": {},
   "outputs": [],
   "source": [
    "def eliminate_variable(eq1,eq2,var_index):\n",
    "    c1=eq1[-1]\n",
    "    c2=eq2[-1]\n",
    "    new_eq1=[]\n",
    "    new_eq2=[]\n",
    "    if var_index==0:\n",
    "        for i in range(len(eq1)):\n",
    "            new_eq1.append(eq2[var_index]*eq1[i])\n",
    "        for i in range(len(eq2)):\n",
    "            new_eq2.append(eq1[var_index]*eq2[i])\n",
    "    if var_index==1:\n",
    "        for i in range(len(eq1)):\n",
    "            new_eq1.append(eq2[var_index]*eq1[i])\n",
    "        for i in range(len(eq2)):\n",
    "            new_eq2.append(eq1[var_index]*eq2[i])\n",
    "    new_eq=[]\n",
    "    for i in range(len(eq1)):\n",
    "        if(i!=var_index):\n",
    "            new_eq.append(new_eq1[i]-new_eq2[i])\n",
    " \n",
    "    print(f\"new_eq1: {new_eq1}, new_eq2 {new_eq2} --> {new_eq}\")\n",
    "    return new_eq"
   ]
  },
  {
   "cell_type": "code",
   "execution_count": 38,
   "metadata": {},
   "outputs": [
    {
     "name": "stdout",
     "output_type": "stream",
     "text": [
      "new_eq1: [8, 12, 32], new_eq2 [8, -2, 4] --> [14, 28]\n"
     ]
    },
    {
     "data": {
      "text/plain": [
       "[14, 28]"
      ]
     },
     "execution_count": 38,
     "metadata": {},
     "output_type": "execute_result"
    }
   ],
   "source": [
    "eliminate_variable([2, 3, 8], [4, -1, 2], 0)"
   ]
  },
  {
   "cell_type": "code",
   "execution_count": 39,
   "metadata": {},
   "outputs": [
    {
     "name": "stdout",
     "output_type": "stream",
     "text": [
      "new_eq1: [1, 2, 3], new_eq2 [6, 2, 14] --> [-5, -11]\n"
     ]
    },
    {
     "data": {
      "text/plain": [
       "[-5, -11]"
      ]
     },
     "execution_count": 39,
     "metadata": {},
     "output_type": "execute_result"
    }
   ],
   "source": [
    "eliminate_variable([1, 2, 3], [3, 1, 7], 1)"
   ]
  },
  {
   "cell_type": "code",
   "execution_count": 40,
   "metadata": {},
   "outputs": [
    {
     "name": "stdout",
     "output_type": "stream",
     "text": [
      "new_eq1: [1, 2, 3, 3], new_eq2 [6, 2, 14, 4] --> [-5, -11, -1]\n"
     ]
    },
    {
     "data": {
      "text/plain": [
       "[-5, -11, -1]"
      ]
     },
     "execution_count": 40,
     "metadata": {},
     "output_type": "execute_result"
    }
   ],
   "source": [
    "eliminate_variable([1, 2, 3,3], [3, 1, 7,2], 1)"
   ]
  },
  {
   "cell_type": "markdown",
   "metadata": {},
   "source": [
    "---\n",
    "**Topic:** *Solve Linear Equations Recursively*\n",
    "\n",
    "**Explanation:**\n",
    "Equations with multiple unknowns (variables) can be solved step by step. One common way is to **eliminate a variable** from some equations until we are left with a smaller set of equations. Eventually, we reduce it to a single equation with one variable, solve it, and then substitute back to find the remaining variables.\n",
    "\n",
    "For example, suppose we have two equations:\n",
    "\n",
    "1. `2x + y = 5`\n",
    "2. `x - y = 1`\n",
    "\n",
    "We can **eliminate** one variable, say `y`, to solve for `x`. Then we use the value of `x` to find `y`.\n",
    "\n",
    "We will use two helper functions:\n",
    "\n",
    "* `eliminate_variable(equations, var_index)`: removes one variable from the system of equations.\n",
    "* `solve_for_first_variable(equations)`: directly solves when there is only one variable left.\n",
    "\n",
    "Using **recursion**, we keep reducing the problem until only one variable remains.\n",
    "\n",
    "---\n",
    "\n",
    "**Exercise:**\n",
    "Write a function `solve_equations(equations)` that:\n",
    "\n",
    "* Takes `equations` as a list of lists, where each sublist represents one linear equation in the form `[a1, a2, ..., an, b]`, meaning:\n",
    "\n",
    "  $$\n",
    "  a_1x_1 + a_2x_2 + \\dots + a_nx_n = b\n",
    "  $$\n",
    "* Uses `eliminate_variable()` and `solve_for_first_variable()` to recursively solve for all variables.\n",
    "* Returns the list of variable values.\n",
    "\n",
    "---\n",
    "\n",
    "**Example:**\n",
    "\n",
    "```python\n",
    "# Example system:\n",
    "# 2x + y = 5\n",
    "# x - y = 1\n",
    "equations = [\n",
    "    [2, 1, 5],  # 2x + y = 5\n",
    "    [1, -1, 1]  # x - y = 1\n",
    "]\n",
    "\n",
    "solve_equations(equations)  \n",
    "# Expected Output: [2.0, 1.0]\n",
    "# Meaning: x = 2, y = 1\n",
    "```\n",
    "\n",
    "```python\n",
    "# Another example:\n",
    "# x + y + z = 6\n",
    "# 2y + 5z = -4\n",
    "# 2x + 5y - z = 27\n",
    "equations = [\n",
    "    [1, 1, 1, 6],    # x + y + z = 6\n",
    "    [0, 2, 5, -4],   # 2y + 5z = -4\n",
    "    [2, 5, -1, 27]   # 2x + 5y - z = 27\n",
    "]\n",
    "\n",
    "solve_equations(equations)  \n",
    "# Expected Output: [5.0, 3.0, -2.0]\n",
    "# Meaning: x = 5, y = 3, z = -2\n",
    "```\n",
    "\n",
    "--"
   ]
  },
  {
   "cell_type": "code",
   "execution_count": 108,
   "metadata": {},
   "outputs": [],
   "source": [
    "equations = [\n",
    "    [2, 1, 5],  # 2x + y = 5\n",
    "    [1, -1, 1]  # x - y = 1\n",
    "]"
   ]
  },
  {
   "cell_type": "code",
   "execution_count": 126,
   "metadata": {},
   "outputs": [],
   "source": [
    "def solve_equations(equations):\n",
    "    \n",
    "    error=\"insufficient variable, please check the equations\"\n",
    "    # for checking the equations\n",
    "    \n",
    "    for i in range(len(equations)):\n",
    "        if len(equations[i])!=len(equations)+1:\n",
    "            return error\n",
    "    \n",
    "    # for solving 1 variable\n",
    "    x=[]\n",
    "    if len(equations)==1:\n",
    "        x.append(equations[0][1]/equations[0][0])\n",
    "        print(f\"variable : {x}\")\n",
    "        return x\n",
    "    \n",
    "    else:\n",
    "        new_eq=[]\n",
    "        for i in range(len(equations)-1):\n",
    "            new_eq.append(eliminate_variable(equations[i],equations[i+1],0))\n",
    "        x.append(solve_for_first_variable(equations[0], solve_equations(new_eq) ))\n",
    "        return x\n",
    "    "
   ]
  },
  {
   "cell_type": "code",
   "execution_count": null,
   "metadata": {},
   "outputs": [],
   "source": [
    "# checking other\n",
    "def solve_equations(equations):\n",
    "    \n",
    "    error=\"insufficient variable, please check the equations\"\n",
    "    # for checking the equations\n",
    "    \n",
    "    for i in range(len(equations)):\n",
    "        if len(equations[i])!=len(equations)+1:\n",
    "            return error\n",
    "    \n",
    "    # for solving 1 variable\n",
    "    x=[]\n",
    "    if len(equations)==1:\n",
    "        x.append(equations[0][1]/equations[0][0])\n",
    "        print(f\"variable : {x}\")\n",
    "        return x\n",
    "    \n",
    "    else:\n",
    "        new_eq=[]\n",
    "        for i in range(len(equations)-1):\n",
    "            new_eq.append(eliminate_variable(equations[i],equations[i+1],1))\n",
    "            print(new_eq)\n",
    "        \n",
    "        x.append(solve_for_first_variable(equations[0], solve_equations(new_eq) ))\n",
    "        return x"
   ]
  },
  {
   "cell_type": "code",
   "execution_count": null,
   "metadata": {},
   "outputs": [],
   "source": [
    "def solve_equations(equations):\n",
    "    if len(equations)"
   ]
  },
  {
   "cell_type": "code",
   "execution_count": 127,
   "metadata": {},
   "outputs": [
    {
     "name": "stdout",
     "output_type": "stream",
     "text": [
      "new_eq1: [2, 1, 5], new_eq2 [2, -2, 2] --> [3, 3]\n",
      "variable : [1.0]\n",
      "b=5\n",
      "a=2\n",
      "x: 1.0, equation: 1, vars: 1.0\n"
     ]
    },
    {
     "data": {
      "text/plain": [
       "[2.0]"
      ]
     },
     "execution_count": 127,
     "metadata": {},
     "output_type": "execute_result"
    }
   ],
   "source": [
    "solve_equations(equations)"
   ]
  },
  {
   "cell_type": "code",
   "execution_count": 130,
   "metadata": {},
   "outputs": [
    {
     "name": "stdout",
     "output_type": "stream",
     "text": [
      "new_eq1: [2, 2, 2, 12], new_eq2 [2, 2, 5, -4] --> [0, -3, 16]\n",
      "new_eq1: [4, 4, 10, -8], new_eq2 [4, 10, -2, 54] --> [-6, 12, -62]\n",
      "new_eq1: [0, 18, -96], new_eq2 [0, 0, 0] --> [18, -96]\n",
      "variable : [-5.333333333333333]\n",
      "b=16\n",
      "a=0\n",
      "x: 16.0, equation: -3, vars: -5.333333333333333\n"
     ]
    },
    {
     "ename": "ZeroDivisionError",
     "evalue": "float division by zero",
     "output_type": "error",
     "traceback": [
      "\u001b[0;31m---------------------------------------------------------------------------\u001b[0m",
      "\u001b[0;31mZeroDivisionError\u001b[0m                         Traceback (most recent call last)",
      "\u001b[0;32m<ipython-input-130-4ed5ce951359>\u001b[0m in \u001b[0;36m<module>\u001b[0;34m\u001b[0m\n\u001b[1;32m      5\u001b[0m ]\n\u001b[1;32m      6\u001b[0m \u001b[0;34m\u001b[0m\u001b[0m\n\u001b[0;32m----> 7\u001b[0;31m \u001b[0msolve_equations\u001b[0m\u001b[0;34m(\u001b[0m\u001b[0mequations\u001b[0m\u001b[0;34m)\u001b[0m\u001b[0;34m\u001b[0m\u001b[0;34m\u001b[0m\u001b[0m\n\u001b[0m\u001b[1;32m      8\u001b[0m \u001b[0;31m# Expected Output: [5.0, 3.0, -2.0]\u001b[0m\u001b[0;34m\u001b[0m\u001b[0;34m\u001b[0m\u001b[0;34m\u001b[0m\u001b[0m\n\u001b[1;32m      9\u001b[0m \u001b[0;31m# Meaning: x = 5, y = 3, z = -2\u001b[0m\u001b[0;34m\u001b[0m\u001b[0;34m\u001b[0m\u001b[0;34m\u001b[0m\u001b[0m\n",
      "\u001b[0;32m<ipython-input-126-c9f9b807b167>\u001b[0m in \u001b[0;36msolve_equations\u001b[0;34m(equations)\u001b[0m\n\u001b[1;32m     19\u001b[0m         \u001b[0;32mfor\u001b[0m \u001b[0mi\u001b[0m \u001b[0;32min\u001b[0m \u001b[0mrange\u001b[0m\u001b[0;34m(\u001b[0m\u001b[0mlen\u001b[0m\u001b[0;34m(\u001b[0m\u001b[0mequations\u001b[0m\u001b[0;34m)\u001b[0m\u001b[0;34m-\u001b[0m\u001b[0;36m1\u001b[0m\u001b[0;34m)\u001b[0m\u001b[0;34m:\u001b[0m\u001b[0;34m\u001b[0m\u001b[0;34m\u001b[0m\u001b[0m\n\u001b[1;32m     20\u001b[0m             \u001b[0mnew_eq\u001b[0m\u001b[0;34m.\u001b[0m\u001b[0mappend\u001b[0m\u001b[0;34m(\u001b[0m\u001b[0meliminate_variable\u001b[0m\u001b[0;34m(\u001b[0m\u001b[0mequations\u001b[0m\u001b[0;34m[\u001b[0m\u001b[0mi\u001b[0m\u001b[0;34m]\u001b[0m\u001b[0;34m,\u001b[0m\u001b[0mequations\u001b[0m\u001b[0;34m[\u001b[0m\u001b[0mi\u001b[0m\u001b[0;34m+\u001b[0m\u001b[0;36m1\u001b[0m\u001b[0;34m]\u001b[0m\u001b[0;34m,\u001b[0m\u001b[0;36m0\u001b[0m\u001b[0;34m)\u001b[0m\u001b[0;34m)\u001b[0m\u001b[0;34m\u001b[0m\u001b[0;34m\u001b[0m\u001b[0m\n\u001b[0;32m---> 21\u001b[0;31m         \u001b[0mx\u001b[0m\u001b[0;34m.\u001b[0m\u001b[0mappend\u001b[0m\u001b[0;34m(\u001b[0m\u001b[0msolve_for_first_variable\u001b[0m\u001b[0;34m(\u001b[0m\u001b[0mequations\u001b[0m\u001b[0;34m[\u001b[0m\u001b[0;36m0\u001b[0m\u001b[0;34m]\u001b[0m\u001b[0;34m,\u001b[0m \u001b[0msolve_equations\u001b[0m\u001b[0;34m(\u001b[0m\u001b[0mnew_eq\u001b[0m\u001b[0;34m)\u001b[0m \u001b[0;34m)\u001b[0m\u001b[0;34m)\u001b[0m\u001b[0;34m\u001b[0m\u001b[0;34m\u001b[0m\u001b[0m\n\u001b[0m\u001b[1;32m     22\u001b[0m         \u001b[0;32mreturn\u001b[0m \u001b[0mx\u001b[0m\u001b[0;34m\u001b[0m\u001b[0;34m\u001b[0m\u001b[0m\n\u001b[1;32m     23\u001b[0m \u001b[0;34m\u001b[0m\u001b[0m\n",
      "\u001b[0;32m<ipython-input-126-c9f9b807b167>\u001b[0m in \u001b[0;36msolve_equations\u001b[0;34m(equations)\u001b[0m\n\u001b[1;32m     19\u001b[0m         \u001b[0;32mfor\u001b[0m \u001b[0mi\u001b[0m \u001b[0;32min\u001b[0m \u001b[0mrange\u001b[0m\u001b[0;34m(\u001b[0m\u001b[0mlen\u001b[0m\u001b[0;34m(\u001b[0m\u001b[0mequations\u001b[0m\u001b[0;34m)\u001b[0m\u001b[0;34m-\u001b[0m\u001b[0;36m1\u001b[0m\u001b[0;34m)\u001b[0m\u001b[0;34m:\u001b[0m\u001b[0;34m\u001b[0m\u001b[0;34m\u001b[0m\u001b[0m\n\u001b[1;32m     20\u001b[0m             \u001b[0mnew_eq\u001b[0m\u001b[0;34m.\u001b[0m\u001b[0mappend\u001b[0m\u001b[0;34m(\u001b[0m\u001b[0meliminate_variable\u001b[0m\u001b[0;34m(\u001b[0m\u001b[0mequations\u001b[0m\u001b[0;34m[\u001b[0m\u001b[0mi\u001b[0m\u001b[0;34m]\u001b[0m\u001b[0;34m,\u001b[0m\u001b[0mequations\u001b[0m\u001b[0;34m[\u001b[0m\u001b[0mi\u001b[0m\u001b[0;34m+\u001b[0m\u001b[0;36m1\u001b[0m\u001b[0;34m]\u001b[0m\u001b[0;34m,\u001b[0m\u001b[0;36m0\u001b[0m\u001b[0;34m)\u001b[0m\u001b[0;34m)\u001b[0m\u001b[0;34m\u001b[0m\u001b[0;34m\u001b[0m\u001b[0m\n\u001b[0;32m---> 21\u001b[0;31m         \u001b[0mx\u001b[0m\u001b[0;34m.\u001b[0m\u001b[0mappend\u001b[0m\u001b[0;34m(\u001b[0m\u001b[0msolve_for_first_variable\u001b[0m\u001b[0;34m(\u001b[0m\u001b[0mequations\u001b[0m\u001b[0;34m[\u001b[0m\u001b[0;36m0\u001b[0m\u001b[0;34m]\u001b[0m\u001b[0;34m,\u001b[0m \u001b[0msolve_equations\u001b[0m\u001b[0;34m(\u001b[0m\u001b[0mnew_eq\u001b[0m\u001b[0;34m)\u001b[0m \u001b[0;34m)\u001b[0m\u001b[0;34m)\u001b[0m\u001b[0;34m\u001b[0m\u001b[0;34m\u001b[0m\u001b[0m\n\u001b[0m\u001b[1;32m     22\u001b[0m         \u001b[0;32mreturn\u001b[0m \u001b[0mx\u001b[0m\u001b[0;34m\u001b[0m\u001b[0;34m\u001b[0m\u001b[0m\n\u001b[1;32m     23\u001b[0m \u001b[0;34m\u001b[0m\u001b[0m\n",
      "\u001b[0;32m<ipython-input-18-2eed3afe8770>\u001b[0m in \u001b[0;36msolve_for_first_variable\u001b[0;34m(equation, vars_)\u001b[0m\n\u001b[1;32m     13\u001b[0m             \u001b[0mprint\u001b[0m\u001b[0;34m(\u001b[0m\u001b[0;34mf\"x: {x}, equation: {equation[i+1]}, vars: {vars_[i]}\"\u001b[0m\u001b[0;34m)\u001b[0m\u001b[0;34m\u001b[0m\u001b[0;34m\u001b[0m\u001b[0m\n\u001b[1;32m     14\u001b[0m \u001b[0;34m\u001b[0m\u001b[0m\n\u001b[0;32m---> 15\u001b[0;31m         \u001b[0mx\u001b[0m\u001b[0;34m=\u001b[0m\u001b[0;34m(\u001b[0m\u001b[0;34m-\u001b[0m\u001b[0mx\u001b[0m\u001b[0;34m+\u001b[0m\u001b[0mb\u001b[0m\u001b[0;34m)\u001b[0m\u001b[0;34m/\u001b[0m\u001b[0ma\u001b[0m\u001b[0;34m\u001b[0m\u001b[0;34m\u001b[0m\u001b[0m\n\u001b[0m\u001b[1;32m     16\u001b[0m \u001b[0;34m\u001b[0m\u001b[0m\n\u001b[1;32m     17\u001b[0m         \u001b[0;32mreturn\u001b[0m \u001b[0mx\u001b[0m\u001b[0;34m\u001b[0m\u001b[0;34m\u001b[0m\u001b[0m\n",
      "\u001b[0;31mZeroDivisionError\u001b[0m: float division by zero"
     ]
    }
   ],
   "source": [
    "equations = [\n",
    "    [1, 1, 1, 6],    # x + y + z = 6\n",
    "    [2, 2, 5, -4],   # 2y + 5z = -4\n",
    "    [2, 5, -1, 27]   # 2x + 5y - z = 27\n",
    "]\n",
    "\n",
    "solve_equations(equations)  \n",
    "# Expected Output: [5.0, 3.0, -2.0]\n",
    "# Meaning: x = 5, y = 3, z = -2"
   ]
  },
  {
   "cell_type": "code",
   "execution_count": 95,
   "metadata": {},
   "outputs": [],
   "source": [
    "equations=[[3,3]]"
   ]
  },
  {
   "cell_type": "code",
   "execution_count": 96,
   "metadata": {},
   "outputs": [
    {
     "data": {
      "text/plain": [
       "1"
      ]
     },
     "execution_count": 96,
     "metadata": {},
     "output_type": "execute_result"
    }
   ],
   "source": [
    "len(equations)"
   ]
  },
  {
   "cell_type": "code",
   "execution_count": 83,
   "metadata": {},
   "outputs": [],
   "source": [
    "for i in range(len(equations)):\n",
    "        if len(equations[i])!=len(equations)+1:\n",
    "            print(\"error\")"
   ]
  },
  {
   "cell_type": "code",
   "execution_count": 87,
   "metadata": {},
   "outputs": [
    {
     "data": {
      "text/plain": [
       "3"
      ]
     },
     "execution_count": 87,
     "metadata": {},
     "output_type": "execute_result"
    }
   ],
   "source": [
    "equations[0][1]"
   ]
  },
  {
   "cell_type": "code",
   "execution_count": 97,
   "metadata": {},
   "outputs": [
    {
     "data": {
      "text/plain": [
       "True"
      ]
     },
     "execution_count": 97,
     "metadata": {},
     "output_type": "execute_result"
    }
   ],
   "source": [
    "len(equations)==1"
   ]
  },
  {
   "cell_type": "code",
   "execution_count": 98,
   "metadata": {},
   "outputs": [
    {
     "name": "stdout",
     "output_type": "stream",
     "text": [
      "variable : 1.0\n"
     ]
    }
   ],
   "source": [
    "x=equations[0][1]/equations[0][0]\n",
    "print(f\"variable : {x}\")"
   ]
  },
  {
   "cell_type": "code",
   "execution_count": 100,
   "metadata": {},
   "outputs": [
    {
     "name": "stdout",
     "output_type": "stream",
     "text": [
      "variable : 1.0\n"
     ]
    }
   ],
   "source": [
    "\n",
    "    if len(equations)==1:\n",
    "        x=equations[0][1]/equations[0][0]\n",
    "        print(f\"variable : {x}\")\n",
    "        "
   ]
  },
  {
   "cell_type": "code",
   "execution_count": 8,
   "metadata": {},
   "outputs": [
    {
     "name": "stdout",
     "output_type": "stream",
     "text": [
      "\n",
      "--- Solving System ---\n",
      "Input equations: [[2, 1, 5], [1, -1, 1]]\n",
      "Reducing system by eliminating variable at index 0...\n",
      "\n",
      "--- Eliminating Variable ---\n",
      "Equation 1: [2, 1, 5]\n",
      "Equation 2: [1, -1, 1]\n",
      "Scaled Equation 1: [2, 1, 5]\n",
      "Scaled Equation 2: [2, -2, 2]\n",
      "New equation after elimination: [3, 3]\n",
      "Reduced equation 0: [3, 3]\n",
      "Reduced system: [[3, 3]]\n",
      "\n",
      "--- Solving System ---\n",
      "Input equations: [[3, 3]]\n",
      "Base case: Solved variable = [1.0]\n",
      "Sub-solution: [1.0]\n",
      "\n",
      "--- Solving First Variable ---\n",
      "Equation: [2, 1, 5]\n",
      "Known variables: [1.0]\n",
      "Adding 1 * 1.0 = 1.0\n",
      "Solved first variable: None\n",
      "Full solution: [None, 1.0]\n"
     ]
    },
    {
     "data": {
      "text/plain": [
       "[None, 1.0]"
      ]
     },
     "execution_count": 8,
     "metadata": {},
     "output_type": "execute_result"
    }
   ],
   "source": [
    "equations = [\n",
    "    [2, 1, 5],  # 2x + y = 5\n",
    "    [1, -1, 1]  # x - y = 1\n",
    "]\n",
    "\n",
    "solve_equations(equations)  \n",
    "# Expected Output: [5.0, 3.0, -2.0]\n",
    "# Meaning: x = 5, y = 3, z = -2"
   ]
  },
  {
   "cell_type": "code",
   "execution_count": 1,
   "metadata": {},
   "outputs": [],
   "source": [
    "def eliminate_variable(equations, var_index):\n",
    "    pivot = equations[0]\n",
    "    print(f\"\\n🔍 Eliminating variable at index {var_index}\")\n",
    "    print(f\"Pivot equation: {pivot}\")\n",
    "\n",
    "    new_equations = []\n",
    "    for eq in equations[1:]:\n",
    "        factor = eq[var_index] / pivot[var_index]\n",
    "        print(f\"→ Eliminating using factor {factor:.4f} from equation: {eq}\")\n",
    "        new_eq = [\n",
    "            eq[i] - factor * pivot[i]\n",
    "            for i in range(len(eq))\n",
    "        ]\n",
    "        new_eq.pop(var_index)\n",
    "        print(f\"↳ Resulting equation: {new_eq}\")\n",
    "        new_equations.append(new_eq)\n",
    "\n",
    "    return new_equations\n",
    "\n",
    "def solve_for_first_variable(equations):\n",
    "    a = equations[0][0]\n",
    "    b = equations[0][-1]\n",
    "    x = b / a\n",
    "    print(f\"\\n✅ Solving single-variable equation: {a}x = {b} → x = {x:.4f}\")\n",
    "    return [x]\n",
    "\n",
    "def solve_equations(equations, depth=0):\n",
    "    indent = \"  \" * depth\n",
    "    print(f\"\\n{indent}📘 Solving system at depth {depth}:\")\n",
    "    for eq in equations:\n",
    "        print(f\"{indent}  {eq}\")\n",
    "\n",
    "    if len(equations[0]) == 2:\n",
    "        return solve_for_first_variable(equations)\n",
    "\n",
    "    reduced = eliminate_variable(equations, 0)\n",
    "    sub_solution = solve_equations(reduced, depth + 1)\n",
    "\n",
    "    first_eq = equations[0]\n",
    "    total = first_eq[-1]\n",
    "    for i in range(len(sub_solution)):\n",
    "        total -= first_eq[i + 1] * sub_solution[i]\n",
    "    first_var = total / first_eq[0]\n",
    "\n",
    "    print(f\"\\n{indent}🔁 Back-substituting:\")\n",
    "    print(f\"{indent}  Using equation: {first_eq}\")\n",
    "    print(f\"{indent}  Known values: {sub_solution}\")\n",
    "    print(f\"{indent}  Solved variable: x{depth} = {first_var:.4f}\")\n",
    "\n",
    "    return [first_var] + sub_solution"
   ]
  },
  {
   "cell_type": "code",
   "execution_count": 2,
   "metadata": {},
   "outputs": [
    {
     "name": "stdout",
     "output_type": "stream",
     "text": [
      "\n",
      "📘 Solving system at depth 0:\n",
      "  [2, 1, 5]\n",
      "  [1, -1, 1]\n",
      "\n",
      "🔍 Eliminating variable at index 0\n",
      "Pivot equation: [2, 1, 5]\n",
      "→ Eliminating using factor 0.5000 from equation: [1, -1, 1]\n",
      "↳ Resulting equation: [-1.5, -1.5]\n",
      "\n",
      "  📘 Solving system at depth 1:\n",
      "    [-1.5, -1.5]\n",
      "\n",
      "✅ Solving single-variable equation: -1.5x = -1.5 → x = 1.0000\n",
      "\n",
      "🔁 Back-substituting:\n",
      "  Using equation: [2, 1, 5]\n",
      "  Known values: [1.0]\n",
      "  Solved variable: x0 = 2.0000\n"
     ]
    },
    {
     "data": {
      "text/plain": [
       "[2.0, 1.0]"
      ]
     },
     "execution_count": 2,
     "metadata": {},
     "output_type": "execute_result"
    }
   ],
   "source": [
    "equations = [\n",
    "    [2, 1, 5],  # 2x + y = 5\n",
    "    [1, -1, 1]  # x - y = 1\n",
    "]\n",
    "\n",
    "solve_equations(equations)  \n",
    "# Expected Output: [5.0, 3.0, -2.0]\n",
    "# Meaning: x = 5, y = 3, z = -2"
   ]
  },
  {
   "cell_type": "code",
   "execution_count": 3,
   "metadata": {},
   "outputs": [
    {
     "name": "stdout",
     "output_type": "stream",
     "text": [
      "\n",
      "📘 Solving system at depth 0:\n",
      "  [1, 1, 1, 6]\n",
      "  [0, 2, 5, -4]\n",
      "  [2, 5, -1, 27]\n",
      "\n",
      "🔍 Eliminating variable at index 0\n",
      "Pivot equation: [1, 1, 1, 6]\n",
      "→ Eliminating using factor 0.0000 from equation: [0, 2, 5, -4]\n",
      "↳ Resulting equation: [2.0, 5.0, -4.0]\n",
      "→ Eliminating using factor 2.0000 from equation: [2, 5, -1, 27]\n",
      "↳ Resulting equation: [3.0, -3.0, 15.0]\n",
      "\n",
      "  📘 Solving system at depth 1:\n",
      "    [2.0, 5.0, -4.0]\n",
      "    [3.0, -3.0, 15.0]\n",
      "\n",
      "🔍 Eliminating variable at index 0\n",
      "Pivot equation: [2.0, 5.0, -4.0]\n",
      "→ Eliminating using factor 1.5000 from equation: [3.0, -3.0, 15.0]\n",
      "↳ Resulting equation: [-10.5, 21.0]\n",
      "\n",
      "    📘 Solving system at depth 2:\n",
      "      [-10.5, 21.0]\n",
      "\n",
      "✅ Solving single-variable equation: -10.5x = 21.0 → x = -2.0000\n",
      "\n",
      "  🔁 Back-substituting:\n",
      "    Using equation: [2.0, 5.0, -4.0]\n",
      "    Known values: [-2.0]\n",
      "    Solved variable: x1 = 3.0000\n",
      "\n",
      "🔁 Back-substituting:\n",
      "  Using equation: [1, 1, 1, 6]\n",
      "  Known values: [3.0, -2.0]\n",
      "  Solved variable: x0 = 5.0000\n"
     ]
    },
    {
     "data": {
      "text/plain": [
       "[5.0, 3.0, -2.0]"
      ]
     },
     "execution_count": 3,
     "metadata": {},
     "output_type": "execute_result"
    }
   ],
   "source": [
    "equations = [\n",
    "    [1, 1, 1, 6],    # x + y + z = 6\n",
    "    [0, 2, 5, -4],   # 2y + 5z = -4\n",
    "    [2, 5, -1, 27]   # 2x + 5y - z = 27\n",
    "]\n",
    "\n",
    "solve_equations(equations)  \n",
    "# Expected Output: [5.0, 3.0, -2.0]\n",
    "# Meaning: x = 5, y = 3, z = -2"
   ]
  },
  {
   "cell_type": "code",
   "execution_count": 1,
   "metadata": {},
   "outputs": [],
   "source": [
    "def solve_for_first_variable(equations):\n",
    "    a=equations[0][0]\n",
    "    b=equations[0][1]\n",
    "    x=b/a\n",
    "    print(a,b,x)\n",
    "    return [x]"
   ]
  },
  {
   "cell_type": "code",
   "execution_count": 2,
   "metadata": {},
   "outputs": [],
   "source": [
    "def eliminate_variable(equation,var_index):\n",
    "    pivot=equation[0] #Choose the pivot which is non zero\n",
    "    \n",
    "    new_equations=[]\n",
    "    for eq in equation[1:]:\n",
    "        factor=eq[var_index]/pivot[var_index]\n",
    "        new_eq=[\n",
    "            eq[i]-factor*pivot[i]\n",
    "            for i in range(len(eq))\n",
    "        ]\n",
    "        new_eq.pop(var_index)\n",
    "        new_equations.append(new_eq)\n",
    "    return new_equations\n",
    "        "
   ]
  },
  {
   "cell_type": "code",
   "execution_count": 3,
   "metadata": {},
   "outputs": [],
   "source": [
    "def solve_equations(equations):\n",
    "    print(len(equations[0]))\n",
    "    if len(equations[0])==2:\n",
    "        return solve_for_first_variable(equations)\n",
    "        \n",
    "    else:\n",
    "        reduced=eliminate_variable(equations,0)\n",
    "        print(f\"reduced: {reduced}\")\n",
    "        sub_solution=solve_equations(reduced)\n",
    "        print(f\"sub_sol: {sub_solution}\")\n",
    "        first_eq=equations[0]\n",
    "        total=first_eq[-1]     \n",
    "        for i in range(len(sub_solution)):\n",
    "            total-=first_eq[i+1]*sub_solution[i]\n",
    "        first_var=total/first_eq[0]\n",
    "        return [first_var]+sub_solution\n",
    "        \n",
    "        "
   ]
  },
  {
   "cell_type": "code",
   "execution_count": 4,
   "metadata": {},
   "outputs": [
    {
     "name": "stdout",
     "output_type": "stream",
     "text": [
      "2\n",
      "2 1 0.5\n"
     ]
    },
    {
     "data": {
      "text/plain": [
       "[0.5]"
      ]
     },
     "execution_count": 4,
     "metadata": {},
     "output_type": "execute_result"
    }
   ],
   "source": [
    "solve_equations([[2,1]])"
   ]
  },
  {
   "cell_type": "code",
   "execution_count": 44,
   "metadata": {},
   "outputs": [],
   "source": [
    "equations = [\n",
    "    [3, -2, 1, 4, -1, 10],   # 3x₁ - 2x₂ + x₃ + 4x₄ - x₅ = 10\n",
    "    [1, 0, -3, 2, 5, -3],    # x₁ - 3x₃ + 2x₄ + 5x₅ = -3\n",
    "    [2, 1, 4, -1, 3, 15],    # 2x₁ + x₂ + 4x₃ - x₄ + 3x₅ = 15\n",
    "    [-1, 3, 2, 0, -4, 7],    # -x₁ + 3x₂ + 2x₃ - 4x₅ = 7\n",
    "    [5, -2, 0, 1, 2, 8]      # 5x₁ - 2x₂ + x₄ + 2x₅ = 8\n",
    "]\n"
   ]
  },
  {
   "cell_type": "code",
   "execution_count": 45,
   "metadata": {},
   "outputs": [
    {
     "name": "stdout",
     "output_type": "stream",
     "text": [
      "6\n",
      "reduced: [[0.6666666666666666, -3.3333333333333335, 0.6666666666666667, 5.333333333333333, -6.333333333333333], [2.333333333333333, 3.3333333333333335, -3.6666666666666665, 3.6666666666666665, 8.333333333333334], [2.3333333333333335, 2.3333333333333335, 1.3333333333333333, -4.333333333333333, 10.333333333333332], [1.3333333333333335, -1.6666666666666667, -5.666666666666667, 3.666666666666667, -8.666666666666668]]\n",
      "5\n",
      "reduced: [[15.0, -6.0, -14.999999999999998, 30.5], [14.000000000000002, -1.0000000000000007, -23.0, 32.5], [5.000000000000002, -7.000000000000001, -7.000000000000001, 4.000000000000002]]\n",
      "4\n",
      "reduced: [[4.6, -9.0, 4.033333333333328], [-5.0, -2.0, -6.166666666666668]]\n",
      "3\n",
      "reduced: [[-11.782608695652176, -1.78260869565218]]\n",
      "2\n",
      "-11.782608695652176 -1.78260869565218 0.15129151291512966\n",
      "sub_sol: [0.15129151291512966]\n",
      "sub_sol: [1.1728167281672814, 0.15129151291512966]\n",
      "sub_sol: [2.6537515375153755, 1.1728167281672814, 0.15129151291512966]\n",
      "sub_sol: [1.3856088560885609, 2.6537515375153755, 1.1728167281672814, 0.15129151291512966]\n"
     ]
    },
    {
     "data": {
      "text/plain": [
       "[1.8591635916359168,\n",
       " 1.3856088560885609,\n",
       " 2.6537515375153755,\n",
       " 1.1728167281672814,\n",
       " 0.15129151291512966]"
      ]
     },
     "execution_count": 45,
     "metadata": {},
     "output_type": "execute_result"
    }
   ],
   "source": [
    "solve_equations(equations)"
   ]
  },
  {
   "cell_type": "code",
   "execution_count": 5,
   "metadata": {},
   "outputs": [
    {
     "name": "stdout",
     "output_type": "stream",
     "text": [
      "3\n",
      "reduced: [[-1.5, -1.5]]\n",
      "2\n",
      "-1.5 -1.5 1.0\n",
      "sub_sol: [1.0]\n"
     ]
    },
    {
     "data": {
      "text/plain": [
       "[2.0, 1.0]"
      ]
     },
     "execution_count": 5,
     "metadata": {},
     "output_type": "execute_result"
    }
   ],
   "source": [
    "equations = [\n",
    "    [2, 1, 5],  # 2x + y = 5\n",
    "    [1, -1, 1]  # x - y = 1\n",
    "]\n",
    "\n",
    "solve_equations(equations)  \n"
   ]
  },
  {
   "cell_type": "code",
   "execution_count": 6,
   "metadata": {},
   "outputs": [
    {
     "name": "stdout",
     "output_type": "stream",
     "text": [
      "3\n"
     ]
    },
    {
     "ename": "ZeroDivisionError",
     "evalue": "division by zero",
     "output_type": "error",
     "traceback": [
      "\u001b[0;31m---------------------------------------------------------------------------\u001b[0m",
      "\u001b[0;31mZeroDivisionError\u001b[0m                         Traceback (most recent call last)",
      "\u001b[0;32m<ipython-input-6-6539d1c98e73>\u001b[0m in \u001b[0;36m<module>\u001b[0;34m\u001b[0m\n\u001b[1;32m      4\u001b[0m ]\n\u001b[1;32m      5\u001b[0m \u001b[0;34m\u001b[0m\u001b[0m\n\u001b[0;32m----> 6\u001b[0;31m \u001b[0msolve_equations\u001b[0m\u001b[0;34m(\u001b[0m\u001b[0mequations\u001b[0m\u001b[0;34m)\u001b[0m\u001b[0;34m\u001b[0m\u001b[0;34m\u001b[0m\u001b[0m\n\u001b[0m",
      "\u001b[0;32m<ipython-input-3-be2811166a77>\u001b[0m in \u001b[0;36msolve_equations\u001b[0;34m(equations)\u001b[0m\n\u001b[1;32m      5\u001b[0m \u001b[0;34m\u001b[0m\u001b[0m\n\u001b[1;32m      6\u001b[0m     \u001b[0;32melse\u001b[0m\u001b[0;34m:\u001b[0m\u001b[0;34m\u001b[0m\u001b[0;34m\u001b[0m\u001b[0m\n\u001b[0;32m----> 7\u001b[0;31m         \u001b[0mreduced\u001b[0m\u001b[0;34m=\u001b[0m\u001b[0meliminate_variable\u001b[0m\u001b[0;34m(\u001b[0m\u001b[0mequations\u001b[0m\u001b[0;34m,\u001b[0m\u001b[0;36m0\u001b[0m\u001b[0;34m)\u001b[0m\u001b[0;34m\u001b[0m\u001b[0;34m\u001b[0m\u001b[0m\n\u001b[0m\u001b[1;32m      8\u001b[0m         \u001b[0mprint\u001b[0m\u001b[0;34m(\u001b[0m\u001b[0;34mf\"reduced: {reduced}\"\u001b[0m\u001b[0;34m)\u001b[0m\u001b[0;34m\u001b[0m\u001b[0;34m\u001b[0m\u001b[0m\n\u001b[1;32m      9\u001b[0m         \u001b[0msub_solution\u001b[0m\u001b[0;34m=\u001b[0m\u001b[0msolve_equations\u001b[0m\u001b[0;34m(\u001b[0m\u001b[0mreduced\u001b[0m\u001b[0;34m)\u001b[0m\u001b[0;34m\u001b[0m\u001b[0;34m\u001b[0m\u001b[0m\n",
      "\u001b[0;32m<ipython-input-2-2a6b2a57396c>\u001b[0m in \u001b[0;36meliminate_variable\u001b[0;34m(equation, var_index)\u001b[0m\n\u001b[1;32m      3\u001b[0m     \u001b[0mnew_equations\u001b[0m\u001b[0;34m=\u001b[0m\u001b[0;34m[\u001b[0m\u001b[0;34m]\u001b[0m\u001b[0;34m\u001b[0m\u001b[0;34m\u001b[0m\u001b[0m\n\u001b[1;32m      4\u001b[0m     \u001b[0;32mfor\u001b[0m \u001b[0meq\u001b[0m \u001b[0;32min\u001b[0m \u001b[0mequation\u001b[0m\u001b[0;34m[\u001b[0m\u001b[0;36m1\u001b[0m\u001b[0;34m:\u001b[0m\u001b[0;34m]\u001b[0m\u001b[0;34m:\u001b[0m\u001b[0;34m\u001b[0m\u001b[0;34m\u001b[0m\u001b[0m\n\u001b[0;32m----> 5\u001b[0;31m         \u001b[0mfactor\u001b[0m\u001b[0;34m=\u001b[0m\u001b[0meq\u001b[0m\u001b[0;34m[\u001b[0m\u001b[0mvar_index\u001b[0m\u001b[0;34m]\u001b[0m\u001b[0;34m/\u001b[0m\u001b[0mpivot\u001b[0m\u001b[0;34m[\u001b[0m\u001b[0mvar_index\u001b[0m\u001b[0;34m]\u001b[0m\u001b[0;34m\u001b[0m\u001b[0;34m\u001b[0m\u001b[0m\n\u001b[0m\u001b[1;32m      6\u001b[0m         new_eq=[\n\u001b[1;32m      7\u001b[0m             \u001b[0meq\u001b[0m\u001b[0;34m[\u001b[0m\u001b[0mi\u001b[0m\u001b[0;34m]\u001b[0m\u001b[0;34m-\u001b[0m\u001b[0mfactor\u001b[0m\u001b[0;34m*\u001b[0m\u001b[0mpivot\u001b[0m\u001b[0;34m[\u001b[0m\u001b[0mi\u001b[0m\u001b[0;34m]\u001b[0m\u001b[0;34m\u001b[0m\u001b[0;34m\u001b[0m\u001b[0m\n",
      "\u001b[0;31mZeroDivisionError\u001b[0m: division by zero"
     ]
    }
   ],
   "source": [
    "equations = [\n",
    "    [0, 1, 5],  #  y = 5\n",
    "    [1, -1, 1]  # x - y = 1\n",
    "]\n",
    "\n",
    "solve_equations(equations)  \n"
   ]
  },
  {
   "cell_type": "code",
   "execution_count": null,
   "metadata": {},
   "outputs": [],
   "source": [
    "#Fix the pivot problem\n",
    "#order of n3"
   ]
  }
 ],
 "metadata": {
  "kernelspec": {
   "display_name": "Python 3",
   "language": "python",
   "name": "python3"
  },
  "language_info": {
   "codemirror_mode": {
    "name": "ipython",
    "version": 3
   },
   "file_extension": ".py",
   "mimetype": "text/x-python",
   "name": "python",
   "nbconvert_exporter": "python",
   "pygments_lexer": "ipython3",
   "version": "3.6.8"
  },
  "toc": {
   "base_numbering": 1,
   "nav_menu": {},
   "number_sections": true,
   "sideBar": true,
   "skip_h1_title": false,
   "title_cell": "Table of Contents",
   "title_sidebar": "Contents",
   "toc_cell": false,
   "toc_position": {},
   "toc_section_display": true,
   "toc_window_display": false
  }
 },
 "nbformat": 4,
 "nbformat_minor": 2
}
