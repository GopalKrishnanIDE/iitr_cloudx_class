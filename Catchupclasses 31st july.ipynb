{
 "cells": [
  {
   "cell_type": "code",
   "execution_count": 3,
   "metadata": {},
   "outputs": [],
   "source": [
    "def divide_by2(num):\n",
    "    print(num)\n",
    "    if (num==1):\n",
    "        print(\"finished dividing\")\n",
    "    else:\n",
    "        num=num//2\n",
    "        divide_by2(num)"
   ]
  },
  {
   "cell_type": "code",
   "execution_count": 4,
   "metadata": {},
   "outputs": [
    {
     "name": "stdout",
     "output_type": "stream",
     "text": [
      "36\n",
      "18\n",
      "9\n",
      "4\n",
      "2\n",
      "1\n",
      "finished dividing\n"
     ]
    }
   ],
   "source": [
    "divide_by2(36)"
   ]
  },
  {
   "cell_type": "code",
   "execution_count": 7,
   "metadata": {},
   "outputs": [],
   "source": [
    "def hcf(a,b):\n",
    "    if (b==0):\n",
    "        print(f\"HCF is {a}\")\n",
    "    else:\n",
    "        hcf(b,a%b)"
   ]
  },
  {
   "cell_type": "code",
   "execution_count": 8,
   "metadata": {},
   "outputs": [
    {
     "name": "stdout",
     "output_type": "stream",
     "text": [
      "HCF is 21\n"
     ]
    }
   ],
   "source": [
    "hcf(1071,462)"
   ]
  },
  {
   "cell_type": "code",
   "execution_count": 10,
   "metadata": {},
   "outputs": [
    {
     "data": {
      "text/plain": [
       "7"
      ]
     },
     "execution_count": 10,
     "metadata": {},
     "output_type": "execute_result"
    }
   ],
   "source": [
    "len(my_list)"
   ]
  },
  {
   "cell_type": "code",
   "execution_count": 13,
   "metadata": {},
   "outputs": [
    {
     "name": "stdout",
     "output_type": "stream",
     "text": [
      "-2 4\n"
     ]
    }
   ],
   "source": [
    "my_list=[1,2,4,1,-2,3,4,-1]\n",
    "min_num=my_list[0]\n",
    "min_ind=0\n",
    "\n",
    "for num in range(1,len(my_list)):\n",
    "    if(my_list[num]<min_num):\n",
    "        min_num=my_list[num]\n",
    "        min_ind=num\n",
    "print(min_num,min_ind)\n",
    "        \n",
    "    "
   ]
  },
  {
   "cell_type": "code",
   "execution_count": 14,
   "metadata": {},
   "outputs": [],
   "source": [
    "def mymax_func(L1):\n",
    "    my_max=L1[0]\n",
    "    for num in L1[1:]:\n",
    "        if(num>my_max):\n",
    "            my_max=num\n",
    "    return my_max"
   ]
  },
  {
   "cell_type": "code",
   "execution_count": 16,
   "metadata": {},
   "outputs": [
    {
     "data": {
      "text/plain": [
       "100"
      ]
     },
     "execution_count": 16,
     "metadata": {},
     "output_type": "execute_result"
    }
   ],
   "source": [
    "mymax_func([1,2,4,1,-2,3,4,-1,100])"
   ]
  },
  {
   "cell_type": "code",
   "execution_count": 5,
   "metadata": {},
   "outputs": [],
   "source": [
    "#find the max adjacent gap L1 [1,3,5,98,3,5,11]-->95\n",
    "\n",
    "def find_adjmaxgap(L1):\n",
    "    adj_gap=0\n",
    "    for a in range(len(L1)-1):\n",
    "        gap=abs(L1[a]-L1[a+1])\n",
    "        print(gap)\n",
    "        if(gap>adj_gap):\n",
    "            adj_gap=gap\n",
    "    return adj_gap\n"
   ]
  },
  {
   "cell_type": "code",
   "execution_count": 6,
   "metadata": {},
   "outputs": [
    {
     "name": "stdout",
     "output_type": "stream",
     "text": [
      "2\n",
      "2\n",
      "93\n",
      "95\n",
      "2\n",
      "6\n"
     ]
    },
    {
     "data": {
      "text/plain": [
       "95"
      ]
     },
     "execution_count": 6,
     "metadata": {},
     "output_type": "execute_result"
    }
   ],
   "source": [
    "find_adjmaxgap([1,3,5,98,3,5,11])"
   ]
  },
  {
   "cell_type": "code",
   "execution_count": 9,
   "metadata": {
    "code_folding": []
   },
   "outputs": [],
   "source": [
    "def is_list_symmetric(L1):\n",
    "    length=len(L1)\n",
    "    for a in range(length-1):\n",
    "        if(L1[a]==L1[length-1-a]):\n",
    "            list=\"symmetric\"\n",
    "            \n",
    "        else:\n",
    "            list=\"unsymetric\"\n",
    "            return list\n",
    "            break\n",
    "    return list"
   ]
  },
  {
   "cell_type": "code",
   "execution_count": 31,
   "metadata": {},
   "outputs": [
    {
     "data": {
      "text/plain": [
       "'unsymetric'"
      ]
     },
     "execution_count": 31,
     "metadata": {},
     "output_type": "execute_result"
    }
   ],
   "source": [
    "is_list_symmetric([1,2,3,2,1,0])"
   ]
  },
  {
   "cell_type": "code",
   "execution_count": 28,
   "metadata": {},
   "outputs": [],
   "source": [
    "def is_list_symmetric2(L1):\n",
    "    rev_L1=L1[::-1]\n",
    "    if(L1==rev_L1):\n",
    "            list=\"symmetric\"        \n",
    "    else:\n",
    "            list=\"unsymetric\"\n",
    "    return list"
   ]
  },
  {
   "cell_type": "code",
   "execution_count": 30,
   "metadata": {},
   "outputs": [
    {
     "data": {
      "text/plain": [
       "'unsymetric'"
      ]
     },
     "execution_count": 30,
     "metadata": {},
     "output_type": "execute_result"
    }
   ],
   "source": [
    "is_list_symmetric2([1,2,3,2,1,0])"
   ]
  },
  {
   "cell_type": "code",
   "execution_count": 20,
   "metadata": {},
   "outputs": [],
   "source": [
    "L1=[1,2,3,4,3,2,1]"
   ]
  },
  {
   "cell_type": "code",
   "execution_count": 21,
   "metadata": {},
   "outputs": [],
   "source": [
    "rev_L1=L1.reverse"
   ]
  },
  {
   "cell_type": "code",
   "execution_count": 23,
   "metadata": {},
   "outputs": [
    {
     "data": {
      "text/plain": [
       "<function list.reverse>"
      ]
     },
     "execution_count": 23,
     "metadata": {},
     "output_type": "execute_result"
    }
   ],
   "source": [
    "L1.reverse"
   ]
  },
  {
   "cell_type": "code",
   "execution_count": 24,
   "metadata": {},
   "outputs": [
    {
     "name": "stdout",
     "output_type": "stream",
     "text": [
      "<built-in method reverse of list object at 0x7f7507e22c88>\n"
     ]
    }
   ],
   "source": [
    "print(rev_L1)"
   ]
  },
  {
   "cell_type": "code",
   "execution_count": 25,
   "metadata": {},
   "outputs": [
    {
     "name": "stdout",
     "output_type": "stream",
     "text": [
      "[1, 2, 3, 4, 3, 2, 1]\n"
     ]
    }
   ],
   "source": [
    "print(L1)"
   ]
  },
  {
   "cell_type": "code",
   "execution_count": 2,
   "metadata": {},
   "outputs": [],
   "source": [
    "def my_sqrt(num):\n",
    "    if(num>1):\n",
    "        left=1\n",
    "        right=num\n",
    "    else:\n",
    "        left=num\n",
    "        right=1\n",
    "    while True:\n",
    "        guess=(left+right)/2\n",
    "        result=guess*guess\n",
    "        print(f\"left: {left}, right: {right}, guess: {guess}, result: {result}, {result-num}\")\n",
    "        if(abs(result-num)<0.0001):\n",
    "            print(f\"your guess was right{guess},{result}\")\n",
    "            return guess\n",
    "        elif(result>num):\n",
    "            print(\"decrease your guess\")\n",
    "            right=guess\n",
    "        else:\n",
    "            print(\"increase your guess\")\n",
    "            left=guess\n",
    "        \n",
    "        "
   ]
  },
  {
   "cell_type": "code",
   "execution_count": 3,
   "metadata": {},
   "outputs": [
    {
     "name": "stdout",
     "output_type": "stream",
     "text": [
      "left: 0.5, right: 1, guess: 0.75, result: 0.5625, 0.0625\n",
      "decrease your guess\n",
      "left: 0.5, right: 0.75, guess: 0.625, result: 0.390625, -0.109375\n",
      "increase your guess\n",
      "left: 0.625, right: 0.75, guess: 0.6875, result: 0.47265625, -0.02734375\n",
      "increase your guess\n",
      "left: 0.6875, right: 0.75, guess: 0.71875, result: 0.5166015625, 0.0166015625\n",
      "decrease your guess\n",
      "left: 0.6875, right: 0.71875, guess: 0.703125, result: 0.494384765625, -0.005615234375\n",
      "increase your guess\n",
      "left: 0.703125, right: 0.71875, guess: 0.7109375, result: 0.50543212890625, 0.00543212890625\n",
      "decrease your guess\n",
      "left: 0.703125, right: 0.7109375, guess: 0.70703125, result: 0.4998931884765625, -0.0001068115234375\n",
      "increase your guess\n",
      "left: 0.70703125, right: 0.7109375, guess: 0.708984375, result: 0.5026588439941406, 0.002658843994140625\n",
      "decrease your guess\n",
      "left: 0.70703125, right: 0.708984375, guess: 0.7080078125, result: 0.5012750625610352, 0.0012750625610351562\n",
      "decrease your guess\n",
      "left: 0.70703125, right: 0.7080078125, guess: 0.70751953125, result: 0.5005838871002197, 0.0005838871002197266\n",
      "decrease your guess\n",
      "left: 0.70703125, right: 0.70751953125, guess: 0.707275390625, result: 0.5002384781837463, 0.0002384781837463379\n",
      "decrease your guess\n",
      "left: 0.70703125, right: 0.707275390625, guess: 0.7071533203125, result: 0.5000658184289932, 6.58184289932251e-05\n",
      "your guess was right0.7071533203125,0.5000658184289932\n"
     ]
    },
    {
     "data": {
      "text/plain": [
       "0.7071533203125"
      ]
     },
     "execution_count": 3,
     "metadata": {},
     "output_type": "execute_result"
    }
   ],
   "source": [
    "my_sqrt(0.5)"
   ]
  },
  {
   "cell_type": "code",
   "execution_count": 56,
   "metadata": {},
   "outputs": [],
   "source": [
    "def my_cuberoot(num):\n",
    "    if(num>1):\n",
    "        left=1\n",
    "        right=num\n",
    "    else:\n",
    "        left=num\n",
    "        right=1\n",
    "\n",
    "    while True:\n",
    "        guess=(left+right)/2\n",
    "        result=guess*guess*guess\n",
    "        print(f\"left: {left}, right: {right}, guess: {guess}, result: {result}, {result-num}\")\n",
    "        if(abs(result-num)<0.000001):\n",
    "            print(f\"your guess was right{guess},{result}\")\n",
    "            return guess\n",
    "        elif(result>num):\n",
    "            print(\"decrease your guess\")\n",
    "            right=guess\n",
    "        else:\n",
    "            print(\"increase your guess\")\n",
    "            left=guess"
   ]
  },
  {
   "cell_type": "code",
   "execution_count": 57,
   "metadata": {},
   "outputs": [
    {
     "name": "stdout",
     "output_type": "stream",
     "text": [
      "left: 0.008, right: 1, guess: 0.504, result: 0.12802406400000002, 0.12002406400000001\n",
      "decrease your guess\n",
      "left: 0.008, right: 0.504, guess: 0.256, result: 0.016777216, 0.008777216000000001\n",
      "decrease your guess\n",
      "left: 0.008, right: 0.256, guess: 0.132, result: 0.0022999680000000003, -0.005700032\n",
      "increase your guess\n",
      "left: 0.132, right: 0.256, guess: 0.194, result: 0.007301384000000001, -0.0006986159999999991\n",
      "increase your guess\n",
      "left: 0.194, right: 0.256, guess: 0.225, result: 0.011390625000000001, 0.0033906250000000013\n",
      "decrease your guess\n",
      "left: 0.194, right: 0.225, guess: 0.20950000000000002, result: 0.009195007375000001, 0.0011950073750000012\n",
      "decrease your guess\n",
      "left: 0.194, right: 0.20950000000000002, guess: 0.20175, result: 0.008211842859375002, 0.000211842859375002\n",
      "decrease your guess\n",
      "left: 0.194, right: 0.20175, guess: 0.19787500000000002, result: 0.007747699779296878, -0.000252300220703122\n",
      "increase your guess\n",
      "left: 0.19787500000000002, right: 0.20175, guess: 0.1998125, result: 0.007977521087158204, -2.247891284179633e-05\n",
      "increase your guess\n",
      "left: 0.1998125, right: 0.20175, guess: 0.20078125000000002, result: 0.00809411668777466, 9.411668777466013e-05\n",
      "decrease your guess\n",
      "left: 0.1998125, right: 0.20078125000000002, guess: 0.200296875, result: 0.008035677907024386, 3.567790702438574e-05\n",
      "decrease your guess\n",
      "left: 0.1998125, right: 0.200296875, guess: 0.2000546875, result: 0.008006564294597148, 6.5642945971475936e-06\n",
      "decrease your guess\n",
      "left: 0.1998125, right: 0.2000546875, guess: 0.19993359375, result: 0.007992033895581186, -7.96610441881375e-06\n",
      "increase your guess\n",
      "left: 0.19993359375, right: 0.2000546875, guess: 0.19999414062499998, result: 0.007999296895599162, -7.031044008381365e-07\n",
      "your guess was right0.19999414062499998,0.007999296895599162\n"
     ]
    },
    {
     "data": {
      "text/plain": [
       "0.19999414062499998"
      ]
     },
     "execution_count": 57,
     "metadata": {},
     "output_type": "execute_result"
    }
   ],
   "source": [
    "my_cuberoot(0.008)"
   ]
  },
  {
   "cell_type": "code",
   "execution_count": 55,
   "metadata": {},
   "outputs": [
    {
     "data": {
      "text/plain": [
       "0.008000000000000002"
      ]
     },
     "execution_count": 55,
     "metadata": {},
     "output_type": "execute_result"
    }
   ],
   "source": [
    "0.2*0.2*0.2"
   ]
  },
  {
   "cell_type": "code",
   "execution_count": 4,
   "metadata": {
    "code_folding": []
   },
   "outputs": [],
   "source": [
    "def my_logbase10(num):\n",
    "    if(num>10):\n",
    "        left=1\n",
    "        right=num\n",
    "    elif(num>=1):\n",
    "        left=0\n",
    "        right=1\n",
    "    elif(num<1):\n",
    "        guess=my_logbase10_less(num)\n",
    "        return guess\n",
    "    while True:\n",
    "        guess=(left+right)/2\n",
    "        result=10**guess\n",
    "        print(f\"left: {left}, right: {right}, guess: {guess}, result: {result}, {result-num}\")\n",
    "        if(abs(result-num)<0.0001):\n",
    "            print(f\"your guess was right{guess},{result}\")\n",
    "            return guess\n",
    "        elif(result>num):\n",
    "            print(\"decrease your guess\")\n",
    "            right=guess\n",
    "        else:\n",
    "            print(\"increase your guess\")\n",
    "            left=guess"
   ]
  },
  {
   "cell_type": "code",
   "execution_count": 11,
   "metadata": {
    "scrolled": true
   },
   "outputs": [
    {
     "name": "stdout",
     "output_type": "stream",
     "text": [
      "left: 0, right: 10, guess: -5.0, result: 1e-05, -0.10999\n",
      "increase your guess\n",
      "left: 0, right: 5.0, guess: -2.5, result: 0.0031622776601683794, -0.10683772233983162\n",
      "increase your guess\n",
      "left: 0, right: 2.5, guess: -1.25, result: 0.05623413251903491, -0.05376586748096509\n",
      "increase your guess\n",
      "left: 0, right: 1.25, guess: -0.625, result: 0.23713737056616552, 0.12713737056616553\n",
      "decrease your guess\n",
      "left: 0.625, right: 1.25, guess: -0.9375, result: 0.11547819846894582, 0.005478198468945816\n",
      "decrease your guess\n",
      "left: 0.9375, right: 1.25, guess: -1.09375, result: 0.08058421877614819, -0.029415781223851814\n",
      "increase your guess\n",
      "left: 0.9375, right: 1.09375, guess: -1.015625, result: 0.09646616199111992, -0.013533838008880084\n",
      "increase your guess\n",
      "left: 0.9375, right: 1.015625, guess: -0.9765625, result: 0.1055449600878603, -0.004455039912139705\n",
      "increase your guess\n",
      "left: 0.9375, right: 0.9765625, guess: -0.95703125, result: 0.11039991779173976, 0.0003999177917397567\n",
      "decrease your guess\n",
      "left: 0.95703125, right: 0.9765625, guess: -0.966796875, result: 0.10794514772342587, -0.0020548522765741345\n",
      "increase your guess\n",
      "left: 0.95703125, right: 0.966796875, guess: -0.9619140625, result: 0.10916563302927995, -0.0008343669707200491\n",
      "increase your guess\n",
      "left: 0.95703125, right: 0.9619140625, guess: -0.95947265625, result: 0.10978104076804764, -0.00021895923195236477\n",
      "increase your guess\n",
      "left: 0.95703125, right: 0.95947265625, guess: -0.958251953125, result: 0.11009004439950094, 9.004439950094367e-05\n",
      "decrease your guess\n",
      "left: 0.958251953125, right: 0.95947265625, guess: -0.9588623046875, result: 0.10993543401641614, -6.456598358385579e-05\n",
      "increase your guess\n",
      "left: 0.958251953125, right: 0.9588623046875, guess: -0.95855712890625, result: 0.11001271204704327, 1.2712047043270114e-05\n",
      "decrease your guess\n",
      "left: 0.95855712890625, right: 0.9588623046875, guess: -0.958709716796875, result: 0.1099740662438864, -2.5933756113594164e-05\n",
      "increase your guess\n",
      "left: 0.95855712890625, right: 0.958709716796875, guess: -0.9586334228515625, result: 0.10999338744820589, -6.612551794113464e-06\n",
      "increase your guess\n",
      "left: 0.95855712890625, right: 0.9586334228515625, guess: -0.9585952758789062, result: 0.11000304932327258, 3.04932327258034e-06\n",
      "decrease your guess\n",
      "left: 0.9585952758789062, right: 0.9586334228515625, guess: -0.9586143493652344, result: 0.10999821827965589, -1.7817203441100604e-06\n",
      "increase your guess\n",
      "left: 0.9585952758789062, right: 0.9586143493652344, guess: -0.9586048126220703, result: 0.11000063377494282, 6.337749428181327e-07\n",
      "decrease your guess\n",
      "left: 0.9586048126220703, right: 0.9586143493652344, guess: -0.9586095809936523, result: 0.10999942602066907, -5.739793309256225e-07\n",
      "increase your guess\n",
      "left: 0.9586048126220703, right: 0.9586095809936523, guess: -0.9586071968078613, result: 0.11000002989614836, 2.989614836246268e-08\n",
      "decrease your guess\n",
      "left: 0.9586071968078613, right: 0.9586095809936523, guess: -0.9586083889007568, result: 0.10999972795799433, -2.7204200567232384e-07\n",
      "increase your guess\n",
      "left: 0.9586071968078613, right: 0.9586083889007568, guess: -0.9586077928543091, result: 0.10999987892696775, -1.2107303225261656e-07\n",
      "increase your guess\n",
      "left: 0.9586071968078613, right: 0.9586077928543091, guess: -0.9586074948310852, result: 0.10999995441153215, -4.5588467847967884e-08\n",
      "increase your guess\n",
      "left: 0.9586071968078613, right: 0.9586074948310852, guess: -0.9586073458194733, result: 0.10999999215383378, -7.846166216740613e-09\n",
      "your guess was right-0.9586073458194733,0.10999999215383378\n"
     ]
    },
    {
     "data": {
      "text/plain": [
       "-0.9586073458194733"
      ]
     },
     "execution_count": 11,
     "metadata": {},
     "output_type": "execute_result"
    }
   ],
   "source": [
    "my_logbase10(0.11)"
   ]
  },
  {
   "cell_type": "code",
   "execution_count": 125,
   "metadata": {},
   "outputs": [
    {
     "data": {
      "text/plain": [
       "-1.3010299956639813"
      ]
     },
     "execution_count": 125,
     "metadata": {},
     "output_type": "execute_result"
    }
   ],
   "source": [
    "import math\n",
    "math.log10(0.05)"
   ]
  },
  {
   "cell_type": "code",
   "execution_count": 100,
   "metadata": {},
   "outputs": [
    {
     "data": {
      "text/plain": [
       "0.0001"
      ]
     },
     "execution_count": 100,
     "metadata": {},
     "output_type": "execute_result"
    }
   ],
   "source": [
    "10**(-4)"
   ]
  },
  {
   "cell_type": "code",
   "execution_count": 62,
   "metadata": {},
   "outputs": [
    {
     "data": {
      "text/plain": [
       "0.01"
      ]
     },
     "execution_count": 62,
     "metadata": {},
     "output_type": "execute_result"
    }
   ],
   "source": [
    "10*0.001"
   ]
  },
  {
   "cell_type": "code",
   "execution_count": 65,
   "metadata": {},
   "outputs": [
    {
     "data": {
      "text/plain": [
       "0.01"
      ]
     },
     "execution_count": 65,
     "metadata": {},
     "output_type": "execute_result"
    }
   ],
   "source": [
    "10**(-2)"
   ]
  },
  {
   "cell_type": "code",
   "execution_count": 64,
   "metadata": {},
   "outputs": [
    {
     "data": {
      "text/plain": [
       "1.2589254117941673"
      ]
     },
     "execution_count": 64,
     "metadata": {},
     "output_type": "execute_result"
    }
   ],
   "source": [
    "10**(0.1)"
   ]
  },
  {
   "cell_type": "code",
   "execution_count": 9,
   "metadata": {},
   "outputs": [],
   "source": [
    "def my_logbase10_less(num):\n",
    "    if(num<1):\n",
    "        left=0\n",
    "        right=10 \n",
    "    while True:\n",
    "        guess=(left+right)/2\n",
    "        result=10**(-guess)\n",
    "        print(f\"left: {left}, right: {right}, guess: {-guess}, result: {result}, {result-num}\")\n",
    "        if(abs(result-num)<0.00000001):\n",
    "            print(f\"your guess was right{-guess},{result}\")\n",
    "            return -guess\n",
    "        elif(result>num):\n",
    "            print(\"decrease your guess\")\n",
    "            left=guess\n",
    "        else:\n",
    "            print(\"increase your guess\")\n",
    "            right=guess"
   ]
  },
  {
   "cell_type": "code",
   "execution_count": 10,
   "metadata": {},
   "outputs": [
    {
     "name": "stdout",
     "output_type": "stream",
     "text": [
      "left: 0, right: 10, guess: -5.0, result: 1e-05, -9e-05\n",
      "increase your guess\n",
      "left: 0, right: 5.0, guess: -2.5, result: 0.0031622776601683794, 0.0030622776601683796\n",
      "decrease your guess\n",
      "left: 2.5, right: 5.0, guess: -3.75, result: 0.00017782794100389227, 7.782794100389226e-05\n",
      "decrease your guess\n",
      "left: 3.75, right: 5.0, guess: -4.375, result: 4.216965034285822e-05, -5.783034965714178e-05\n",
      "increase your guess\n",
      "left: 3.75, right: 4.375, guess: -4.0625, result: 8.659643233600654e-05, -1.3403567663993469e-05\n",
      "increase your guess\n",
      "left: 3.75, right: 4.0625, guess: -3.90625, result: 0.00012409377607517196, 2.4093776075171955e-05\n",
      "decrease your guess\n",
      "left: 3.90625, right: 4.0625, guess: -3.984375, result: 0.0001036632928437698, 3.663292843769791e-06\n",
      "decrease your guess\n",
      "left: 3.984375, right: 4.0625, guess: -4.0234375, result: 9.474635256553755e-05, -5.253647434462459e-06\n",
      "increase your guess\n",
      "left: 3.984375, right: 4.0234375, guess: -4.00390625, result: 9.910458562488609e-05, -8.954143751139176e-07\n",
      "increase your guess\n",
      "left: 3.984375, right: 4.00390625, guess: -3.994140625, result: 0.00010135831333340657, 1.3583133334065667e-06\n",
      "decrease your guess\n",
      "left: 3.994140625, right: 4.00390625, guess: -3.9990234375, result: 0.0001002251148292913, 2.2511482929129048e-07\n",
      "decrease your guess\n",
      "left: 3.9990234375, right: 4.00390625, guess: -4.00146484375, result: 9.966327545472073e-05, -3.367245452792745e-07\n",
      "increase your guess\n",
      "left: 3.9990234375, right: 4.00146484375, guess: -4.000244140625, result: 9.994380034155532e-05, -5.6199658444685326e-08\n",
      "increase your guess\n",
      "left: 3.9990234375, right: 4.000244140625, guess: -3.9996337890625, result: 0.00010008435874655013, 8.435874655012042e-08\n",
      "decrease your guess\n",
      "left: 3.9996337890625, right: 4.000244140625, guess: -3.99993896484375, result: 0.00010001405485169473, 1.40548516947231e-08\n",
      "decrease your guess\n",
      "left: 3.99993896484375, right: 4.000244140625, guess: -4.000091552734375, result: 9.997892142570422e-05, -2.1078574295784e-08\n",
      "increase your guess\n",
      "left: 3.99993896484375, right: 4.000091552734375, guess: -4.0000152587890625, result: 9.999648659569825e-05, -3.5134043017579983e-09\n",
      "your guess was right-4.0000152587890625,9.999648659569825e-05\n"
     ]
    },
    {
     "data": {
      "text/plain": [
       "-4.0000152587890625"
      ]
     },
     "execution_count": 10,
     "metadata": {},
     "output_type": "execute_result"
    }
   ],
   "source": [
    "my_logbase10_less(0.0001)"
   ]
  },
  {
   "cell_type": "code",
   "execution_count": null,
   "metadata": {},
   "outputs": [],
   "source": []
  }
 ],
 "metadata": {
  "kernelspec": {
   "display_name": "Python 3",
   "language": "python",
   "name": "python3"
  },
  "language_info": {
   "codemirror_mode": {
    "name": "ipython",
    "version": 3
   },
   "file_extension": ".py",
   "mimetype": "text/x-python",
   "name": "python",
   "nbconvert_exporter": "python",
   "pygments_lexer": "ipython3",
   "version": "3.6.8"
  },
  "toc": {
   "base_numbering": 1,
   "nav_menu": {},
   "number_sections": true,
   "sideBar": true,
   "skip_h1_title": false,
   "title_cell": "Table of Contents",
   "title_sidebar": "Contents",
   "toc_cell": false,
   "toc_position": {},
   "toc_section_display": true,
   "toc_window_display": false
  }
 },
 "nbformat": 4,
 "nbformat_minor": 2
}
